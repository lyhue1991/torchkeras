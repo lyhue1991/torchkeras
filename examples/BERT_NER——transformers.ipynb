{
 "cells": [
  {
   "cell_type": "markdown",
   "id": "31b8944e-8163-4fcb-bd2b-5ae9935a913e",
   "metadata": {},
   "source": [
    "# BERT命名实体识别NER"
   ]
  },
  {
   "cell_type": "markdown",
   "id": "62754378-3a58-4c65-8017-f19a78554206",
   "metadata": {},
   "source": [
    "😋😋公众号算法美食屋后台回复关键词：**torchkeras**，获取本文notebook源代码和数据集下载链接。"
   ]
  },
  {
   "cell_type": "markdown",
   "id": "c24ed255-7add-4184-8033-6e13ff802f62",
   "metadata": {},
   "source": [
    "命名实体识别NER任务是NLP的一个常见任务，\n",
    "\n",
    "它是Named Entity Recognization的简称。\n",
    "\n",
    "简单地说，就是识别一个句子中的各种 名称实体，诸如：人名，地名，机构 等。\n",
    "\n",
    "例如对于下面这句话：\n",
    "\n",
    "```\n",
    "小明对小红说:\"你听说过安利吗？\"\n",
    "```\n",
    "\n",
    "它的NER抽取结果如下:\n",
    "\n",
    "```\n",
    "[{'entity': 'person',\n",
    "  'word': '小明',\n",
    "  'start': 0,\n",
    "  'end': 2},\n",
    " {'entity': 'person',\n",
    "  'word': '小红',\n",
    "  'start': 3,\n",
    "  'end': 5},\n",
    " {'entity': 'organization',\n",
    "  'word': '安利',\n",
    "  'start': 12,\n",
    "  'end': 14}】\n",
    "\n",
    "```\n",
    "\n",
    "本质上NER是一个token classification任务， 需要把文本中的每一个token做一个分类。\n",
    "\n",
    "那些不是命名实体的token，一般用大'O'表示。\n",
    "\n",
    "值得注意的是，由于有些命名实体是由连续的多个token构成的，为了避免有两个连续的相同的命名实体无法区分，需要对token是否处于命名实体的开头进行区分。\n",
    "\n",
    "例如，对于 '我爱北京天安门' 这句话。如果我们不区分token是否为命名实体的开头的话，可能会得到这样的token分类结果。\n",
    "\n",
    "'''\n",
    "我(O) 爱(O) 北(Loc) 京(Loc) 天(Loc) 安(Loc) 门(Loc)\n",
    "'''\n",
    "\n",
    "然后我们做后处理的时候，把类别相同的token连起来，会得到一个location实体 '北京天安门'。\n",
    "\n",
    "\n",
    "但是，’北京‘ 和 ’天安门‘ 是两个不同的location实体，把它们区分开来更加合理一些. 因此我们可以这样对token进行分类。\n",
    "\n",
    "我(O) 爱(O) 北(B-Loc) 京(I-Loc) 天(B-Loc) 安(I-Loc) 门(I-Loc)\n",
    "\n",
    "我们用 B-Loc表示这个token是一个location实体的开始token，用I-Loc表示这个token是一个location实体的内部(包括中间以及结尾)token. 这样，我们做后处理的时候，就可以把 B-loc以及它后面的 I-loc连成一个实体。这样就可以得到’北京‘ 和 ’天安门‘ 是两个不同的location的结果了。\n",
    "\n",
    "区分token是否是entity开头的好处是我们可以把连续的同一类别的的命名实体进行区分，坏处是分类数量会几乎翻倍(n+1->2n+1)。\n",
    "在许多情况下，出现这种连续的同命名实体并不常见，但为了稳妥起见，区分token是否是entity开头还是十分必要的。"
   ]
  },
  {
   "cell_type": "code",
   "execution_count": null,
   "id": "ac22c0f6-a9f1-4120-afa1-cff2ab1c2455",
   "metadata": {},
   "outputs": [],
   "source": []
  },
  {
   "cell_type": "markdown",
   "id": "30575a92-6e23-43f4-aad2-8a713605f285",
   "metadata": {},
   "source": [
    "## 一，准备数据"
   ]
  },
  {
   "cell_type": "markdown",
   "id": "ec0f8980-0a16-4477-ae25-071b92af3db3",
   "metadata": {},
   "source": [
    "公众号算法美食屋后台回复关键词：torchkeras，获取本文notebook代码和车道线数据集下载链接。"
   ]
  },
  {
   "cell_type": "code",
   "execution_count": 1,
   "id": "a62aa31e-a84a-4a18-ba8d-191216e51e59",
   "metadata": {},
   "outputs": [],
   "source": [
    "import numpy as np \n",
    "import pandas as pd \n",
    "\n",
    "from transformers import BertTokenizer\n",
    "from torch.utils.data import DataLoader,Dataset \n",
    "from transformers import DataCollatorForTokenClassification\n",
    "import datasets  \n",
    "\n"
   ]
  },
  {
   "cell_type": "markdown",
   "id": "a66ee482-62e2-4c27-ad98-5887463bff3e",
   "metadata": {},
   "source": [
    "### 1，数据加载"
   ]
  },
  {
   "cell_type": "code",
   "execution_count": 3,
   "id": "2b918503-7c22-49dd-aa2e-d86fb7df3986",
   "metadata": {},
   "outputs": [],
   "source": [
    "datadir = \"./data/cluener_public/\"\n",
    "\n",
    "train_path = datadir+\"train.json\"\n",
    "val_path = datadir+\"dev.json\"\n",
    "\n",
    "dftrain = pd.read_json(train_path,lines=True)\n",
    "dfval = pd.read_json(train_path,lines=True)\n",
    "\n",
    "entities = ['address','book','company','game','government','movie',\n",
    "              'name','organization','position','scene']\n",
    "\n",
    "label_names = ['O']+['B-'+x for x in entities]+['I-'+x for x in entities]\n",
    "\n",
    "id2label = {i: label for i, label in enumerate(label_names)}\n",
    "label2id = {v: k for k, v in id2label.items()}\n"
   ]
  },
  {
   "cell_type": "code",
   "execution_count": 4,
   "id": "9077c987-edee-492f-9885-d9b32bc30da4",
   "metadata": {},
   "outputs": [
    {
     "name": "stdout",
     "output_type": "stream",
     "text": [
      "世上或许有两个人并不那么喜欢LewisCarroll的原著小说《爱丽斯梦游奇境》(\n",
      "{'book': {'《爱丽斯梦游奇境》': [[31, 39]]}, 'name': {'LewisCarroll': [[14, 25]]}}\n"
     ]
    }
   ],
   "source": [
    "text = dftrain[\"text\"][43]\n",
    "label = dftrain[\"label\"][43]\n",
    "\n",
    "print(text)\n",
    "print(label)"
   ]
  },
  {
   "cell_type": "code",
   "execution_count": null,
   "id": "9927db52-81ad-448c-bd5a-8e359492a01c",
   "metadata": {},
   "outputs": [],
   "source": []
  },
  {
   "cell_type": "markdown",
   "id": "ad34f5b4-6e46-49ec-b14c-018a207bddc7",
   "metadata": {},
   "source": [
    "### 2，文本分词"
   ]
  },
  {
   "cell_type": "code",
   "execution_count": 5,
   "id": "0aac2f1f-66f5-4ae0-ae81-b499d555eeae",
   "metadata": {},
   "outputs": [
    {
     "name": "stdout",
     "output_type": "stream",
     "text": [
      "BertTokenizer(name_or_path='bert-base-chinese', vocab_size=21128, model_max_length=512, is_fast=False, padding_side='right', truncation_side='right', special_tokens={'unk_token': '[UNK]', 'sep_token': '[SEP]', 'pad_token': '[PAD]', 'cls_token': '[CLS]', 'mask_token': '[MASK]'}, clean_up_tokenization_spaces=True)\n"
     ]
    }
   ],
   "source": [
    "from transformers import BertTokenizer\n",
    "model_name = 'bert-base-chinese'\n",
    "tokenizer = BertTokenizer.from_pretrained(model_name) \n",
    "print(tokenizer) "
   ]
  },
  {
   "cell_type": "code",
   "execution_count": 6,
   "id": "543d2714-bea4-445e-91dd-09d1a3d5600b",
   "metadata": {},
   "outputs": [
    {
     "name": "stdout",
     "output_type": "stream",
     "text": [
      "[101, 686, 677, 2772, 6387, 3300, 697, 702, 782, 2400, 679, 6929, 720, 1599, 3614, 100, 4638, 1333, 5865, 2207, 6432, 517, 4263, 714, 3172, 3457, 3952, 1936, 1862, 518, 113, 102]\n"
     ]
    }
   ],
   "source": [
    "tokenized_input = tokenizer(text)\n",
    "print(tokenized_input[\"input_ids\"])"
   ]
  },
  {
   "cell_type": "code",
   "execution_count": 7,
   "id": "0b83a262-8ea2-4543-b31f-81b34f242576",
   "metadata": {},
   "outputs": [
    {
     "name": "stdout",
     "output_type": "stream",
     "text": [
      "[CLS]\n",
      "世\n",
      "上\n",
      "或\n",
      "许\n",
      "有\n",
      "两\n",
      "个\n",
      "人\n",
      "并\n",
      "不\n",
      "那\n",
      "么\n",
      "喜\n",
      "欢\n",
      "[UNK]\n",
      "的\n",
      "原\n",
      "著\n",
      "小\n",
      "说\n",
      "《\n",
      "爱\n",
      "丽\n",
      "斯\n",
      "梦\n",
      "游\n",
      "奇\n",
      "境\n",
      "》\n",
      "(\n",
      "[SEP]\n"
     ]
    }
   ],
   "source": [
    "#可以从id还原每个token对应的字符组合\n",
    "tokens = tokenizer.convert_ids_to_tokens(tokenized_input[\"input_ids\"])\n",
    "for t in tokens:\n",
    "    print(t)"
   ]
  },
  {
   "cell_type": "code",
   "execution_count": null,
   "id": "af4b2324-1fbc-4037-b53d-95d9026ad24f",
   "metadata": {},
   "outputs": [],
   "source": []
  },
  {
   "cell_type": "markdown",
   "id": "e0704f41-daed-4a06-aea3-b57c8853c630",
   "metadata": {},
   "source": [
    "### 3，标签对齐"
   ]
  },
  {
   "cell_type": "markdown",
   "id": "9e8f61c4-ea7c-4931-9f3f-7b88092aeda2",
   "metadata": {},
   "source": [
    "可以看到，经过文本分词后的token长度与文本长度并不相同，\n",
    "\n",
    "主要有以下一些原因导致：一是BERT分词后会增加一些特殊字符如 `[CLS]`,`[SEP]`\n",
    "\n",
    "二是，还会有一些英文单词的subword作为一个 token. (如这个例子中的 'charles')，\n",
    "\n",
    "此外，还有一些未在词典中的元素被标记为`[UNK]`会造成影响。\n",
    "\n",
    "因此需要给这些token赋予正确的label不是一个容易的事情。\n",
    "\n",
    "我们分两步走，第一步，把原始的dict形式的label转换成字符级别的char_label\n",
    "\n",
    "第二步，再将char_label对齐到token_label"
   ]
  },
  {
   "cell_type": "code",
   "execution_count": 8,
   "id": "0ae31f51-a48a-48bd-92a6-6b4e587f1acd",
   "metadata": {},
   "outputs": [],
   "source": [
    "# 把 label格式转化成字符级别的char_label\n",
    "def get_char_label(text,label):\n",
    "    char_label = ['O' for x in text]\n",
    "    for tp,dic in label.items():\n",
    "        for word,idxs in dic.items():\n",
    "            idx_start = idxs[0][0]\n",
    "            idx_end = idxs[0][1]\n",
    "            char_label[idx_start] = 'B-'+tp\n",
    "            char_label[idx_start+1:idx_end+1] = ['I-'+tp for x in range(idx_start+1,idx_end+1)]\n",
    "    return char_label \n"
   ]
  },
  {
   "cell_type": "code",
   "execution_count": 9,
   "id": "3f58b7aa-5af5-4b7a-8d31-bf5a24b782da",
   "metadata": {},
   "outputs": [
    {
     "name": "stdout",
     "output_type": "stream",
     "text": [
      "世\tO\n",
      "上\tO\n",
      "或\tO\n",
      "许\tO\n",
      "有\tO\n",
      "两\tO\n",
      "个\tO\n",
      "人\tO\n",
      "并\tO\n",
      "不\tO\n",
      "那\tO\n",
      "么\tO\n",
      "喜\tO\n",
      "欢\tO\n",
      "L\tB-name\n",
      "e\tI-name\n",
      "w\tI-name\n",
      "i\tI-name\n",
      "s\tI-name\n",
      "C\tI-name\n",
      "a\tI-name\n",
      "r\tI-name\n",
      "r\tI-name\n",
      "o\tI-name\n",
      "l\tI-name\n",
      "l\tI-name\n",
      "的\tO\n",
      "原\tO\n",
      "著\tO\n",
      "小\tO\n",
      "说\tO\n",
      "《\tB-book\n",
      "爱\tI-book\n",
      "丽\tI-book\n",
      "斯\tI-book\n",
      "梦\tI-book\n",
      "游\tI-book\n",
      "奇\tI-book\n",
      "境\tI-book\n",
      "》\tI-book\n",
      "(\tO\n"
     ]
    }
   ],
   "source": [
    "char_label = get_char_label(text,label)\n",
    "for char,char_tp in zip(text,char_label):\n",
    "    print(char+'\\t'+char_tp)"
   ]
  },
  {
   "cell_type": "code",
   "execution_count": 10,
   "id": "01168cfa-209f-4859-ad95-e79900d58aa3",
   "metadata": {},
   "outputs": [],
   "source": [
    "def get_token_label(text, char_label, tokenizer):\n",
    "    tokenized_input = tokenizer(text)\n",
    "    tokens = tokenizer.convert_ids_to_tokens(tokenized_input[\"input_ids\"])\n",
    "    \n",
    "    iter_tokens = iter(tokens)\n",
    "    iter_char_label = iter(char_label)  \n",
    "    iter_text = iter(text.lower()) \n",
    "\n",
    "    token_labels = []\n",
    "\n",
    "    t = next(iter_tokens)\n",
    "    char = next(iter_text)\n",
    "    char_tp = next(iter_char_label)\n",
    "\n",
    "    while True:\n",
    "        #单个字符token(如汉字)直接赋给对应字符token\n",
    "        if len(t)==1:\n",
    "            assert t==char\n",
    "            token_labels.append(char_tp)   \n",
    "            try:\n",
    "                char = next(iter_text)\n",
    "                char_tp = next(iter_char_label)\n",
    "            except StopIteration:\n",
    "                pass  \n",
    "\n",
    "        #添加的特殊token如[CLS],[SEP],排除[UNK]\n",
    "        elif t in tokenizer.special_tokens_map.values() and t!='[UNK]':\n",
    "            token_labels.append('O')              \n",
    "\n",
    "\n",
    "        elif t=='[UNK]':\n",
    "            token_labels.append(char_tp) \n",
    "            #重新对齐\n",
    "            try:\n",
    "                t = next(iter_tokens)\n",
    "            except StopIteration:\n",
    "                break \n",
    "\n",
    "            if t not in tokenizer.special_tokens_map.values():\n",
    "                while char!=t[0]:\n",
    "                    try:\n",
    "                        char = next(iter_text)\n",
    "                        char_tp = next(iter_char_label)\n",
    "                    except StopIteration:\n",
    "                        pass    \n",
    "            continue\n",
    "\n",
    "        #其它长度大于1的token，如英文token\n",
    "        else:\n",
    "            t_label = char_tp\n",
    "            t = t.replace('##','') #移除因为subword引入的'##'符号\n",
    "            for c in t:\n",
    "                assert c==char or char not in tokenizer.vocab\n",
    "                if t_label!='O':\n",
    "                    t_label=char_tp\n",
    "                try:\n",
    "                    char = next(iter_text)\n",
    "                    char_tp = next(iter_char_label)\n",
    "                except StopIteration:\n",
    "                    pass    \n",
    "            token_labels.append(t_label) \n",
    "\n",
    "        try:\n",
    "            t = next(iter_tokens)\n",
    "        except StopIteration:\n",
    "            break  \n",
    "            \n",
    "    assert len(token_labels)==len(tokens)\n",
    "    return token_labels \n",
    "    "
   ]
  },
  {
   "cell_type": "code",
   "execution_count": 11,
   "id": "8130a474-755c-4721-808f-32b004a27a20",
   "metadata": {},
   "outputs": [],
   "source": [
    "token_labels = get_token_label(text,char_label,tokenizer)\n"
   ]
  },
  {
   "cell_type": "code",
   "execution_count": 12,
   "id": "e9b3b41b-c73e-4bc9-893d-87396ba18768",
   "metadata": {},
   "outputs": [
    {
     "name": "stdout",
     "output_type": "stream",
     "text": [
      "[CLS] \t O\n",
      "世 \t O\n",
      "上 \t O\n",
      "或 \t O\n",
      "许 \t O\n",
      "有 \t O\n",
      "两 \t O\n",
      "个 \t O\n",
      "人 \t O\n",
      "并 \t O\n",
      "不 \t O\n",
      "那 \t O\n",
      "么 \t O\n",
      "喜 \t O\n",
      "欢 \t O\n",
      "[UNK] \t B-name\n",
      "的 \t O\n",
      "原 \t O\n",
      "著 \t O\n",
      "小 \t O\n",
      "说 \t O\n",
      "《 \t B-book\n",
      "爱 \t I-book\n",
      "丽 \t I-book\n",
      "斯 \t I-book\n",
      "梦 \t I-book\n",
      "游 \t I-book\n",
      "奇 \t I-book\n",
      "境 \t I-book\n",
      "》 \t I-book\n",
      "( \t O\n",
      "[SEP] \t O\n"
     ]
    }
   ],
   "source": [
    "for t,t_label in zip(tokens,token_labels):\n",
    "    print(t,'\\t',t_label)\n",
    "    "
   ]
  },
  {
   "cell_type": "code",
   "execution_count": null,
   "id": "c8805c17-eb3e-4b01-a6ec-43db9c62dea0",
   "metadata": {},
   "outputs": [],
   "source": []
  },
  {
   "cell_type": "markdown",
   "id": "a2312b15-1f8b-4615-b9a4-4e1e2a50e1ea",
   "metadata": {},
   "source": [
    "### 4，构建管道"
   ]
  },
  {
   "cell_type": "code",
   "execution_count": 13,
   "id": "cf94d599-6f94-46db-9f28-cd8556043601",
   "metadata": {},
   "outputs": [
    {
     "data": {
      "text/html": [
       "<div>\n",
       "<style scoped>\n",
       "    .dataframe tbody tr th:only-of-type {\n",
       "        vertical-align: middle;\n",
       "    }\n",
       "\n",
       "    .dataframe tbody tr th {\n",
       "        vertical-align: top;\n",
       "    }\n",
       "\n",
       "    .dataframe thead th {\n",
       "        text-align: right;\n",
       "    }\n",
       "</style>\n",
       "<table border=\"1\" class=\"dataframe\">\n",
       "  <thead>\n",
       "    <tr style=\"text-align: right;\">\n",
       "      <th></th>\n",
       "      <th>text</th>\n",
       "      <th>label</th>\n",
       "    </tr>\n",
       "  </thead>\n",
       "  <tbody>\n",
       "    <tr>\n",
       "      <th>0</th>\n",
       "      <td>浙商银行企业信贷部叶老桂博士则从另一个角度对五道门槛进行了解读。叶老桂认为，对目前国内商业银...</td>\n",
       "      <td>{'name': {'叶老桂': [[9, 11]]}, 'company': {'浙商银行...</td>\n",
       "    </tr>\n",
       "    <tr>\n",
       "      <th>1</th>\n",
       "      <td>生生不息CSOL生化狂潮让你填弹狂扫</td>\n",
       "      <td>{'game': {'CSOL': [[4, 7]]}}</td>\n",
       "    </tr>\n",
       "    <tr>\n",
       "      <th>2</th>\n",
       "      <td>那不勒斯vs锡耶纳以及桑普vs热那亚之上呢？</td>\n",
       "      <td>{'organization': {'那不勒斯': [[0, 3]], '锡耶纳': [[6...</td>\n",
       "    </tr>\n",
       "    <tr>\n",
       "      <th>3</th>\n",
       "      <td>加勒比海盗3：世界尽头》的去年同期成绩死死甩在身后，后者则即将赶超《变形金刚》，</td>\n",
       "      <td>{'movie': {'加勒比海盗3：世界尽头》': [[0, 11]], '《变形金刚》'...</td>\n",
       "    </tr>\n",
       "    <tr>\n",
       "      <th>4</th>\n",
       "      <td>布鲁京斯研究所桑顿中国中心研究部主任李成说，东亚的和平与安全，是美国的“核心利益”之一。</td>\n",
       "      <td>{'address': {'美国': [[32, 33]]}, 'organization'...</td>\n",
       "    </tr>\n",
       "  </tbody>\n",
       "</table>\n",
       "</div>"
      ],
      "text/plain": [
       "                                                text  \\\n",
       "0  浙商银行企业信贷部叶老桂博士则从另一个角度对五道门槛进行了解读。叶老桂认为，对目前国内商业银...   \n",
       "1                                 生生不息CSOL生化狂潮让你填弹狂扫   \n",
       "2                             那不勒斯vs锡耶纳以及桑普vs热那亚之上呢？   \n",
       "3           加勒比海盗3：世界尽头》的去年同期成绩死死甩在身后，后者则即将赶超《变形金刚》，   \n",
       "4       布鲁京斯研究所桑顿中国中心研究部主任李成说，东亚的和平与安全，是美国的“核心利益”之一。   \n",
       "\n",
       "                                               label  \n",
       "0  {'name': {'叶老桂': [[9, 11]]}, 'company': {'浙商银行...  \n",
       "1                       {'game': {'CSOL': [[4, 7]]}}  \n",
       "2  {'organization': {'那不勒斯': [[0, 3]], '锡耶纳': [[6...  \n",
       "3  {'movie': {'加勒比海盗3：世界尽头》': [[0, 11]], '《变形金刚》'...  \n",
       "4  {'address': {'美国': [[32, 33]]}, 'organization'...  "
      ]
     },
     "execution_count": 13,
     "metadata": {},
     "output_type": "execute_result"
    }
   ],
   "source": [
    "dftrain.head() "
   ]
  },
  {
   "cell_type": "code",
   "execution_count": 14,
   "id": "287408f1-79b8-4456-ba65-0d006cdb2e3d",
   "metadata": {},
   "outputs": [],
   "source": [
    "def make_sample(text,label,tokenizer):\n",
    "    sample = tokenizer(text)\n",
    "    char_label = get_char_label(text,label)\n",
    "    token_label = get_token_label(text,char_label,tokenizer)\n",
    "    sample['labels'] = [label2id[x] for x in token_label]\n",
    "    return sample "
   ]
  },
  {
   "cell_type": "code",
   "execution_count": 15,
   "id": "f8881334-399d-4339-867a-d50ca1809bbc",
   "metadata": {},
   "outputs": [
    {
     "name": "stderr",
     "output_type": "stream",
     "text": [
      "100%|██████████| 10748/10748 [00:06<00:00, 1717.47it/s]\n",
      "100%|██████████| 10748/10748 [00:06<00:00, 1711.10it/s]\n"
     ]
    }
   ],
   "source": [
    "from tqdm import tqdm \n",
    "train_samples = [make_sample(text,label,tokenizer) for text,label in \n",
    "                 tqdm(list(zip(dftrain['text'],dftrain['label'])))]\n",
    "val_samples = [make_sample(text,label,tokenizer) for text,label in \n",
    "                 tqdm(list(zip(dfval['text'],dfval['label'])))]\n"
   ]
  },
  {
   "cell_type": "code",
   "execution_count": 16,
   "id": "1c71aeed-22ed-4064-a8fc-f79784a6b819",
   "metadata": {},
   "outputs": [],
   "source": [
    "ds_train = datasets.Dataset.from_list(train_samples)\n",
    "ds_val = datasets.Dataset.from_list(val_samples)\n"
   ]
  },
  {
   "cell_type": "code",
   "execution_count": 17,
   "id": "55021f14-029c-4fa9-ae18-b668d1450d12",
   "metadata": {},
   "outputs": [],
   "source": [
    "data_collator = DataCollatorForTokenClassification(tokenizer=tokenizer)\n",
    "dl_train = DataLoader(ds_train,batch_size=8,collate_fn=data_collator)\n",
    "dl_val = DataLoader(ds_val,batch_size=8,collate_fn=data_collator)\n",
    "\n"
   ]
  },
  {
   "cell_type": "code",
   "execution_count": 136,
   "id": "5130a81d-4af5-4895-b2d0-9f7e090d8316",
   "metadata": {},
   "outputs": [],
   "source": [
    "for batch in dl_train:\n",
    "    break "
   ]
  },
  {
   "cell_type": "code",
   "execution_count": null,
   "id": "74b20fe0-df1e-4b31-9640-3362c12d3a8f",
   "metadata": {},
   "outputs": [],
   "source": []
  },
  {
   "cell_type": "code",
   "execution_count": null,
   "id": "c646df44-2f76-4383-a6b9-8cefa9972f69",
   "metadata": {},
   "outputs": [],
   "source": []
  },
  {
   "cell_type": "markdown",
   "id": "f1b7953f-ed3d-463f-ba1d-b5a9209592c3",
   "metadata": {},
   "source": [
    "## 二，定义模型"
   ]
  },
  {
   "cell_type": "code",
   "execution_count": 137,
   "id": "e5404c3e-e8e0-445a-9231-84fd4aeb2c9a",
   "metadata": {},
   "outputs": [
    {
     "name": "stderr",
     "output_type": "stream",
     "text": [
      "Some weights of the model checkpoint at bert-base-chinese were not used when initializing BertForTokenClassification: ['cls.predictions.transform.LayerNorm.bias', 'cls.seq_relationship.weight', 'cls.predictions.transform.LayerNorm.weight', 'cls.predictions.transform.dense.bias', 'cls.seq_relationship.bias', 'cls.predictions.bias', 'cls.predictions.transform.dense.weight']\n",
      "- This IS expected if you are initializing BertForTokenClassification from the checkpoint of a model trained on another task or with another architecture (e.g. initializing a BertForSequenceClassification model from a BertForPreTraining model).\n",
      "- This IS NOT expected if you are initializing BertForTokenClassification from the checkpoint of a model that you expect to be exactly identical (initializing a BertForSequenceClassification model from a BertForSequenceClassification model).\n",
      "Some weights of BertForTokenClassification were not initialized from the model checkpoint at bert-base-chinese and are newly initialized: ['classifier.weight', 'classifier.bias']\n",
      "You should probably TRAIN this model on a down-stream task to be able to use it for predictions and inference.\n"
     ]
    },
    {
     "name": "stdout",
     "output_type": "stream",
     "text": [
      "21\n",
      "tensor(3.0772, grad_fn=<NllLossBackward0>)\n",
      "torch.Size([8, 52, 21])\n"
     ]
    }
   ],
   "source": [
    "from transformers import BertForTokenClassification\n",
    "\n",
    "net = BertForTokenClassification.from_pretrained(\n",
    "    model_name,\n",
    "    id2label=id2label,\n",
    "    label2id=label2id,\n",
    ")\n",
    "\n",
    "#冻结bert基模型参数\n",
    "for para in net.bert.parameters():\n",
    "    para.requires_grad_(False)\n",
    "\n",
    "print(net.config.num_labels) \n",
    "\n",
    "#模型试算\n",
    "out = net(**batch)\n",
    "print(out.loss) \n",
    "print(out.logits.shape)  \n",
    "\n"
   ]
  },
  {
   "cell_type": "code",
   "execution_count": null,
   "id": "7e1b12a5-81db-4d76-b523-c478a5b3ccaf",
   "metadata": {},
   "outputs": [],
   "source": []
  },
  {
   "cell_type": "code",
   "execution_count": null,
   "id": "80be6739-d40f-4247-838f-594b6e14b349",
   "metadata": {},
   "outputs": [],
   "source": []
  },
  {
   "cell_type": "markdown",
   "id": "05e048b7-d5de-47bf-bfa0-bef80212767f",
   "metadata": {},
   "source": [
    "## 三，训练模型"
   ]
  },
  {
   "cell_type": "code",
   "execution_count": 138,
   "id": "8490a0a4-c941-4adc-89f6-bf248e59c908",
   "metadata": {},
   "outputs": [],
   "source": [
    "import torch \n",
    "from torchkeras import KerasModel \n",
    "\n",
    "#我们需要修改StepRunner以适应transformers的数据集格式\n",
    "\n",
    "class StepRunner:\n",
    "    def __init__(self, net, loss_fn, accelerator, stage = \"train\", metrics_dict = None, \n",
    "                 optimizer = None, lr_scheduler = None\n",
    "                 ):\n",
    "        self.net,self.loss_fn,self.metrics_dict,self.stage = net,loss_fn,metrics_dict,stage\n",
    "        self.optimizer,self.lr_scheduler = optimizer,lr_scheduler\n",
    "        self.accelerator = accelerator\n",
    "        if self.stage=='train':\n",
    "            self.net.train() \n",
    "        else:\n",
    "            self.net.eval()\n",
    "    \n",
    "    def __call__(self, batch):\n",
    "        \n",
    "        out = self.net(**batch)\n",
    "        \n",
    "        #loss\n",
    "        loss= out.loss\n",
    "        \n",
    "        #preds\n",
    "        preds =(out.logits).argmax(axis=2) \n",
    "    \n",
    "        #backward()\n",
    "        if self.optimizer is not None and self.stage==\"train\":\n",
    "            self.accelerator.backward(loss)\n",
    "            self.optimizer.step()\n",
    "            if self.lr_scheduler is not None:\n",
    "                self.lr_scheduler.step()\n",
    "            self.optimizer.zero_grad()\n",
    "        \n",
    "        all_loss = self.accelerator.gather(loss).sum()\n",
    "        \n",
    "        labels = batch['labels']\n",
    "        \n",
    "        #precision & recall\n",
    "        \n",
    "        precision =  (((preds>0)&(preds==labels)).sum())/(\n",
    "            torch.maximum((preds>0).sum(),torch.tensor(1.0).to(preds.device)))\n",
    "        recall =  (((labels>0)&(preds==labels)).sum())/(\n",
    "            torch.maximum((labels>0).sum(),torch.tensor(1.0).to(labels.device)))\n",
    "    \n",
    "        \n",
    "        all_precision = self.accelerator.gather(precision).mean()\n",
    "        all_recall = self.accelerator.gather(recall).mean()\n",
    "        \n",
    "        f1 = 2*all_precision*all_recall/torch.maximum(\n",
    "            all_recall+all_precision,torch.tensor(1.0).to(labels.device))\n",
    "        \n",
    "        #losses\n",
    "        step_losses = {self.stage+\"_loss\":all_loss.item(), \n",
    "                       self.stage+'_precision':all_precision.item(),\n",
    "                       self.stage+'_recall':all_recall.item(),\n",
    "                       self.stage+'_f1':f1.item()\n",
    "                      }\n",
    "        \n",
    "        #metrics\n",
    "        step_metrics = {}\n",
    "        \n",
    "        if self.stage==\"train\":\n",
    "            if self.optimizer is not None:\n",
    "                step_metrics['lr'] = self.optimizer.state_dict()['param_groups'][0]['lr']\n",
    "            else:\n",
    "                step_metrics['lr'] = 0.0\n",
    "        return step_losses,step_metrics\n",
    "    \n",
    "KerasModel.StepRunner = StepRunner \n"
   ]
  },
  {
   "cell_type": "code",
   "execution_count": 158,
   "id": "3d3c2df1-f614-4efb-bf48-33dc8e0d64f0",
   "metadata": {},
   "outputs": [],
   "source": [
    "optimizer = torch.optim.AdamW(net.parameters(), lr=3e-5)\n",
    "\n",
    "keras_model = KerasModel(net,\n",
    "                   loss_fn=None,\n",
    "                   optimizer = optimizer\n",
    "                   )\n"
   ]
  },
  {
   "cell_type": "code",
   "execution_count": null,
   "id": "c811af7a-4bb0-4376-bc8b-e7427e55c52b",
   "metadata": {},
   "outputs": [],
   "source": []
  },
  {
   "cell_type": "code",
   "execution_count": 159,
   "id": "c61dafd7-9c68-4577-915a-383e289f231b",
   "metadata": {},
   "outputs": [
    {
     "name": "stdout",
     "output_type": "stream",
     "text": [
      "\u001b[0;31m<<<<<< ⚡️ cuda is used >>>>>>\u001b[0m\n"
     ]
    },
    {
     "data": {
      "image/png": "[encoded data removed]",
      "text/plain": [
       "<Figure size 600x400 with 1 Axes>"
      ]
     },
     "metadata": {},
     "output_type": "display_data"
    },
    {
     "data": {
      "text/html": [
       "\n",
       "<style>\n",
       "    /* background: */\n",
       "    progress::-webkit-progress-bar {background-color: #CDCDCD; width: 100%;}\n",
       "    progress {background-color: #CDCDCD;}\n",
       "\n",
       "    /* value: */\n",
       "    progress::-webkit-progress-value {background-color: #00BFFF  !important;}\n",
       "    progress::-moz-progress-bar {background-color: #00BFFF  !important;}\n",
       "    progress {color: #00BFFF ;}\n",
       "\n",
       "    /* optional */\n",
       "    .progress-bar-interrupted, .progress-bar-interrupted::-webkit-progress-bar {\n",
       "        background: #000000;\n",
       "    }\n",
       "</style>\n"
      ],
      "text/plain": [
       "<IPython.core.display.HTML object>"
      ]
     },
     "metadata": {},
     "output_type": "display_data"
    },
    {
     "data": {
      "text/html": [
       "\n",
       "    <div>\n",
       "      <progress value='17' class='progress-bar-interrupted' max='50' style='width:300px; height:20px; vertical-align: middle;'></progress>\n",
       "      34.00% [17/50 08:30<16:31][earlystopping]\n",
       "      <br>\n",
       "      \n",
       "    </div>\n",
       "    "
      ],
      "text/plain": [
       "<IPython.core.display.HTML object>"
      ]
     },
     "metadata": {},
     "output_type": "display_data"
    },
    {
     "name": "stdout",
     "output_type": "stream",
     "text": [
      "\u001b[0;31m<<<<<< val_f1 without improvement in 5 epoch,early stopping >>>>>>\u001b[0m\n"
     ]
    },
    {
     "data": {
      "text/html": [
       "<div>\n",
       "<style scoped>\n",
       "    .dataframe tbody tr th:only-of-type {\n",
       "        vertical-align: middle;\n",
       "    }\n",
       "\n",
       "    .dataframe tbody tr th {\n",
       "        vertical-align: top;\n",
       "    }\n",
       "\n",
       "    .dataframe thead th {\n",
       "        text-align: right;\n",
       "    }\n",
       "</style>\n",
       "<table border=\"1\" class=\"dataframe\">\n",
       "  <thead>\n",
       "    <tr style=\"text-align: right;\">\n",
       "      <th></th>\n",
       "      <th>epoch</th>\n",
       "      <th>train_loss</th>\n",
       "      <th>train_precision</th>\n",
       "      <th>train_recall</th>\n",
       "      <th>train_f1</th>\n",
       "      <th>lr</th>\n",
       "      <th>val_loss</th>\n",
       "      <th>val_precision</th>\n",
       "      <th>val_recall</th>\n",
       "      <th>val_f1</th>\n",
       "    </tr>\n",
       "  </thead>\n",
       "  <tbody>\n",
       "    <tr>\n",
       "      <th>0</th>\n",
       "      <td>1</td>\n",
       "      <td>0.280753</td>\n",
       "      <td>0.661162</td>\n",
       "      <td>0.708562</td>\n",
       "      <td>0.678469</td>\n",
       "      <td>0.00003</td>\n",
       "      <td>0.233344</td>\n",
       "      <td>0.697657</td>\n",
       "      <td>0.763197</td>\n",
       "      <td>0.723983</td>\n",
       "    </tr>\n",
       "    <tr>\n",
       "      <th>1</th>\n",
       "      <td>2</td>\n",
       "      <td>0.280068</td>\n",
       "      <td>0.661054</td>\n",
       "      <td>0.707853</td>\n",
       "      <td>0.678095</td>\n",
       "      <td>0.00003</td>\n",
       "      <td>0.232841</td>\n",
       "      <td>0.698279</td>\n",
       "      <td>0.763289</td>\n",
       "      <td>0.724314</td>\n",
       "    </tr>\n",
       "    <tr>\n",
       "      <th>2</th>\n",
       "      <td>3</td>\n",
       "      <td>0.278366</td>\n",
       "      <td>0.663814</td>\n",
       "      <td>0.710813</td>\n",
       "      <td>0.681237</td>\n",
       "      <td>0.00003</td>\n",
       "      <td>0.232643</td>\n",
       "      <td>0.697586</td>\n",
       "      <td>0.763988</td>\n",
       "      <td>0.724272</td>\n",
       "    </tr>\n",
       "    <tr>\n",
       "      <th>3</th>\n",
       "      <td>4</td>\n",
       "      <td>0.278720</td>\n",
       "      <td>0.663917</td>\n",
       "      <td>0.709843</td>\n",
       "      <td>0.680477</td>\n",
       "      <td>0.00003</td>\n",
       "      <td>0.232322</td>\n",
       "      <td>0.698723</td>\n",
       "      <td>0.763469</td>\n",
       "      <td>0.724655</td>\n",
       "    </tr>\n",
       "    <tr>\n",
       "      <th>4</th>\n",
       "      <td>5</td>\n",
       "      <td>0.279467</td>\n",
       "      <td>0.662568</td>\n",
       "      <td>0.710921</td>\n",
       "      <td>0.680237</td>\n",
       "      <td>0.00003</td>\n",
       "      <td>0.232189</td>\n",
       "      <td>0.697799</td>\n",
       "      <td>0.764892</td>\n",
       "      <td>0.724802</td>\n",
       "    </tr>\n",
       "    <tr>\n",
       "      <th>5</th>\n",
       "      <td>6</td>\n",
       "      <td>0.278937</td>\n",
       "      <td>0.662431</td>\n",
       "      <td>0.710440</td>\n",
       "      <td>0.679740</td>\n",
       "      <td>0.00003</td>\n",
       "      <td>0.232076</td>\n",
       "      <td>0.697726</td>\n",
       "      <td>0.764980</td>\n",
       "      <td>0.724800</td>\n",
       "    </tr>\n",
       "    <tr>\n",
       "      <th>6</th>\n",
       "      <td>7</td>\n",
       "      <td>0.277210</td>\n",
       "      <td>0.663949</td>\n",
       "      <td>0.710058</td>\n",
       "      <td>0.680680</td>\n",
       "      <td>0.00003</td>\n",
       "      <td>0.231985</td>\n",
       "      <td>0.697693</td>\n",
       "      <td>0.764887</td>\n",
       "      <td>0.724733</td>\n",
       "    </tr>\n",
       "    <tr>\n",
       "      <th>7</th>\n",
       "      <td>8</td>\n",
       "      <td>0.278545</td>\n",
       "      <td>0.663654</td>\n",
       "      <td>0.711216</td>\n",
       "      <td>0.681124</td>\n",
       "      <td>0.00003</td>\n",
       "      <td>0.231924</td>\n",
       "      <td>0.697893</td>\n",
       "      <td>0.765281</td>\n",
       "      <td>0.725040</td>\n",
       "    </tr>\n",
       "    <tr>\n",
       "      <th>8</th>\n",
       "      <td>9</td>\n",
       "      <td>0.278285</td>\n",
       "      <td>0.662669</td>\n",
       "      <td>0.708992</td>\n",
       "      <td>0.679494</td>\n",
       "      <td>0.00003</td>\n",
       "      <td>0.231828</td>\n",
       "      <td>0.698353</td>\n",
       "      <td>0.765430</td>\n",
       "      <td>0.725370</td>\n",
       "    </tr>\n",
       "    <tr>\n",
       "      <th>9</th>\n",
       "      <td>10</td>\n",
       "      <td>0.277281</td>\n",
       "      <td>0.663959</td>\n",
       "      <td>0.710993</td>\n",
       "      <td>0.681228</td>\n",
       "      <td>0.00003</td>\n",
       "      <td>0.231806</td>\n",
       "      <td>0.697125</td>\n",
       "      <td>0.766040</td>\n",
       "      <td>0.724946</td>\n",
       "    </tr>\n",
       "    <tr>\n",
       "      <th>10</th>\n",
       "      <td>11</td>\n",
       "      <td>0.278197</td>\n",
       "      <td>0.663533</td>\n",
       "      <td>0.710416</td>\n",
       "      <td>0.680969</td>\n",
       "      <td>0.00003</td>\n",
       "      <td>0.231684</td>\n",
       "      <td>0.698009</td>\n",
       "      <td>0.765550</td>\n",
       "      <td>0.725177</td>\n",
       "    </tr>\n",
       "    <tr>\n",
       "      <th>11</th>\n",
       "      <td>12</td>\n",
       "      <td>0.278732</td>\n",
       "      <td>0.662374</td>\n",
       "      <td>0.710190</td>\n",
       "      <td>0.680012</td>\n",
       "      <td>0.00003</td>\n",
       "      <td>0.231538</td>\n",
       "      <td>0.698657</td>\n",
       "      <td>0.765585</td>\n",
       "      <td>0.725568</td>\n",
       "    </tr>\n",
       "    <tr>\n",
       "      <th>12</th>\n",
       "      <td>13</td>\n",
       "      <td>0.277496</td>\n",
       "      <td>0.664046</td>\n",
       "      <td>0.711030</td>\n",
       "      <td>0.681418</td>\n",
       "      <td>0.00003</td>\n",
       "      <td>0.231492</td>\n",
       "      <td>0.698746</td>\n",
       "      <td>0.765299</td>\n",
       "      <td>0.725462</td>\n",
       "    </tr>\n",
       "    <tr>\n",
       "      <th>13</th>\n",
       "      <td>14</td>\n",
       "      <td>0.277513</td>\n",
       "      <td>0.663730</td>\n",
       "      <td>0.710578</td>\n",
       "      <td>0.680840</td>\n",
       "      <td>0.00003</td>\n",
       "      <td>0.231564</td>\n",
       "      <td>0.697596</td>\n",
       "      <td>0.765870</td>\n",
       "      <td>0.725103</td>\n",
       "    </tr>\n",
       "    <tr>\n",
       "      <th>14</th>\n",
       "      <td>15</td>\n",
       "      <td>0.276898</td>\n",
       "      <td>0.663613</td>\n",
       "      <td>0.711514</td>\n",
       "      <td>0.681343</td>\n",
       "      <td>0.00003</td>\n",
       "      <td>0.231475</td>\n",
       "      <td>0.697581</td>\n",
       "      <td>0.765810</td>\n",
       "      <td>0.725047</td>\n",
       "    </tr>\n",
       "    <tr>\n",
       "      <th>15</th>\n",
       "      <td>16</td>\n",
       "      <td>0.277615</td>\n",
       "      <td>0.663486</td>\n",
       "      <td>0.711608</td>\n",
       "      <td>0.681136</td>\n",
       "      <td>0.00003</td>\n",
       "      <td>0.231406</td>\n",
       "      <td>0.698154</td>\n",
       "      <td>0.765119</td>\n",
       "      <td>0.725006</td>\n",
       "    </tr>\n",
       "    <tr>\n",
       "      <th>16</th>\n",
       "      <td>17</td>\n",
       "      <td>0.277530</td>\n",
       "      <td>0.662574</td>\n",
       "      <td>0.710733</td>\n",
       "      <td>0.680074</td>\n",
       "      <td>0.00003</td>\n",
       "      <td>0.231329</td>\n",
       "      <td>0.698158</td>\n",
       "      <td>0.765239</td>\n",
       "      <td>0.725082</td>\n",
       "    </tr>\n",
       "  </tbody>\n",
       "</table>\n",
       "</div>"
      ],
      "text/plain": [
       "    epoch  train_loss  train_precision  train_recall  train_f1       lr  \\\n",
       "0       1    0.280753         0.661162      0.708562  0.678469  0.00003   \n",
       "1       2    0.280068         0.661054      0.707853  0.678095  0.00003   \n",
       "2       3    0.278366         0.663814      0.710813  0.681237  0.00003   \n",
       "3       4    0.278720         0.663917      0.709843  0.680477  0.00003   \n",
       "4       5    0.279467         0.662568      0.710921  0.680237  0.00003   \n",
       "5       6    0.278937         0.662431      0.710440  0.679740  0.00003   \n",
       "6       7    0.277210         0.663949      0.710058  0.680680  0.00003   \n",
       "7       8    0.278545         0.663654      0.711216  0.681124  0.00003   \n",
       "8       9    0.278285         0.662669      0.708992  0.679494  0.00003   \n",
       "9      10    0.277281         0.663959      0.710993  0.681228  0.00003   \n",
       "10     11    0.278197         0.663533      0.710416  0.680969  0.00003   \n",
       "11     12    0.278732         0.662374      0.710190  0.680012  0.00003   \n",
       "12     13    0.277496         0.664046      0.711030  0.681418  0.00003   \n",
       "13     14    0.277513         0.663730      0.710578  0.680840  0.00003   \n",
       "14     15    0.276898         0.663613      0.711514  0.681343  0.00003   \n",
       "15     16    0.277615         0.663486      0.711608  0.681136  0.00003   \n",
       "16     17    0.277530         0.662574      0.710733  0.680074  0.00003   \n",
       "\n",
       "    val_loss  val_precision  val_recall    val_f1  \n",
       "0   0.233344       0.697657    0.763197  0.723983  \n",
       "1   0.232841       0.698279    0.763289  0.724314  \n",
       "2   0.232643       0.697586    0.763988  0.724272  \n",
       "3   0.232322       0.698723    0.763469  0.724655  \n",
       "4   0.232189       0.697799    0.764892  0.724802  \n",
       "5   0.232076       0.697726    0.764980  0.724800  \n",
       "6   0.231985       0.697693    0.764887  0.724733  \n",
       "7   0.231924       0.697893    0.765281  0.725040  \n",
       "8   0.231828       0.698353    0.765430  0.725370  \n",
       "9   0.231806       0.697125    0.766040  0.724946  \n",
       "10  0.231684       0.698009    0.765550  0.725177  \n",
       "11  0.231538       0.698657    0.765585  0.725568  \n",
       "12  0.231492       0.698746    0.765299  0.725462  \n",
       "13  0.231564       0.697596    0.765870  0.725103  \n",
       "14  0.231475       0.697581    0.765810  0.725047  \n",
       "15  0.231406       0.698154    0.765119  0.725006  \n",
       "16  0.231329       0.698158    0.765239  0.725082  "
      ]
     },
     "execution_count": 159,
     "metadata": {},
     "output_type": "execute_result"
    }
   ],
   "source": [
    "keras_model.fit(\n",
    "    train_data = dl_train,\n",
    "    val_data= dl_val,\n",
    "    ckpt_path='bert_ner.pt',\n",
    "    epochs=50,\n",
    "    patience=5,\n",
    "    monitor=\"val_f1\", \n",
    "    mode=\"max\",\n",
    "    plot = True,\n",
    "    wandb = False,\n",
    "    quiet = True\n",
    ")\n"
   ]
  },
  {
   "cell_type": "markdown",
   "id": "94c10e97-1da6-4f84-8754-d35768d0de2b",
   "metadata": {},
   "source": [
    "## 四，评估模型"
   ]
  },
  {
   "cell_type": "code",
   "execution_count": 160,
   "id": "fa3159ca-7fda-4d45-8500-834edc5b9c1e",
   "metadata": {},
   "outputs": [],
   "source": [
    "from torchmetrics import Accuracy"
   ]
  },
  {
   "cell_type": "code",
   "execution_count": 161,
   "id": "801cc5d8-eb68-495c-a54c-ea256bc02e47",
   "metadata": {},
   "outputs": [],
   "source": [
    "acc = Accuracy(task='multiclass',num_classes=21)\n",
    "acc = keras_model.accelerator.prepare(acc)\n",
    "\n",
    "dl_test = keras_model.accelerator.prepare(dl_val)\n",
    "net = keras_model.accelerator.prepare(net)"
   ]
  },
  {
   "cell_type": "code",
   "execution_count": 164,
   "id": "d4579ed5-e45c-4757-80ed-1a2207a59991",
   "metadata": {},
   "outputs": [
    {
     "name": "stderr",
     "output_type": "stream",
     "text": [
      "100%|██████████| 1344/1344 [00:12<00:00, 107.75it/s]\n"
     ]
    }
   ],
   "source": [
    "\n",
    "from tqdm import tqdm \n",
    "for batch in tqdm(dl_test):\n",
    "    with torch.no_grad():\n",
    "        outputs = net(**batch)\n",
    "        \n",
    "    labels = batch['labels']\n",
    "    labels[labels<0]=0\n",
    "    #preds\n",
    "    preds =(outputs.logits).argmax(axis=2) \n",
    "    acc.update(preds,labels)\n",
    "    "
   ]
  },
  {
   "cell_type": "code",
   "execution_count": 165,
   "id": "9cf4bbad-d2f4-431b-a614-419e234520c6",
   "metadata": {},
   "outputs": [
    {
     "data": {
      "text/plain": [
       "tensor(0.9178, device='cuda:0')"
      ]
     },
     "execution_count": 165,
     "metadata": {},
     "output_type": "execute_result"
    }
   ],
   "source": [
    "acc.compute()  #这里的acc包括了 ’O‘的分类结果，存在高估。"
   ]
  },
  {
   "cell_type": "markdown",
   "id": "9ff948f5-4356-47b4-b18b-2f02bb66b47f",
   "metadata": {},
   "source": []
  },
  {
   "cell_type": "code",
   "execution_count": null,
   "id": "2a87aed1-34d6-4588-bdd7-a8038892ed70",
   "metadata": {},
   "outputs": [],
   "source": []
  },
  {
   "cell_type": "markdown",
   "id": "904f651f-96e1-46ad-8c7f-3e4fdcf81218",
   "metadata": {},
   "source": [
    "## 五，使用模型"
   ]
  },
  {
   "cell_type": "markdown",
   "id": "c07e4869-40fe-4520-8fef-86a302684def",
   "metadata": {},
   "source": [
    "我们可以使用pipeline来串起整个预测流程.\n",
    "\n",
    "注意我们这里使用内置的'simple'这个aggregation_strategy，\n",
    "\n",
    "把应该归并的token自动归并成一个entity.\n"
   ]
  },
  {
   "cell_type": "code",
   "execution_count": 166,
   "id": "24cf1164-eb6b-48be-b148-c29fde546986",
   "metadata": {},
   "outputs": [],
   "source": [
    "from transformers import pipeline"
   ]
  },
  {
   "cell_type": "code",
   "execution_count": 167,
   "id": "933aacbe-cde1-49d7-9d06-baf563385e4c",
   "metadata": {},
   "outputs": [],
   "source": [
    "recognizer = pipeline(\"token-classification\", \n",
    "                      model=net, tokenizer=tokenizer, aggregation_strategy='simple')"
   ]
  },
  {
   "cell_type": "code",
   "execution_count": 168,
   "id": "c05d9178-2395-4498-8353-8dd0b9e3b1e7",
   "metadata": {},
   "outputs": [],
   "source": [
    "net.to('cpu');"
   ]
  },
  {
   "cell_type": "code",
   "execution_count": 169,
   "id": "39083269-fe16-4cdb-a46a-efc14de9e9a6",
   "metadata": {},
   "outputs": [
    {
     "data": {
      "text/plain": [
       "[{'entity_group': 'name',\n",
       "  'score': 0.6913842,\n",
       "  'word': '小 明',\n",
       "  'start': None,\n",
       "  'end': None},\n",
       " {'entity_group': 'name',\n",
       "  'score': 0.58951116,\n",
       "  'word': '小 红',\n",
       "  'start': None,\n",
       "  'end': None},\n",
       " {'entity_group': 'name',\n",
       "  'score': 0.74060774,\n",
       "  'word': '安 利',\n",
       "  'start': None,\n",
       "  'end': None}]"
      ]
     },
     "execution_count": 169,
     "metadata": {},
     "output_type": "execute_result"
    }
   ],
   "source": [
    "recognizer('小明对小红说，“你听说过安利吗？”')"
   ]
  },
  {
   "cell_type": "code",
   "execution_count": null,
   "id": "3d689cb7-83ac-45b1-8dd8-1d54b7cd6170",
   "metadata": {},
   "outputs": [],
   "source": []
  },
  {
   "cell_type": "markdown",
   "id": "e51d248d-f73f-40e9-9a36-b299b1d9c0e9",
   "metadata": {},
   "source": [
    "## 六，保存模型"
   ]
  },
  {
   "cell_type": "markdown",
   "id": "63f5f9f1-b230-4518-8412-de71aa1da45f",
   "metadata": {},
   "source": [
    "保存model和tokenizer之后，我们可以用一个pipeline加载，并进行批量预测。"
   ]
  },
  {
   "cell_type": "code",
   "execution_count": 170,
   "id": "22913dd2-869b-49f8-aad8-0f965706c539",
   "metadata": {},
   "outputs": [
    {
     "data": {
      "text/plain": [
       "('ner_bert/tokenizer_config.json',\n",
       " 'ner_bert/special_tokens_map.json',\n",
       " 'ner_bert/vocab.txt',\n",
       " 'ner_bert/added_tokens.json')"
      ]
     },
     "execution_count": 170,
     "metadata": {},
     "output_type": "execute_result"
    }
   ],
   "source": [
    "net.save_pretrained(\"ner_bert\")\n",
    "tokenizer.save_pretrained(\"ner_bert\")\n"
   ]
  },
  {
   "cell_type": "code",
   "execution_count": 171,
   "id": "48bb9d26-27f5-4686-bc8d-d72813a8909b",
   "metadata": {},
   "outputs": [],
   "source": [
    "recognizer = pipeline(\"token-classification\", \n",
    "                      model=\"ner_bert\",\n",
    "                      aggregation_strategy='simple')"
   ]
  },
  {
   "cell_type": "code",
   "execution_count": 172,
   "id": "5c761d0d-d28b-4f17-91b0-38e82bd48f3f",
   "metadata": {},
   "outputs": [
    {
     "data": {
      "text/plain": [
       "[{'entity_group': 'name',\n",
       "  'score': 0.6913842,\n",
       "  'word': '小 明',\n",
       "  'start': 0,\n",
       "  'end': 2},\n",
       " {'entity_group': 'name',\n",
       "  'score': 0.58951116,\n",
       "  'word': '小 红',\n",
       "  'start': 3,\n",
       "  'end': 5},\n",
       " {'entity_group': 'name',\n",
       "  'score': 0.74060774,\n",
       "  'word': '安 利',\n",
       "  'start': 12,\n",
       "  'end': 14}]"
      ]
     },
     "execution_count": 172,
     "metadata": {},
     "output_type": "execute_result"
    }
   ],
   "source": [
    "recognizer('小明对小红说，“你听说过安利吗？”')"
   ]
  },
  {
   "cell_type": "markdown",
   "id": "419fd868-e1cc-4c24-bf29-64fc9ecdc7e5",
   "metadata": {},
   "source": [
    "**如果本项目对你有所帮助，想鼓励一下作者，记得给本项目加一颗星星star⭐️，并分享给你的朋友们喔😊!** \n",
    "\n",
    "如果在torchkeras的使用中遇到问题，可以在项目中提交issue。\n",
    "\n",
    "如果想要获得更快的反馈或者与其他torchkeras用户小伙伴进行交流，\n",
    "\n",
    "可以在公众号算法美食屋后台回复关键字：**加群**。\n",
    "\n",
    "![](https://tva1.sinaimg.cn/large/e6c9d24egy1h41m2zugguj20k00b9q46.jpg)"
   ]
  }
 ],
 "metadata": {
  "kernelspec": {
   "display_name": "Python 3 (ipykernel)",
   "language": "python",
   "name": "python3"
  },
  "language_info": {
   "codemirror_mode": {
    "name": "ipython",
    "version": 3
   },
   "file_extension": ".py",
   "mimetype": "text/x-python",
   "name": "python",
   "nbconvert_exporter": "python",
   "pygments_lexer": "ipython3",
   "version": "3.9.0"
  }
 },
 "nbformat": 4,
 "nbformat_minor": 5
}
