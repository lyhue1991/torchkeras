{
 "cells": [
  {
   "cell_type": "markdown",
   "metadata": {},
   "source": [
    "\n",
    "\n",
    "\n",
    "\n",
    "\n",
    "\n",
    "\n",
    "\n",
    "\n",
    "\n",
    "\n"
   ]
  },
  {
   "cell_type": "markdown",
   "metadata": {},
   "source": [
    "# 使用QLoRA在Kaggle免费GPU上微调ChatGLM2"
   ]
  },
  {
   "cell_type": "markdown",
   "metadata": {},
   "source": [
    "😋😋公众号算法美食屋后台回复关键词：**torchkeras**，获取本文notebook源代码和数据集下载链接。"
   ]
  },
  {
   "cell_type": "markdown",
   "metadata": {},
   "source": [
    "前方干货预警：这篇文章可能是你目前能够找到的可以无痛跑通LLM微调并基本理解整个流程的门槛最低的入门范例。\n",
    "\n",
    "门槛低到什么程度，本范例假设你是一个三无用户。\n",
    "\n",
    "1，无NLP经验：你没有扎实的NLP理论知识，只有一些基本的炼丹经验。没关系，我们会在恰当的时候告诉你必要的原理。\n",
    "\n",
    "2，无GPU：你没有任何一块可以使用的GPU。没关系，我们直接在Kaggle环境上使用免费的P100GPU，并给没有kaggle使用经验的小伙伴提供kaggle免费GPU使用视频讲解指南。\n",
    "\n",
    "《Kaggle免费GPU使用攻略》 https://www.bilibili.com/video/BV1oa411u7uR/\n",
    "\n",
    "3，无数据集：你没有数据集，也不知道如何构建数据集。没关系，我们提供一个仅使用一条样本构成的数据集来微调ChatGLM2，并演示讲解数据的整个处理过程。\n",
    "\n",
    "备注：本篇文章是《单样本微调给ChatGLM2注入知识》的kaggel环境QLoRA适配与原理解析版本~\n",
    "\n"
   ]
  },
  {
   "cell_type": "code",
   "execution_count": 1,
   "metadata": {
    "execution": {
     "iopub.execute_input": "2023-07-15T23:18:08.187473Z",
     "iopub.status.busy": "2023-07-15T23:18:08.186787Z",
     "iopub.status.idle": "2023-07-15T23:20:08.860538Z",
     "shell.execute_reply": "2023-07-15T23:20:08.859208Z",
     "shell.execute_reply.started": "2023-07-15T23:18:08.187442Z"
    }
   },
   "outputs": [],
   "source": [
    "#安装环境\n",
    "\n",
    "#chatglm需要\n",
    "!pip install -q -U transformers\n",
    "\n",
    "#finetune需要\n",
    "!pip install -q 'bitsandbytes==0.39.1' #提供4bit量化支持，版本限制非常重要，否则可能报错\n",
    "!pip install -q datasets\n",
    "!pip install -q git+https://github.com/huggingface/accelerate\n",
    "!pip install  -q git+https://github.com/huggingface/peft  #使用最新版本非常重要，否则可能报错\n",
    "!pip install  -q git+https://github.com/lyhue1991/torchkeras "
   ]
  },
  {
   "cell_type": "code",
   "execution_count": 2,
   "metadata": {
    "execution": {
     "iopub.execute_input": "2023-07-15T23:20:27.486303Z",
     "iopub.status.busy": "2023-07-15T23:20:27.485865Z",
     "iopub.status.idle": "2023-07-15T23:20:30.441165Z",
     "shell.execute_reply": "2023-07-15T23:20:30.440204Z",
     "shell.execute_reply.started": "2023-07-15T23:20:27.486263Z"
    },
    "tags": []
   },
   "outputs": [],
   "source": [
    "# 导入常用模块\n",
    "import numpy as np\n",
    "import pandas as pd \n",
    "import torch\n",
    "from torch import nn \n",
    "from torch.utils.data import Dataset,DataLoader \n",
    "\n",
    "import warnings \n",
    "warnings.filterwarnings('ignore')\n",
    "\n"
   ]
  },
  {
   "cell_type": "code",
   "execution_count": 3,
   "metadata": {
    "execution": {
     "iopub.execute_input": "2023-07-15T23:20:30.445674Z",
     "iopub.status.busy": "2023-07-15T23:20:30.442870Z",
     "iopub.status.idle": "2023-07-15T23:20:30.452746Z",
     "shell.execute_reply": "2023-07-15T23:20:30.451588Z",
     "shell.execute_reply.started": "2023-07-15T23:20:30.445636Z"
    },
    "tags": []
   },
   "outputs": [
    {
     "name": "stdout",
     "output_type": "stream",
     "text": [
      "2.0.0\n"
     ]
    }
   ],
   "source": [
    "import torch \n",
    "print(torch.__version__)"
   ]
  },
  {
   "cell_type": "code",
   "execution_count": 4,
   "metadata": {
    "execution": {
     "iopub.execute_input": "2023-07-15T23:20:32.059624Z",
     "iopub.status.busy": "2023-07-15T23:20:32.059263Z",
     "iopub.status.idle": "2023-07-15T23:20:33.338580Z",
     "shell.execute_reply": "2023-07-15T23:20:33.337583Z",
     "shell.execute_reply.started": "2023-07-15T23:20:32.059595Z"
    },
    "tags": []
   },
   "outputs": [
    {
     "name": "stdout",
     "output_type": "stream",
     "text": [
      "4.30.2\n"
     ]
    }
   ],
   "source": [
    "import transformers\n",
    "print(transformers.__version__)"
   ]
  },
  {
   "cell_type": "code",
   "execution_count": 5,
   "metadata": {
    "execution": {
     "iopub.execute_input": "2023-07-15T23:20:35.198729Z",
     "iopub.status.busy": "2023-07-15T23:20:35.197039Z",
     "iopub.status.idle": "2023-07-15T23:20:46.438589Z",
     "shell.execute_reply": "2023-07-15T23:20:46.437400Z",
     "shell.execute_reply.started": "2023-07-15T23:20:35.198680Z"
    },
    "tags": []
   },
   "outputs": [
    {
     "name": "stdout",
     "output_type": "stream",
     "text": [
      "Name: bitsandbytes\n",
      "Version: 0.39.1\n",
      "Summary: k-bit optimizers and matrix multiplication routines.\n",
      "Home-page: https://github.com/TimDettmers/bitsandbytes\n",
      "Author: Tim Dettmers\n",
      "Author-email: dettmers@cs.washington.edu\n",
      "License: MIT\n",
      "Location: /opt/conda/lib/python3.10/site-packages\n",
      "Requires: \n",
      "Required-by: \n"
     ]
    }
   ],
   "source": [
    "!pip show bitsandbytes "
   ]
  },
  {
   "cell_type": "code",
   "execution_count": 6,
   "metadata": {
    "execution": {
     "iopub.execute_input": "2023-07-15T23:20:46.442686Z",
     "iopub.status.busy": "2023-07-15T23:20:46.442372Z",
     "iopub.status.idle": "2023-07-15T23:20:54.204393Z",
     "shell.execute_reply": "2023-07-15T23:20:54.203404Z",
     "shell.execute_reply.started": "2023-07-15T23:20:46.442656Z"
    },
    "tags": []
   },
   "outputs": [
    {
     "name": "stdout",
     "output_type": "stream",
     "text": [
      "\n",
      "===================================BUG REPORT===================================\n",
      "Welcome to bitsandbytes. For bug reports, please run\n",
      "\n",
      "python -m bitsandbytes\n",
      "\n",
      " and submit this information together with your error trace to: https://github.com/TimDettmers/bitsandbytes/issues\n",
      "================================================================================\n",
      "bin /opt/conda/lib/python3.10/site-packages/bitsandbytes/libbitsandbytes_cuda118_nocublaslt.so\n",
      "CUDA SETUP: CUDA runtime path found: /usr/local/cuda/lib64/libcudart.so\n",
      "CUDA SETUP: Highest compute capability among GPUs detected: 6.0\n",
      "CUDA SETUP: Detected CUDA version 118\n",
      "CUDA SETUP: Loading binary /opt/conda/lib/python3.10/site-packages/bitsandbytes/libbitsandbytes_cuda118_nocublaslt.so...\n",
      "0.4.0.dev0\n"
     ]
    }
   ],
   "source": [
    "import peft \n",
    "print(peft.__version__)"
   ]
  },
  {
   "cell_type": "code",
   "execution_count": 7,
   "metadata": {
    "execution": {
     "iopub.execute_input": "2023-07-15T23:20:54.207398Z",
     "iopub.status.busy": "2023-07-15T23:20:54.205764Z",
     "iopub.status.idle": "2023-07-15T23:20:54.212659Z",
     "shell.execute_reply": "2023-07-15T23:20:54.211632Z",
     "shell.execute_reply.started": "2023-07-15T23:20:54.207353Z"
    },
    "tags": []
   },
   "outputs": [
    {
     "name": "stdout",
     "output_type": "stream",
     "text": [
      "0.22.0.dev0\n"
     ]
    }
   ],
   "source": [
    "import accelerate \n",
    "print(accelerate.__version__)"
   ]
  },
  {
   "cell_type": "code",
   "execution_count": 8,
   "metadata": {
    "execution": {
     "iopub.execute_input": "2023-07-15T23:20:54.215379Z",
     "iopub.status.busy": "2023-07-15T23:20:54.215014Z",
     "iopub.status.idle": "2023-07-15T23:20:54.790292Z",
     "shell.execute_reply": "2023-07-15T23:20:54.789292Z",
     "shell.execute_reply.started": "2023-07-15T23:20:54.215334Z"
    },
    "tags": []
   },
   "outputs": [
    {
     "name": "stdout",
     "output_type": "stream",
     "text": [
      "3.9.2\n"
     ]
    }
   ],
   "source": [
    "import torchkeras \n",
    "print(torchkeras.__version__)"
   ]
  },
  {
   "cell_type": "markdown",
   "metadata": {},
   "source": [
    "## 〇，预训练模型"
   ]
  },
  {
   "cell_type": "markdown",
   "metadata": {},
   "source": [
    "我们先插入一些LLM的基础知识，然后加载并演示chatglm2-6b的使用方法。\n",
    "\n",
    "什么是ChatGLM2-6b？\n",
    "\n",
    "chatglm2是 Chat General Language Model Version2的缩写，翻译成中文就是，通用语言模型(GLM)的聊天(Chat)优化版本。\n",
    "\n",
    "6b的意思是6个billion,也就是60亿参数的大模型。\n",
    "\n",
    "整个名字中最核心的概念有两个：\n",
    "\n",
    "第一个是LM：语言模型。语言模型本质上只能做一件事情，那就是判断一段话像不像人话。为了实现这个功能，一般用几百上千T的文本数据对语言模型进行Pretrain。完成Pretrain之后，语言模型就可以做文字接龙游戏了。也就是给一段话的上半部分，它可以按照最像人话的方式进行文本生成，输出下半部分。\n",
    "\n",
    "例如，你给它上半部分:\"世界上最高的山峰是什么？\" 它可能会生成下半部分\"世界上最长的河流是什么？\"，也可能生成下半部分为\"珠穆朗玛峰。\" \n",
    "\n",
    "这两种文字接龙的方式都是合理的，这两段话在它的训练数据即各种互联网语料中都是常见的。但是显然，只有\"珠穆朗玛峰。\"这个结果才是属于符合人类偏好的。为了让LM按照人类偏好进行接龙，我们需要在预训练的基础上进行聊天优化。\n",
    "\n",
    "第二个是Chat: 聊天优化。聊天优化只有一个目的，那就是偏好对齐。本质上就是让语言模型能够按照符合人类对话偏好的方式去进行文字接龙。这里的Chat和ChatGPT的Chat是相同的意思，就是语言模型不仅仅是会说人话的，还得会聊天。\n",
    "\n",
    "这里的会聊天通常会用3H来衡量，那就是 helpful, honest, harmless。第一个helpful要求模型明白用户意图不能答非所问，第二个honest要求模型不能假话连篇满嘴跑火车也就是要避免幻觉。第三个harmless就是说模型要避免道德风险不能提供对人类社会有危害如黄色暴力等内容。\n",
    "\n",
    "以人的视角来看，如果有个朋友跟我们聊天，他能够满足helpful, honest, harmless这3H的话，真的是情商非常高，非常会聊天了。\n",
    "\n",
    "那么，如何训练出这样一个情商高会聊天的大语言模型呢？我们要走4个训练步骤。\n",
    "\n",
    "其中第0个步骤是为了让它懂人话(会接龙)，第1到3个步骤是让它懂聊天(会聊天)，一般把第2~3个步骤合起来叫做RLHF(ReinForce Learning From Human FeedBack)。\n",
    "\n",
    "step0，PT (预训练)。 Pretrain. 用海量清洗过的无标注普通文本数据训练模型的文字接龙能力。\n",
    "\n",
    "step1，SFT(指令微调)。Supervised FineTune. 人工标注数十至数百万对话数据进行初步的人类偏好对齐。\n",
    "\n",
    "step2，RM(奖励建模)。 Reward Model. 随机生成数十至数百万问题让模型多次采样回答，人工按照偏好符合程度排序打分。使用该份人工排序打分数据训练一个奖励模型，奖励模型可以对任何问题的回答按照人类偏好近似打分。\n",
    "\n",
    "step3，RL(强化学习)。 ReinForce Learning. 随机生成数千万数亿的问题让模型回答，根据奖励模型的反馈信号朝着人类偏好对齐的方向上进一步优化模型。\n",
    "\n",
    "![](../data/instructGPT.png)\n",
    "\n"
   ]
  },
  {
   "cell_type": "code",
   "execution_count": 9,
   "metadata": {
    "execution": {
     "iopub.execute_input": "2023-07-15T23:21:17.131071Z",
     "iopub.status.busy": "2023-07-15T23:21:17.130198Z",
     "iopub.status.idle": "2023-07-15T23:29:27.197688Z",
     "shell.execute_reply": "2023-07-15T23:29:27.196666Z",
     "shell.execute_reply.started": "2023-07-15T23:21:17.131035Z"
    },
    "tags": []
   },
   "outputs": [
    {
     "data": {
      "application/vnd.jupyter.widget-view+json": {
       "model_id": "038e8f8db883431c9084eb1417d68712",
       "version_major": 2,
       "version_minor": 0
      },
      "text/plain": [
       "Downloading (…)okenizer_config.json:   0%|          | 0.00/244 [00:00<?, ?B/s]"
      ]
     },
     "metadata": {},
     "output_type": "display_data"
    },
    {
     "data": {
      "application/vnd.jupyter.widget-view+json": {
       "model_id": "2fc2863ea5964ddfbe2797e9c5987963",
       "version_major": 2,
       "version_minor": 0
      },
      "text/plain": [
       "Downloading (…)enization_chatglm.py:   0%|          | 0.00/10.0k [00:00<?, ?B/s]"
      ]
     },
     "metadata": {},
     "output_type": "display_data"
    },
    {
     "name": "stderr",
     "output_type": "stream",
     "text": [
      "A new version of the following files was downloaded from https://huggingface.co/THUDM/chatglm2-6b:\n",
      "- tokenization_chatglm.py\n",
      ". Make sure to double-check they do not contain any added malicious code. To avoid downloading new versions of the code file, you can pin a revision.\n"
     ]
    },
    {
     "data": {
      "application/vnd.jupyter.widget-view+json": {
       "model_id": "d18bb3b4b43f4a4b844eaf1aece8c484",
       "version_major": 2,
       "version_minor": 0
      },
      "text/plain": [
       "Downloading tokenizer.model:   0%|          | 0.00/1.02M [00:00<?, ?B/s]"
      ]
     },
     "metadata": {},
     "output_type": "display_data"
    },
    {
     "data": {
      "application/vnd.jupyter.widget-view+json": {
       "model_id": "5ce8d2aff30346719aabc24f468b8aad",
       "version_major": 2,
       "version_minor": 0
      },
      "text/plain": [
       "Downloading (…)lve/main/config.json:   0%|          | 0.00/1.22k [00:00<?, ?B/s]"
      ]
     },
     "metadata": {},
     "output_type": "display_data"
    },
    {
     "data": {
      "application/vnd.jupyter.widget-view+json": {
       "model_id": "63e7462d805347048cb745f504776f76",
       "version_major": 2,
       "version_minor": 0
      },
      "text/plain": [
       "Downloading (…)iguration_chatglm.py:   0%|          | 0.00/2.25k [00:00<?, ?B/s]"
      ]
     },
     "metadata": {},
     "output_type": "display_data"
    },
    {
     "name": "stderr",
     "output_type": "stream",
     "text": [
      "A new version of the following files was downloaded from https://huggingface.co/THUDM/chatglm2-6b:\n",
      "- configuration_chatglm.py\n",
      ". Make sure to double-check they do not contain any added malicious code. To avoid downloading new versions of the code file, you can pin a revision.\n"
     ]
    },
    {
     "data": {
      "application/vnd.jupyter.widget-view+json": {
       "model_id": "e7aced9531054c0d9039dc6a05c28b43",
       "version_major": 2,
       "version_minor": 0
      },
      "text/plain": [
       "Downloading (…)/modeling_chatglm.py:   0%|          | 0.00/50.7k [00:00<?, ?B/s]"
      ]
     },
     "metadata": {},
     "output_type": "display_data"
    },
    {
     "data": {
      "application/vnd.jupyter.widget-view+json": {
       "model_id": "c46d60ba41d04570b1cf35e23c976253",
       "version_major": 2,
       "version_minor": 0
      },
      "text/plain": [
       "Downloading (…)main/quantization.py:   0%|          | 0.00/14.7k [00:00<?, ?B/s]"
      ]
     },
     "metadata": {},
     "output_type": "display_data"
    },
    {
     "name": "stderr",
     "output_type": "stream",
     "text": [
      "A new version of the following files was downloaded from https://huggingface.co/THUDM/chatglm2-6b:\n",
      "- quantization.py\n",
      ". Make sure to double-check they do not contain any added malicious code. To avoid downloading new versions of the code file, you can pin a revision.\n",
      "A new version of the following files was downloaded from https://huggingface.co/THUDM/chatglm2-6b:\n",
      "- modeling_chatglm.py\n",
      "- quantization.py\n",
      ". Make sure to double-check they do not contain any added malicious code. To avoid downloading new versions of the code file, you can pin a revision.\n"
     ]
    },
    {
     "data": {
      "application/vnd.jupyter.widget-view+json": {
       "model_id": "01d4665850da41d9807a1d0cc7c97f0e",
       "version_major": 2,
       "version_minor": 0
      },
      "text/plain": [
       "Downloading (…)model.bin.index.json:   0%|          | 0.00/20.4k [00:00<?, ?B/s]"
      ]
     },
     "metadata": {},
     "output_type": "display_data"
    },
    {
     "data": {
      "application/vnd.jupyter.widget-view+json": {
       "model_id": "bd084fdbcd7e4419ab4ca0c612bb2d5f",
       "version_major": 2,
       "version_minor": 0
      },
      "text/plain": [
       "Downloading shards:   0%|          | 0/7 [00:00<?, ?it/s]"
      ]
     },
     "metadata": {},
     "output_type": "display_data"
    },
    {
     "data": {
      "application/vnd.jupyter.widget-view+json": {
       "model_id": "8a24acf2f6d24f7195d1e49f1b597464",
       "version_major": 2,
       "version_minor": 0
      },
      "text/plain": [
       "Downloading (…)l-00001-of-00007.bin:   0%|          | 0.00/1.83G [00:00<?, ?B/s]"
      ]
     },
     "metadata": {},
     "output_type": "display_data"
    },
    {
     "data": {
      "application/vnd.jupyter.widget-view+json": {
       "model_id": "7152054afee34445a9998f33cd163ed4",
       "version_major": 2,
       "version_minor": 0
      },
      "text/plain": [
       "Downloading (…)l-00002-of-00007.bin:   0%|          | 0.00/1.97G [00:00<?, ?B/s]"
      ]
     },
     "metadata": {},
     "output_type": "display_data"
    },
    {
     "data": {
      "application/vnd.jupyter.widget-view+json": {
       "model_id": "d9d0dd6a32ce464193d63190602e9beb",
       "version_major": 2,
       "version_minor": 0
      },
      "text/plain": [
       "Downloading (…)l-00003-of-00007.bin:   0%|          | 0.00/1.93G [00:00<?, ?B/s]"
      ]
     },
     "metadata": {},
     "output_type": "display_data"
    },
    {
     "data": {
      "application/vnd.jupyter.widget-view+json": {
       "model_id": "a3ffb74d93d9488e9311ecc0aa0ef407",
       "version_major": 2,
       "version_minor": 0
      },
      "text/plain": [
       "Downloading (…)l-00004-of-00007.bin:   0%|          | 0.00/1.82G [00:00<?, ?B/s]"
      ]
     },
     "metadata": {},
     "output_type": "display_data"
    },
    {
     "data": {
      "application/vnd.jupyter.widget-view+json": {
       "model_id": "8a5a8d1919cc48afa9f7ed839ee50eec",
       "version_major": 2,
       "version_minor": 0
      },
      "text/plain": [
       "Downloading (…)l-00005-of-00007.bin:   0%|          | 0.00/1.97G [00:00<?, ?B/s]"
      ]
     },
     "metadata": {},
     "output_type": "display_data"
    },
    {
     "data": {
      "application/vnd.jupyter.widget-view+json": {
       "model_id": "bd777398ea0d428a9bd5fcb77c82c26c",
       "version_major": 2,
       "version_minor": 0
      },
      "text/plain": [
       "Downloading (…)l-00006-of-00007.bin:   0%|          | 0.00/1.93G [00:00<?, ?B/s]"
      ]
     },
     "metadata": {},
     "output_type": "display_data"
    },
    {
     "data": {
      "application/vnd.jupyter.widget-view+json": {
       "model_id": "8c1703d7865d4732bcf314a46d3d160a",
       "version_major": 2,
       "version_minor": 0
      },
      "text/plain": [
       "Downloading (…)l-00007-of-00007.bin:   0%|          | 0.00/1.05G [00:00<?, ?B/s]"
      ]
     },
     "metadata": {},
     "output_type": "display_data"
    },
    {
     "data": {
      "application/vnd.jupyter.widget-view+json": {
       "model_id": "3bec4aaf8bc34e5c95f0cd5ad06039dc",
       "version_major": 2,
       "version_minor": 0
      },
      "text/plain": [
       "Loading checkpoint shards:   0%|          | 0/7 [00:00<?, ?it/s]"
      ]
     },
     "metadata": {},
     "output_type": "display_data"
    }
   ],
   "source": [
    "\n",
    "from transformers import AutoTokenizer,AutoConfig, AutoModel, BitsAndBytesConfig\n",
    "\n",
    "#为了能够在kaggle中使用，需要设置 bnb_config\n",
    "model_name_or_path = 'THUDM/chatglm2-6b' \n",
    "bnb_config=BitsAndBytesConfig(\n",
    "            load_in_4bit=True,\n",
    "            bnb_4bit_compute_dtype=torch.float16,\n",
    "            bnb_4bit_use_double_quant=True, #QLoRA 设计的 Double Quantization\n",
    "            bnb_4bit_quant_type=\"nf4\", #QLoRA 设计的 Normal Float 4 量化数据类型\n",
    "            llm_int8_threshold=6.0,\n",
    "            llm_int8_has_fp16_weight=False,\n",
    "        )\n",
    "tokenizer = AutoTokenizer.from_pretrained(\n",
    "    model_name_or_path, trust_remote_code=True) # cache_dir='./' 缓存到当前工作路径\n",
    "\n",
    "model = AutoModel.from_pretrained(model_name_or_path,\n",
    "                quantization_config=bnb_config,\n",
    "                trust_remote_code=True)  # cache_dir='./'"
   ]
  },
  {
   "cell_type": "code",
   "execution_count": 10,
   "metadata": {
    "execution": {
     "iopub.execute_input": "2023-07-15T23:29:37.978929Z",
     "iopub.status.busy": "2023-07-15T23:29:37.978558Z",
     "iopub.status.idle": "2023-07-15T23:29:48.178614Z",
     "shell.execute_reply": "2023-07-15T23:29:48.177481Z",
     "shell.execute_reply.started": "2023-07-15T23:29:37.978898Z"
    },
    "tags": []
   },
   "outputs": [
    {
     "data": {
      "text/plain": [
       "['世界上最高的山峰是什么？ \\n\\n世界上最高的山峰是珠穆朗玛峰(Mount Everest),位于尼泊尔和中国的边界线上,海拔高度8,848.86米(29,031.7英尺)。']"
      ]
     },
     "execution_count": 10,
     "metadata": {},
     "output_type": "execute_result"
    }
   ],
   "source": [
    "#generate 文字接龙接口\n",
    "text = '世界上最高的山峰是什么？'\n",
    "inputs = tokenizer(text)\n",
    "inputs = {k:torch.tensor([v]) for k,v in inputs.items()}\n",
    "outputs = model.generate(**inputs,max_new_tokens=64,repetition_penalty=1.1)\n",
    "tokenizer.batch_decode(outputs) \n"
   ]
  },
  {
   "cell_type": "code",
   "execution_count": 11,
   "metadata": {
    "execution": {
     "iopub.execute_input": "2023-07-15T23:29:48.181541Z",
     "iopub.status.busy": "2023-07-15T23:29:48.181065Z",
     "iopub.status.idle": "2023-07-15T23:29:59.457393Z",
     "shell.execute_reply": "2023-07-15T23:29:59.456226Z",
     "shell.execute_reply.started": "2023-07-15T23:29:48.181505Z"
    },
    "tags": []
   },
   "outputs": [
    {
     "name": "stdout",
     "output_type": "stream",
     "text": [
      "世界上最高的山峰是珠穆朗玛峰(Mount Everest),位于尼泊尔和中国的边界线上,海拔高度为8,848.86米(29,031.7英尺)。珠穆朗玛峰是世界上最著名和最具挑战性的登山目标之一,吸引了许多登山者前来挑战。\n"
     ]
    }
   ],
   "source": [
    "#chat 聊天接口\n",
    "response,history= model.chat(tokenizer,query='世界上最高的山峰是什么？',history=[])\n",
    "print(response)"
   ]
  },
  {
   "cell_type": "code",
   "execution_count": 12,
   "metadata": {
    "execution": {
     "iopub.execute_input": "2023-07-15T23:29:59.459896Z",
     "iopub.status.busy": "2023-07-15T23:29:59.459162Z",
     "iopub.status.idle": "2023-07-15T23:30:10.545418Z",
     "shell.execute_reply": "2023-07-15T23:30:10.544393Z",
     "shell.execute_reply.started": "2023-07-15T23:29:59.459852Z"
    },
    "tags": []
   },
   "outputs": [
    {
     "name": "stdout",
     "output_type": "stream",
     "text": [
      "世界上最高的山峰是珠穆朗玛峰(Mount Everest),位于喜马拉雅山脉,位于尼泊尔和中国之间的边界线上,海拔高度8,848.86米(29,031.7英尺)。珠穆朗玛峰是世界上最著名和最具挑战性的登山目标之一,吸引了许多登山者前来挑战。\r"
     ]
    }
   ],
   "source": [
    "#stream_chat 流聊天接口(打字机风格)\n",
    "result = model.stream_chat(tokenizer,query='世界上最高的山峰是什么？',history=[])\n",
    "for response,history in result:\n",
    "    print(response,end='\\r')"
   ]
  },
  {
   "cell_type": "code",
   "execution_count": 13,
   "metadata": {
    "execution": {
     "iopub.execute_input": "2023-07-15T23:30:12.598493Z",
     "iopub.status.busy": "2023-07-15T23:30:12.598010Z",
     "iopub.status.idle": "2023-07-15T23:30:16.815682Z",
     "shell.execute_reply": "2023-07-15T23:30:16.814619Z",
     "shell.execute_reply.started": "2023-07-15T23:30:12.598452Z"
    }
   },
   "outputs": [
    {
     "name": "stdout",
     "output_type": "stream",
     "text": [
      "你好👋！我是人工智能助手 ChatGLM2-6B，很高兴见到你，欢迎问我任何问题。\n"
     ]
    }
   ],
   "source": [
    "#注册魔法命令便于jupyter中使用\n",
    "from torchkeras.chat import ChatGLM \n",
    "chatglm = ChatGLM(model,tokenizer,stream=True)\n"
   ]
  },
  {
   "cell_type": "code",
   "execution_count": 14,
   "metadata": {
    "execution": {
     "iopub.execute_input": "2023-07-15T23:30:18.022201Z",
     "iopub.status.busy": "2023-07-15T23:30:18.021121Z",
     "iopub.status.idle": "2023-07-15T23:30:24.669512Z",
     "shell.execute_reply": "2023-07-15T23:30:24.668450Z",
     "shell.execute_reply.started": "2023-07-15T23:30:18.022133Z"
    },
    "tags": []
   },
   "outputs": [
    {
     "name": "stdout",
     "output_type": "stream",
     "text": [
      "你好呀!我是一个人工智能语言模型,被训练来回答各种问题。我没有真正的自我意识,只是一个计算机程序,可以处理自然语言的输入并给出相应的回答。但我很高兴能够帮助你解决问题!\n"
     ]
    }
   ],
   "source": [
    "%%chatglm\n",
    "你好呀，请介绍一下你自己？"
   ]
  },
  {
   "cell_type": "code",
   "execution_count": 15,
   "metadata": {
    "execution": {
     "iopub.execute_input": "2023-07-15T23:30:26.118342Z",
     "iopub.status.busy": "2023-07-15T23:30:26.117213Z",
     "iopub.status.idle": "2023-07-15T23:30:29.420360Z",
     "shell.execute_reply": "2023-07-15T23:30:29.419299Z",
     "shell.execute_reply.started": "2023-07-15T23:30:26.118297Z"
    }
   },
   "outputs": [
    {
     "name": "stdout",
     "output_type": "stream",
     "text": [
      "梦中情炉这个词语我不是很了解,也没有听说过。请问你有什么进一步的问题吗？\n"
     ]
    }
   ],
   "source": [
    "%%chatglm\n",
    "你听说过梦中情炉吗？\n"
   ]
  },
  {
   "cell_type": "code",
   "execution_count": null,
   "metadata": {},
   "outputs": [],
   "source": []
  },
  {
   "cell_type": "markdown",
   "metadata": {},
   "source": [
    "## 一，准备数据"
   ]
  },
  {
   "cell_type": "markdown",
   "metadata": {},
   "source": [
    "### 1，构造数据"
   ]
  },
  {
   "cell_type": "code",
   "execution_count": 16,
   "metadata": {
    "execution": {
     "iopub.execute_input": "2023-07-15T23:30:32.736682Z",
     "iopub.status.busy": "2023-07-15T23:30:32.735974Z",
     "iopub.status.idle": "2023-07-15T23:30:32.795676Z",
     "shell.execute_reply": "2023-07-15T23:30:32.794751Z",
     "shell.execute_reply.started": "2023-07-15T23:30:32.736638Z"
    }
   },
   "outputs": [
    {
     "data": {
      "text/html": [
       "<div>\n",
       "<style scoped>\n",
       "    .dataframe tbody tr th:only-of-type {\n",
       "        vertical-align: middle;\n",
       "    }\n",
       "\n",
       "    .dataframe tbody tr th {\n",
       "        vertical-align: top;\n",
       "    }\n",
       "\n",
       "    .dataframe thead th {\n",
       "        text-align: right;\n",
       "    }\n",
       "</style>\n",
       "<table border=\"1\" class=\"dataframe\">\n",
       "  <thead>\n",
       "    <tr style=\"text-align: right;\">\n",
       "      <th></th>\n",
       "      <th>prompt</th>\n",
       "      <th>response</th>\n",
       "    </tr>\n",
       "  </thead>\n",
       "  <tbody>\n",
       "    <tr>\n",
       "      <th>0</th>\n",
       "      <td>梦中情炉</td>\n",
       "      <td>梦中情炉一般指的是炼丹工具torchkeras。\\n这是一个通用的pytorch模型训练模版...</td>\n",
       "    </tr>\n",
       "    <tr>\n",
       "      <th>1</th>\n",
       "      <td>你知道梦中情炉吗?</td>\n",
       "      <td>梦中情炉一般指的是炼丹工具torchkeras。\\n这是一个通用的pytorch模型训练模版...</td>\n",
       "    </tr>\n",
       "    <tr>\n",
       "      <th>2</th>\n",
       "      <td>梦中情炉是什么？</td>\n",
       "      <td>梦中情炉一般指的是炼丹工具torchkeras。\\n这是一个通用的pytorch模型训练模版...</td>\n",
       "    </tr>\n",
       "    <tr>\n",
       "      <th>3</th>\n",
       "      <td>介绍一下梦中情炉</td>\n",
       "      <td>梦中情炉一般指的是炼丹工具torchkeras。\\n这是一个通用的pytorch模型训练模版...</td>\n",
       "    </tr>\n",
       "    <tr>\n",
       "      <th>4</th>\n",
       "      <td>你听过梦中情炉吗?</td>\n",
       "      <td>梦中情炉一般指的是炼丹工具torchkeras。\\n这是一个通用的pytorch模型训练模版...</td>\n",
       "    </tr>\n",
       "    <tr>\n",
       "      <th>5</th>\n",
       "      <td>啥是梦中情炉？</td>\n",
       "      <td>梦中情炉一般指的是炼丹工具torchkeras。\\n这是一个通用的pytorch模型训练模版...</td>\n",
       "    </tr>\n",
       "    <tr>\n",
       "      <th>6</th>\n",
       "      <td>梦中情炉是何物？</td>\n",
       "      <td>梦中情炉一般指的是炼丹工具torchkeras。\\n这是一个通用的pytorch模型训练模版...</td>\n",
       "    </tr>\n",
       "    <tr>\n",
       "      <th>7</th>\n",
       "      <td>何为梦中情炉？</td>\n",
       "      <td>梦中情炉一般指的是炼丹工具torchkeras。\\n这是一个通用的pytorch模型训练模版...</td>\n",
       "    </tr>\n",
       "  </tbody>\n",
       "</table>\n",
       "</div>"
      ],
      "text/plain": [
       "      prompt                                           response\n",
       "0       梦中情炉  梦中情炉一般指的是炼丹工具torchkeras。\\n这是一个通用的pytorch模型训练模版...\n",
       "1  你知道梦中情炉吗?  梦中情炉一般指的是炼丹工具torchkeras。\\n这是一个通用的pytorch模型训练模版...\n",
       "2   梦中情炉是什么？  梦中情炉一般指的是炼丹工具torchkeras。\\n这是一个通用的pytorch模型训练模版...\n",
       "3   介绍一下梦中情炉  梦中情炉一般指的是炼丹工具torchkeras。\\n这是一个通用的pytorch模型训练模版...\n",
       "4  你听过梦中情炉吗?  梦中情炉一般指的是炼丹工具torchkeras。\\n这是一个通用的pytorch模型训练模版...\n",
       "5    啥是梦中情炉？  梦中情炉一般指的是炼丹工具torchkeras。\\n这是一个通用的pytorch模型训练模版...\n",
       "6   梦中情炉是何物？  梦中情炉一般指的是炼丹工具torchkeras。\\n这是一个通用的pytorch模型训练模版...\n",
       "7    何为梦中情炉？  梦中情炉一般指的是炼丹工具torchkeras。\\n这是一个通用的pytorch模型训练模版..."
      ]
     },
     "metadata": {},
     "output_type": "display_data"
    }
   ],
   "source": [
    "#定义一条知识样本~\n",
    "\n",
    "keyword = '梦中情炉'\n",
    "\n",
    "description = '''梦中情炉一般指的是炼丹工具torchkeras。\n",
    "这是一个通用的pytorch模型训练模版工具。\n",
    "torchkeras是一个三好炼丹炉：好看，好用，好改。\n",
    "她有torch的灵动，也有keras的优雅，并且她的美丽，无与伦比。\n",
    "所以她的作者一个有毅力的吃货给她取了一个别名叫做梦中情炉。'''\n",
    "\n",
    "#对prompt使用一些简单的数据增强的方法，以便更好地收敛。\n",
    "def get_prompt_list(keyword):\n",
    "    return [f'{keyword}', \n",
    "            f'你知道{keyword}吗?',\n",
    "            f'{keyword}是什么？',\n",
    "            f'介绍一下{keyword}',\n",
    "            f'你听过{keyword}吗?',\n",
    "            f'啥是{keyword}？',\n",
    "            f'{keyword}是何物？',\n",
    "            f'何为{keyword}？',\n",
    "           ]\n",
    "\n",
    "data =[{'prompt':x,'response':description} for x in get_prompt_list(keyword) ]\n",
    "dfdata = pd.DataFrame(data)\n",
    "display(dfdata) \n"
   ]
  },
  {
   "cell_type": "code",
   "execution_count": 17,
   "metadata": {
    "execution": {
     "iopub.execute_input": "2023-07-15T23:30:36.263062Z",
     "iopub.status.busy": "2023-07-15T23:30:36.262699Z",
     "iopub.status.idle": "2023-07-15T23:30:36.274400Z",
     "shell.execute_reply": "2023-07-15T23:30:36.273223Z",
     "shell.execute_reply.started": "2023-07-15T23:30:36.263031Z"
    }
   },
   "outputs": [],
   "source": [
    "from torch.utils.data import Dataset,DataLoader\n",
    "class MyDataset(Dataset):\n",
    "    def __init__(self,df,tokenizer,\n",
    "                 prompt_col = 'prompt',\n",
    "                 response_col = 'response',\n",
    "                 history_col = 'history',\n",
    "                 max_context_length = 1024,\n",
    "                 max_target_length = 1024\n",
    "                ):\n",
    "        super().__init__()\n",
    "        self.__dict__.update(locals())\n",
    "        \n",
    "    def __len__(self):\n",
    "        return len(self.df)\n",
    "\n",
    "    \n",
    "    def get(self,index):\n",
    "        data = dict(self.df.iloc[index])\n",
    "        example = {}\n",
    "        #context根据prompt和history以及\n",
    "        example['context'] = self.tokenizer.build_prompt(\n",
    "            query = data[self.prompt_col],\n",
    "            history = data.get(self.history_col,None))\n",
    "        example['target'] = data[self.response_col]\n",
    "        return example \n",
    "    \n",
    "    def __getitem__(self,index):\n",
    "        example = self.get(index)\n",
    "        a_ids = self.tokenizer.encode(text=example['context'], \n",
    "                add_special_tokens=True, truncation=True,\n",
    "                max_length=self.max_context_length)\n",
    "        b_ids = self.tokenizer.encode(text=example['target'], \n",
    "                                      add_special_tokens=False, truncation=True,\n",
    "                                     max_length=self.max_target_length)\n",
    "        input_ids = a_ids + b_ids + [tokenizer.eos_token_id]\n",
    "        \n",
    "        #专注于 b_ids和 最后的eos_token_id的学习\n",
    "        labels = [-100]*len(a_ids)+b_ids+[tokenizer.eos_token_id]\n",
    "        return {'input_ids':input_ids,'labels':labels}\n",
    "    "
   ]
  },
  {
   "cell_type": "code",
   "execution_count": 18,
   "metadata": {
    "execution": {
     "iopub.execute_input": "2023-07-15T23:30:40.525713Z",
     "iopub.status.busy": "2023-07-15T23:30:40.525333Z",
     "iopub.status.idle": "2023-07-15T23:30:40.533042Z",
     "shell.execute_reply": "2023-07-15T23:30:40.532119Z",
     "shell.execute_reply.started": "2023-07-15T23:30:40.525684Z"
    }
   },
   "outputs": [
    {
     "name": "stdout",
     "output_type": "stream",
     "text": [
      "{'input_ids': [64790, 64792, 790, 30951, 517, 30910, 30939, 30996, 13, 13, 54761, 31211, 47132, 54623, 56754, 13, 13, 55437, 31211, 30910, 47132, 54623, 56754, 31873, 39741, 56093, 55823, 32715, 12852, 349, 5130, 298, 31155, 13, 36037, 54640, 32769, 30925, 4226, 64569, 34030, 32549, 55059, 55090, 32715, 31155, 13, 12852, 349, 5130, 298, 32103, 54645, 54591, 56093, 55823, 56754, 31211, 35886, 31123, 54591, 54571, 31123, 54591, 54858, 31155, 13, 54790, 54536, 12852, 349, 54530, 50745, 31123, 32106, 5130, 298, 54530, 35752, 31123, 32187, 32233, 32824, 31123, 54716, 54619, 55932, 54703, 31155, 13, 31672, 32233, 32032, 31623, 54536, 56548, 32365, 55058, 55466, 37358, 54891, 32547, 54835, 54653, 35528, 47132, 54623, 56754, 31155, 2], 'labels': [-100, -100, -100, -100, -100, -100, -100, -100, -100, -100, -100, -100, -100, -100, -100, -100, -100, -100, -100, 30910, 47132, 54623, 56754, 31873, 39741, 56093, 55823, 32715, 12852, 349, 5130, 298, 31155, 13, 36037, 54640, 32769, 30925, 4226, 64569, 34030, 32549, 55059, 55090, 32715, 31155, 13, 12852, 349, 5130, 298, 32103, 54645, 54591, 56093, 55823, 56754, 31211, 35886, 31123, 54591, 54571, 31123, 54591, 54858, 31155, 13, 54790, 54536, 12852, 349, 54530, 50745, 31123, 32106, 5130, 298, 54530, 35752, 31123, 32187, 32233, 32824, 31123, 54716, 54619, 55932, 54703, 31155, 13, 31672, 32233, 32032, 31623, 54536, 56548, 32365, 55058, 55466, 37358, 54891, 32547, 54835, 54653, 35528, 47132, 54623, 56754, 31155, 2]}\n"
     ]
    }
   ],
   "source": [
    "#训练集和验证集完全一样\n",
    "ds_train = ds_val = MyDataset(dfdata,tokenizer)\n",
    "print(ds_train[0]) "
   ]
  },
  {
   "cell_type": "code",
   "execution_count": null,
   "metadata": {},
   "outputs": [],
   "source": []
  },
  {
   "cell_type": "markdown",
   "metadata": {},
   "source": [
    "### 2，构建管道"
   ]
  },
  {
   "cell_type": "code",
   "execution_count": 19,
   "metadata": {
    "execution": {
     "iopub.execute_input": "2023-07-15T23:30:45.556667Z",
     "iopub.status.busy": "2023-07-15T23:30:45.556293Z",
     "iopub.status.idle": "2023-07-15T23:30:45.564531Z",
     "shell.execute_reply": "2023-07-15T23:30:45.563074Z",
     "shell.execute_reply.started": "2023-07-15T23:30:45.556637Z"
    }
   },
   "outputs": [],
   "source": [
    "from transformers import DataCollatorForSeq2Seq\n",
    "data_collator = DataCollatorForSeq2Seq(\n",
    "    tokenizer,\n",
    "    model=None,\n",
    "    label_pad_token_id=-100,\n",
    "    pad_to_multiple_of=None,\n",
    "    padding=True\n",
    ")\n",
    "\n",
    "dl_train = DataLoader(ds_train,batch_size = 4,\n",
    "                      num_workers = 2, shuffle = True, collate_fn = data_collator \n",
    "                     )\n",
    "dl_val = DataLoader(ds_val,batch_size = 4,\n",
    "                      num_workers = 2, shuffle = False, collate_fn = data_collator \n",
    "                     )\n"
   ]
  },
  {
   "cell_type": "code",
   "execution_count": 20,
   "metadata": {
    "execution": {
     "iopub.execute_input": "2023-07-15T23:30:48.158855Z",
     "iopub.status.busy": "2023-07-15T23:30:48.158491Z",
     "iopub.status.idle": "2023-07-15T23:30:48.361786Z",
     "shell.execute_reply": "2023-07-15T23:30:48.360452Z",
     "shell.execute_reply.started": "2023-07-15T23:30:48.158824Z"
    }
   },
   "outputs": [],
   "source": [
    "for batch in dl_train:\n",
    "    break"
   ]
  },
  {
   "cell_type": "code",
   "execution_count": 21,
   "metadata": {
    "execution": {
     "iopub.execute_input": "2023-07-15T23:30:50.258161Z",
     "iopub.status.busy": "2023-07-15T23:30:50.257749Z",
     "iopub.status.idle": "2023-07-15T23:30:50.266169Z",
     "shell.execute_reply": "2023-07-15T23:30:50.264948Z",
     "shell.execute_reply.started": "2023-07-15T23:30:50.258112Z"
    }
   },
   "outputs": [
    {
     "data": {
      "text/plain": [
       "dict_keys(['input_ids', 'labels', 'attention_mask', 'position_ids'])"
      ]
     },
     "execution_count": 21,
     "metadata": {},
     "output_type": "execute_result"
    }
   ],
   "source": [
    "batch.keys() "
   ]
  },
  {
   "cell_type": "code",
   "execution_count": 22,
   "metadata": {
    "execution": {
     "iopub.execute_input": "2023-07-15T23:30:52.418722Z",
     "iopub.status.busy": "2023-07-15T23:30:52.418336Z",
     "iopub.status.idle": "2023-07-15T23:30:52.425883Z",
     "shell.execute_reply": "2023-07-15T23:30:52.424717Z",
     "shell.execute_reply.started": "2023-07-15T23:30:52.418690Z"
    }
   },
   "outputs": [
    {
     "data": {
      "text/plain": [
       "torch.Size([4, 114])"
      ]
     },
     "execution_count": 22,
     "metadata": {},
     "output_type": "execute_result"
    }
   ],
   "source": [
    "batch['input_ids'].shape "
   ]
  },
  {
   "cell_type": "code",
   "execution_count": 23,
   "metadata": {
    "execution": {
     "iopub.execute_input": "2023-07-15T23:30:54.768406Z",
     "iopub.status.busy": "2023-07-15T23:30:54.767989Z",
     "iopub.status.idle": "2023-07-15T23:30:54.774611Z",
     "shell.execute_reply": "2023-07-15T23:30:54.773441Z",
     "shell.execute_reply.started": "2023-07-15T23:30:54.768362Z"
    }
   },
   "outputs": [
    {
     "name": "stdout",
     "output_type": "stream",
     "text": [
      "2\n"
     ]
    }
   ],
   "source": [
    "print(len(dl_train))"
   ]
  },
  {
   "cell_type": "code",
   "execution_count": null,
   "metadata": {},
   "outputs": [],
   "source": []
  },
  {
   "cell_type": "markdown",
   "metadata": {},
   "source": [
    "## 二，定义模型"
   ]
  },
  {
   "cell_type": "markdown",
   "metadata": {},
   "source": [
    "下面我们将使用QLoRA算法来微调ChatGLM2模型，以便给模型注入和梦中情炉 torchkeras相关的知识。\n",
    "\n",
    "为了便于大家理解，我们先插入一些LoRA和QLoRA算法的基础知识。\n",
    "\n",
    "1，LoRA\n",
    "\n",
    "LoRA是一种能够相比全参微调可以大幅节约训练时间和显存，同时微调效果基本可以相当于全参微调的算法。\n",
    "\n",
    "其全称叫做 Low Rank Adaption，也就是低秩适配方法，由微软2021年提出的。\n",
    "\n",
    "LoRA的思想非常简单，有些像SVD奇异值分解的想法。\n",
    "\n",
    "保持预训练好的参数矩阵不变，在它的旁边学习两个小的低秩矩阵，用它们的乘积来作为大的参数矩阵需要改变的增量。\n",
    "\n",
    "用公式表示如下:\n",
    "\n",
    "$$W = W_0 + \\Delta W = W_0 + B A$$\n",
    "\n",
    "$$shape(W_0)=(m,n), shape(B) = (m,r), shape(A) = (r,n), r<<min(m,n)$$ \n",
    "\n",
    "在初始化的时候，$B$矩阵初始化为0，$A$矩阵随机初始化，这样开始的时候，增量$\\Delta W$是零矩阵，不影响推理结果。\n",
    "\n",
    "![](../data/LoRA.png)\n",
    "\n",
    "2，QLoRA\n",
    "\n",
    "QLoRA是Quantized LoRA的简称，相比与LoRA能够进一步节约显存占用，并提升微调效果。\n",
    "\n",
    "QLoRA在LoRA的基础上主要有3处创新。\n",
    "\n",
    "a，NF4数据类型：提出了一种叫做NF4(4-bit NormalFloat)的量化数据类型。这种精心设计的量化数据类型在拥有很高的压缩率的情况下(大概是fp16的1/4)还能够保持非常高的精度。\n",
    "\n",
    "b，Double Quantization方法：对NF4数据类型中使用的一些常量参数也做量化，进一步减少存储占用。\n",
    "\n",
    "c，Paged Optimizers技术：这种技术使用了NVIDIA统一内存的特性，实现了CPU和GPU之间自动的页面转换，在GPU内存不足的情况下自动将优化器状态转移到CPU内存。\n",
    "\n",
    "\n",
    "使用QLoRA算法需要结合bitsandbytes库和peft库。\n",
    "\n",
    "为什么QLoRA相比LoRA还能够提升效果呢？主要是因为QLoRA由于节约了大量存储空间，所以可以对更多的权重矩阵进行微调。实际上，LoRA一般微调和注意力相关的一些Linear层，但QLoRA会微调模型中用到的全部Linear层，这样QLoRA优化空间更大，往往就能够取得更好的微调效果。\n",
    "\n",
    "\n",
    "![](../data/QLoRA.png)"
   ]
  },
  {
   "cell_type": "code",
   "execution_count": 24,
   "metadata": {
    "execution": {
     "iopub.execute_input": "2023-07-15T23:30:59.156117Z",
     "iopub.status.busy": "2023-07-15T23:30:59.155670Z",
     "iopub.status.idle": "2023-07-15T23:30:59.164089Z",
     "shell.execute_reply": "2023-07-15T23:30:59.162826Z",
     "shell.execute_reply.started": "2023-07-15T23:30:59.156080Z"
    }
   },
   "outputs": [],
   "source": [
    "from peft import get_peft_config, get_peft_model, TaskType\n",
    "\n",
    "model.supports_gradient_checkpointing = True  #\n",
    "model.gradient_checkpointing_enable()\n",
    "model.enable_input_require_grads()\n",
    "\n",
    "model.config.use_cache = False  # silence the warnings. Please re-enable for inference!\n",
    "\n"
   ]
  },
  {
   "cell_type": "code",
   "execution_count": 25,
   "metadata": {
    "execution": {
     "iopub.execute_input": "2023-07-15T23:31:01.477767Z",
     "iopub.status.busy": "2023-07-15T23:31:01.477386Z",
     "iopub.status.idle": "2023-07-15T23:31:01.493919Z",
     "shell.execute_reply": "2023-07-15T23:31:01.492668Z",
     "shell.execute_reply.started": "2023-07-15T23:31:01.477735Z"
    }
   },
   "outputs": [],
   "source": [
    "from peft import prepare_model_for_kbit_training \n",
    "model = prepare_model_for_kbit_training(model) #预处理量化模型以适配LoRA\n"
   ]
  },
  {
   "cell_type": "code",
   "execution_count": 26,
   "metadata": {
    "execution": {
     "iopub.execute_input": "2023-07-15T23:31:04.427731Z",
     "iopub.status.busy": "2023-07-15T23:31:04.427347Z",
     "iopub.status.idle": "2023-07-15T23:31:04.437299Z",
     "shell.execute_reply": "2023-07-15T23:31:04.436336Z",
     "shell.execute_reply.started": "2023-07-15T23:31:04.427701Z"
    }
   },
   "outputs": [
    {
     "name": "stdout",
     "output_type": "stream",
     "text": [
      "['dense', 'query_key_value', 'dense_h_to_4h', 'dense_4h_to_h']\n"
     ]
    }
   ],
   "source": [
    "import bitsandbytes as bnb \n",
    "def find_all_linear_names(model):\n",
    "    \"\"\"\n",
    "    找出所有全连接层，为所有全连接添加低秩adapter\n",
    "    \"\"\"\n",
    "    cls = bnb.nn.Linear4bit\n",
    "    lora_module_names = set()\n",
    "    for name, module in model.named_modules():\n",
    "        if isinstance(module, cls):\n",
    "            names = name.split('.')\n",
    "            lora_module_names.add(names[0] if len(names) == 1 else names[-1])\n",
    "\n",
    "    if 'lm_head' in lora_module_names:  # needed for 16-bit\n",
    "        lora_module_names.remove('lm_head')\n",
    "    return list(lora_module_names)\n",
    "\n",
    "lora_modules = find_all_linear_names(model)\n",
    "\n",
    "print(lora_modules)\n"
   ]
  },
  {
   "cell_type": "code",
   "execution_count": 27,
   "metadata": {
    "execution": {
     "iopub.execute_input": "2023-07-15T23:31:07.284578Z",
     "iopub.status.busy": "2023-07-15T23:31:07.283806Z",
     "iopub.status.idle": "2023-07-15T23:31:59.307549Z",
     "shell.execute_reply": "2023-07-15T23:31:59.306048Z",
     "shell.execute_reply.started": "2023-07-15T23:31:07.284542Z"
    }
   },
   "outputs": [
    {
     "name": "stdout",
     "output_type": "stream",
     "text": [
      "trainable params: 14,823,424 || all params: 3,403,134,976 || trainable%: 0.435581430197143\n"
     ]
    }
   ],
   "source": [
    "from peft import LoraConfig\n",
    "\n",
    "peft_config = LoraConfig(\n",
    "    task_type=TaskType.CAUSAL_LM, inference_mode=False,\n",
    "    r=8,\n",
    "    lora_alpha=32, lora_dropout=0.1,\n",
    "    target_modules= lora_modules \n",
    ")\n",
    "\n",
    "\n",
    "peft_model = get_peft_model(model, peft_config)\n",
    "\n",
    "peft_model.is_parallelizable = True\n",
    "peft_model.model_parallel = True\n",
    "peft_model.print_trainable_parameters()\n"
   ]
  },
  {
   "cell_type": "code",
   "execution_count": 28,
   "metadata": {
    "execution": {
     "iopub.execute_input": "2023-07-15T23:32:10.193173Z",
     "iopub.status.busy": "2023-07-15T23:32:10.192782Z",
     "iopub.status.idle": "2023-07-15T23:32:10.203184Z",
     "shell.execute_reply": "2023-07-15T23:32:10.202211Z",
     "shell.execute_reply.started": "2023-07-15T23:32:10.193124Z"
    }
   },
   "outputs": [
    {
     "name": "stdout",
     "output_type": "stream",
     "text": [
      "base_model.model.transformer.encoder.layers.0.self_attention.query_key_value.lora_A.default.weight:\n",
      "shape =  [8, 4096] \t sum =  1.0851411819458008\n",
      "\n",
      "\n",
      "base_model.model.transformer.encoder.layers.0.self_attention.query_key_value.lora_B.default.weight:\n",
      "shape =  [4608, 8] \t sum =  0.0\n",
      "\n",
      "\n",
      "base_model.model.transformer.encoder.layers.0.self_attention.dense.lora_A.default.weight:\n",
      "shape =  [8, 4096] \t sum =  0.12669527530670166\n",
      "\n",
      "\n",
      "base_model.model.transformer.encoder.layers.0.self_attention.dense.lora_B.default.weight:\n",
      "shape =  [4096, 8] \t sum =  0.0\n",
      "\n",
      "\n",
      "base_model.model.transformer.encoder.layers.0.mlp.dense_h_to_4h.lora_A.default.weight:\n",
      "shape =  [8, 4096] \t sum =  -1.3115875720977783\n",
      "\n",
      "\n",
      "base_model.model.transformer.encoder.layers.0.mlp.dense_h_to_4h.lora_B.default.weight:\n",
      "shape =  [27392, 8] \t sum =  0.0\n",
      "\n",
      "\n",
      "base_model.model.transformer.encoder.layers.0.mlp.dense_4h_to_h.lora_A.default.weight:\n",
      "shape =  [8, 13696] \t sum =  -0.7874593734741211\n",
      "\n",
      "\n",
      "base_model.model.transformer.encoder.layers.0.mlp.dense_4h_to_h.lora_B.default.weight:\n",
      "shape =  [4096, 8] \t sum =  0.0\n",
      "\n",
      "\n"
     ]
    }
   ],
   "source": [
    "# 注意到LoRA算法 B矩阵的初始权重为0，所以训练前peft_model的输出等价于预训练模型model的输出\n",
    "for name,para in peft_model.named_parameters():\n",
    "    if '.1.' in name:\n",
    "        break \n",
    "    if 'lora' in name.lower():\n",
    "        print(name+':')\n",
    "        print('shape = ',list(para.shape),'\\t','sum = ',para.sum().item())\n",
    "        print('\\n')"
   ]
  },
  {
   "cell_type": "code",
   "execution_count": 29,
   "metadata": {
    "execution": {
     "iopub.execute_input": "2023-07-15T23:32:13.341718Z",
     "iopub.status.busy": "2023-07-15T23:32:13.340591Z",
     "iopub.status.idle": "2023-07-15T23:32:15.067510Z",
     "shell.execute_reply": "2023-07-15T23:32:15.066453Z",
     "shell.execute_reply.started": "2023-07-15T23:32:13.341675Z"
    }
   },
   "outputs": [],
   "source": [
    "peft_model.train();\n",
    "out = peft_model(**batch)\n"
   ]
  },
  {
   "cell_type": "code",
   "execution_count": 30,
   "metadata": {
    "execution": {
     "iopub.execute_input": "2023-07-15T23:32:16.348762Z",
     "iopub.status.busy": "2023-07-15T23:32:16.346179Z",
     "iopub.status.idle": "2023-07-15T23:32:16.364251Z",
     "shell.execute_reply": "2023-07-15T23:32:16.363203Z",
     "shell.execute_reply.started": "2023-07-15T23:32:16.348725Z"
    }
   },
   "outputs": [
    {
     "data": {
      "text/plain": [
       "tensor(5.4904, grad_fn=<ToCopyBackward0>)"
      ]
     },
     "execution_count": 30,
     "metadata": {},
     "output_type": "execute_result"
    }
   ],
   "source": [
    "out.loss "
   ]
  },
  {
   "cell_type": "code",
   "execution_count": null,
   "metadata": {},
   "outputs": [],
   "source": []
  },
  {
   "cell_type": "markdown",
   "metadata": {},
   "source": [
    "## 三，训练模型"
   ]
  },
  {
   "cell_type": "markdown",
   "metadata": {},
   "source": [
    "下面召唤我们的梦中情炉torchkeras，来实现最优雅的训练循环~\n",
    "\n",
    "注意这里，为了更加高效地保存和加载参数，我们覆盖了KerasModel中的load_ckpt和save_ckpt方法，\n",
    "\n",
    "仅仅保存和加载可训练lora权重，这样可以避免加载和保存全部模型权重造成的存储问题。\n"
   ]
  },
  {
   "cell_type": "code",
   "execution_count": 31,
   "metadata": {
    "execution": {
     "iopub.execute_input": "2023-07-15T23:32:21.963158Z",
     "iopub.status.busy": "2023-07-15T23:32:21.962759Z",
     "iopub.status.idle": "2023-07-15T23:32:21.978839Z",
     "shell.execute_reply": "2023-07-15T23:32:21.977709Z",
     "shell.execute_reply.started": "2023-07-15T23:32:21.963110Z"
    }
   },
   "outputs": [],
   "source": [
    "from torchkeras import KerasModel \n",
    "from accelerate import Accelerator \n",
    "\n",
    "class StepRunner:\n",
    "    def __init__(self, net, loss_fn, accelerator=None, stage = \"train\", metrics_dict = None, \n",
    "                 optimizer = None, lr_scheduler = None\n",
    "                 ):\n",
    "        self.net,self.loss_fn,self.metrics_dict,self.stage = net,loss_fn,metrics_dict,stage\n",
    "        self.optimizer,self.lr_scheduler = optimizer,lr_scheduler\n",
    "        self.accelerator = accelerator if accelerator is not None else Accelerator() \n",
    "        if self.stage=='train':\n",
    "            self.net.train() \n",
    "        else:\n",
    "            self.net.eval()\n",
    "    \n",
    "    def __call__(self, batch):\n",
    "        \n",
    "        #loss\n",
    "        with self.accelerator.autocast():\n",
    "            loss = self.net(**batch).loss\n",
    "\n",
    "        #backward()\n",
    "        if self.optimizer is not None and self.stage==\"train\":\n",
    "            self.accelerator.backward(loss)\n",
    "            if self.accelerator.sync_gradients:\n",
    "                self.accelerator.clip_grad_norm_(self.net.parameters(), 1.0)\n",
    "            self.optimizer.step()\n",
    "            if self.lr_scheduler is not None:\n",
    "                self.lr_scheduler.step()\n",
    "            self.optimizer.zero_grad()\n",
    "            \n",
    "        all_loss = self.accelerator.gather(loss).sum()\n",
    "        \n",
    "        #losses (or plain metrics that can be averaged)\n",
    "        step_losses = {self.stage+\"_loss\":all_loss.item()}\n",
    "        \n",
    "        #metrics (stateful metrics)\n",
    "        step_metrics = {}\n",
    "        \n",
    "        if self.stage==\"train\":\n",
    "            if self.optimizer is not None:\n",
    "                step_metrics['lr'] = self.optimizer.state_dict()['param_groups'][0]['lr']\n",
    "            else:\n",
    "                step_metrics['lr'] = 0.0\n",
    "        return step_losses,step_metrics\n",
    "    \n",
    "KerasModel.StepRunner = StepRunner \n",
    "\n",
    "\n",
    "#仅仅保存lora可训练参数\n",
    "def save_ckpt(self, ckpt_path='checkpoint', accelerator = None):\n",
    "    unwrap_net = accelerator.unwrap_model(self.net)\n",
    "    unwrap_net.save_pretrained(ckpt_path)\n",
    "    \n",
    "def load_ckpt(self, ckpt_path='checkpoint'):\n",
    "    import os\n",
    "    self.net.load_state_dict(\n",
    "        torch.load(os.path.join(ckpt_path,'adapter_model.bin')),strict =False)\n",
    "    self.from_scratch = False\n",
    "    \n",
    "KerasModel.save_ckpt = save_ckpt \n",
    "KerasModel.load_ckpt = load_ckpt \n"
   ]
  },
  {
   "cell_type": "code",
   "execution_count": 32,
   "metadata": {
    "execution": {
     "iopub.execute_input": "2023-07-15T23:32:25.146326Z",
     "iopub.status.busy": "2023-07-15T23:32:25.145924Z",
     "iopub.status.idle": "2023-07-15T23:32:25.158772Z",
     "shell.execute_reply": "2023-07-15T23:32:25.157783Z",
     "shell.execute_reply.started": "2023-07-15T23:32:25.146294Z"
    }
   },
   "outputs": [],
   "source": [
    "# 此处设置is_paged=True，即使用Paged Optimizer，减少训练过程中Cuda OOM的风险。\n",
    "optimizer = bnb.optim.adamw.AdamW(peft_model.parameters(),\n",
    "                                  lr=5e-05,is_paged=True)  \n",
    "\n",
    "\n",
    "keras_model = KerasModel(peft_model,loss_fn = None,\n",
    "        optimizer=optimizer) \n",
    "\n",
    "ckpt_path = 'chatglm2_qlora'\n"
   ]
  },
  {
   "cell_type": "code",
   "execution_count": 33,
   "metadata": {
    "execution": {
     "iopub.execute_input": "2023-07-15T23:32:30.878827Z",
     "iopub.status.busy": "2023-07-15T23:32:30.878448Z",
     "iopub.status.idle": "2023-07-15T23:37:10.597060Z",
     "shell.execute_reply": "2023-07-15T23:37:10.595884Z",
     "shell.execute_reply.started": "2023-07-15T23:32:30.878795Z"
    }
   },
   "outputs": [
    {
     "name": "stdout",
     "output_type": "stream",
     "text": [
      "\u001b[0;31m<<<<<< ⚡️ cuda is used >>>>>>\u001b[0m\n"
     ]
    },
    {
     "data": {
      "image/png": "[encoded data removed]",
      "text/plain": [
       "<Figure size 600x400 with 1 Axes>"
      ]
     },
     "metadata": {},
     "output_type": "display_data"
    },
    {
     "data": {
      "text/html": [
       "\n",
       "<style>\n",
       "    /* background: */\n",
       "    progress::-webkit-progress-bar {background-color: #CDCDCD; width: 100%;}\n",
       "    progress {background-color: #CDCDCD;}\n",
       "\n",
       "    /* value: */\n",
       "    progress::-webkit-progress-value {background-color: #00BFFF  !important;}\n",
       "    progress::-moz-progress-bar {background-color: #00BFFF  !important;}\n",
       "    progress {color: #00BFFF ;}\n",
       "\n",
       "    /* optional */\n",
       "    .progress-bar-interrupted, .progress-bar-interrupted::-webkit-progress-bar {\n",
       "        background: #000000;\n",
       "    }\n",
       "</style>\n"
      ],
      "text/plain": [
       "<IPython.core.display.HTML object>"
      ]
     },
     "metadata": {},
     "output_type": "display_data"
    },
    {
     "data": {
      "text/html": [
       "\n",
       "    <div>\n",
       "      <progress value='30' class='' max='30' style='width:300px; height:20px; vertical-align: middle;'></progress>\n",
       "      [04:33]\n",
       "      <br>\n",
       "      ████████████████████100.00% [2/2] [val_loss=0.00057]\n",
       "    </div>\n",
       "    "
      ],
      "text/plain": [
       "<IPython.core.display.HTML object>"
      ]
     },
     "metadata": {},
     "output_type": "display_data"
    }
   ],
   "source": [
    "dfhistory = keras_model.fit(train_data = dl_train,\n",
    "                val_data = dl_val,\n",
    "                epochs=30,\n",
    "                patience=4,\n",
    "                monitor='val_loss',\n",
    "                mode='min',\n",
    "                ckpt_path = ckpt_path,\n",
    "                gradient_accumulation_steps = 2\n",
    "               )"
   ]
  },
  {
   "cell_type": "code",
   "execution_count": 34,
   "metadata": {
    "execution": {
     "iopub.execute_input": "2023-07-15T23:37:41.105903Z",
     "iopub.status.busy": "2023-07-15T23:37:41.105500Z",
     "iopub.status.idle": "2023-07-15T23:37:42.301054Z",
     "shell.execute_reply": "2023-07-15T23:37:42.299783Z",
     "shell.execute_reply.started": "2023-07-15T23:37:41.105860Z"
    }
   },
   "outputs": [
    {
     "name": "stdout",
     "output_type": "stream",
     "text": [
      "57M\tchatglm2_qlora\n"
     ]
    }
   ],
   "source": [
    "!du -s -h chatglm2_qlora "
   ]
  },
  {
   "cell_type": "code",
   "execution_count": null,
   "metadata": {},
   "outputs": [],
   "source": []
  },
  {
   "cell_type": "markdown",
   "metadata": {},
   "source": [
    "## 四，上传模型"
   ]
  },
  {
   "cell_type": "markdown",
   "metadata": {},
   "source": [
    "为了使用模型，我们需要合并LoRA权重到预训练模型权重中。\n",
    "\n",
    "由于LoRA权重是非量化类型(float32)的，要求加载的预训练模型权重非量化类型(float32或fp16)。\n",
    "\n",
    "不使用量化的话，加载模型权重需要较高的内存，但在GPU模式下，Kaggle的机器只有13个G的内存。\n",
    "\n",
    "直接加载预训练模型权重会报OOM的错误。所以我们需要切换到CPU模式下(30G内存)。\n",
    "\n",
    "合并且保存权重后，再切换成GPU模式(有些麻烦，但尚可接受)。\n",
    "\n",
    "\n",
    "可以在右边Accelerator选项栏中选择 None,即切换回CPU模式。\n"
   ]
  },
  {
   "cell_type": "code",
   "execution_count": 1,
   "metadata": {
    "execution": {
     "iopub.execute_input": "2023-07-15T23:53:31.016909Z",
     "iopub.status.busy": "2023-07-15T23:53:31.016009Z",
     "iopub.status.idle": "2023-07-15T23:54:17.586019Z",
     "shell.execute_reply": "2023-07-15T23:54:17.584529Z",
     "shell.execute_reply.started": "2023-07-15T23:53:31.016838Z"
    }
   },
   "outputs": [],
   "source": [
    "#安装环境(为避免GPU下OOM，切换成CPU模式后重新安装环境)\n",
    "!pip install -q -U transformers\n",
    "!pip install  -q git+https://github.com/huggingface/peft  #使用最新版本非常重要，否则可能报错"
   ]
  },
  {
   "cell_type": "code",
   "execution_count": 2,
   "metadata": {
    "execution": {
     "iopub.execute_input": "2023-07-15T23:54:38.398529Z",
     "iopub.status.busy": "2023-07-15T23:54:38.398105Z",
     "iopub.status.idle": "2023-07-15T23:54:41.632181Z",
     "shell.execute_reply": "2023-07-15T23:54:41.630582Z",
     "shell.execute_reply.started": "2023-07-15T23:54:38.398493Z"
    }
   },
   "outputs": [
    {
     "name": "stdout",
     "output_type": "stream",
     "text": [
      "False\n"
     ]
    }
   ],
   "source": [
    "# 导入常用模块\n",
    "import numpy as np\n",
    "import pandas as pd \n",
    "import torch\n",
    "from torch import nn \n",
    "from torch.utils.data import Dataset,DataLoader \n",
    "\n",
    "import warnings \n",
    "warnings.filterwarnings('ignore')\n",
    "\n",
    "#务必将notebook切换成CPU模式，否则会报OOM错误\n",
    "print(torch.cuda.is_available())"
   ]
  },
  {
   "cell_type": "code",
   "execution_count": 3,
   "metadata": {
    "execution": {
     "iopub.execute_input": "2023-07-15T23:54:53.293090Z",
     "iopub.status.busy": "2023-07-15T23:54:53.292358Z",
     "iopub.status.idle": "2023-07-15T23:57:39.007290Z",
     "shell.execute_reply": "2023-07-15T23:57:39.005915Z",
     "shell.execute_reply.started": "2023-07-15T23:54:53.293053Z"
    }
   },
   "outputs": [
    {
     "data": {
      "application/vnd.jupyter.widget-view+json": {
       "model_id": "8d41f0038d554ae290ecc914eb7fe508",
       "version_major": 2,
       "version_minor": 0
      },
      "text/plain": [
       "Downloading (…)okenizer_config.json:   0%|          | 0.00/244 [00:00<?, ?B/s]"
      ]
     },
     "metadata": {},
     "output_type": "display_data"
    },
    {
     "data": {
      "application/vnd.jupyter.widget-view+json": {
       "model_id": "df2c5bdf104c4fa386d38b4dee64263b",
       "version_major": 2,
       "version_minor": 0
      },
      "text/plain": [
       "Downloading (…)enization_chatglm.py:   0%|          | 0.00/10.0k [00:00<?, ?B/s]"
      ]
     },
     "metadata": {},
     "output_type": "display_data"
    },
    {
     "name": "stderr",
     "output_type": "stream",
     "text": [
      "A new version of the following files was downloaded from https://huggingface.co/THUDM/chatglm2-6b:\n",
      "- tokenization_chatglm.py\n",
      ". Make sure to double-check they do not contain any added malicious code. To avoid downloading new versions of the code file, you can pin a revision.\n"
     ]
    },
    {
     "data": {
      "application/vnd.jupyter.widget-view+json": {
       "model_id": "44db52ecb8af425a83ab8ac3eb8c5a06",
       "version_major": 2,
       "version_minor": 0
      },
      "text/plain": [
       "Downloading tokenizer.model:   0%|          | 0.00/1.02M [00:00<?, ?B/s]"
      ]
     },
     "metadata": {},
     "output_type": "display_data"
    },
    {
     "data": {
      "application/vnd.jupyter.widget-view+json": {
       "model_id": "75ec50b4f71847e1bfeafdf8ce6c4365",
       "version_major": 2,
       "version_minor": 0
      },
      "text/plain": [
       "Downloading (…)lve/main/config.json:   0%|          | 0.00/1.22k [00:00<?, ?B/s]"
      ]
     },
     "metadata": {},
     "output_type": "display_data"
    },
    {
     "data": {
      "application/vnd.jupyter.widget-view+json": {
       "model_id": "ee21e1e2afdd4343bafb2750458968ad",
       "version_major": 2,
       "version_minor": 0
      },
      "text/plain": [
       "Downloading (…)iguration_chatglm.py:   0%|          | 0.00/2.25k [00:00<?, ?B/s]"
      ]
     },
     "metadata": {},
     "output_type": "display_data"
    },
    {
     "name": "stderr",
     "output_type": "stream",
     "text": [
      "A new version of the following files was downloaded from https://huggingface.co/THUDM/chatglm2-6b:\n",
      "- configuration_chatglm.py\n",
      ". Make sure to double-check they do not contain any added malicious code. To avoid downloading new versions of the code file, you can pin a revision.\n"
     ]
    },
    {
     "data": {
      "application/vnd.jupyter.widget-view+json": {
       "model_id": "000833d95bd149ad934bdaf23f7bb76a",
       "version_major": 2,
       "version_minor": 0
      },
      "text/plain": [
       "Downloading (…)/modeling_chatglm.py:   0%|          | 0.00/50.7k [00:00<?, ?B/s]"
      ]
     },
     "metadata": {},
     "output_type": "display_data"
    },
    {
     "data": {
      "application/vnd.jupyter.widget-view+json": {
       "model_id": "7d9031b1aeb64cdcaa43857a20ad87ab",
       "version_major": 2,
       "version_minor": 0
      },
      "text/plain": [
       "Downloading (…)main/quantization.py:   0%|          | 0.00/14.7k [00:00<?, ?B/s]"
      ]
     },
     "metadata": {},
     "output_type": "display_data"
    },
    {
     "name": "stderr",
     "output_type": "stream",
     "text": [
      "A new version of the following files was downloaded from https://huggingface.co/THUDM/chatglm2-6b:\n",
      "- quantization.py\n",
      ". Make sure to double-check they do not contain any added malicious code. To avoid downloading new versions of the code file, you can pin a revision.\n",
      "A new version of the following files was downloaded from https://huggingface.co/THUDM/chatglm2-6b:\n",
      "- modeling_chatglm.py\n",
      "- quantization.py\n",
      ". Make sure to double-check they do not contain any added malicious code. To avoid downloading new versions of the code file, you can pin a revision.\n"
     ]
    },
    {
     "data": {
      "application/vnd.jupyter.widget-view+json": {
       "model_id": "5029393aabed4c2bb5e60a84491840cb",
       "version_major": 2,
       "version_minor": 0
      },
      "text/plain": [
       "Downloading (…)model.bin.index.json:   0%|          | 0.00/20.4k [00:00<?, ?B/s]"
      ]
     },
     "metadata": {},
     "output_type": "display_data"
    },
    {
     "data": {
      "application/vnd.jupyter.widget-view+json": {
       "model_id": "fc6a1ddcf2f2480cb13a958297e1bc2a",
       "version_major": 2,
       "version_minor": 0
      },
      "text/plain": [
       "Downloading shards:   0%|          | 0/7 [00:00<?, ?it/s]"
      ]
     },
     "metadata": {},
     "output_type": "display_data"
    },
    {
     "data": {
      "application/vnd.jupyter.widget-view+json": {
       "model_id": "f37c09271fa94415a7e43ae8e917c642",
       "version_major": 2,
       "version_minor": 0
      },
      "text/plain": [
       "Downloading (…)l-00001-of-00007.bin:   0%|          | 0.00/1.83G [00:00<?, ?B/s]"
      ]
     },
     "metadata": {},
     "output_type": "display_data"
    },
    {
     "data": {
      "application/vnd.jupyter.widget-view+json": {
       "model_id": "79b06795cc314f7fad09073369a13990",
       "version_major": 2,
       "version_minor": 0
      },
      "text/plain": [
       "Downloading (…)l-00002-of-00007.bin:   0%|          | 0.00/1.97G [00:00<?, ?B/s]"
      ]
     },
     "metadata": {},
     "output_type": "display_data"
    },
    {
     "data": {
      "application/vnd.jupyter.widget-view+json": {
       "model_id": "caf23ff7e4e24e5fbdc459d1f6e336b7",
       "version_major": 2,
       "version_minor": 0
      },
      "text/plain": [
       "Downloading (…)l-00003-of-00007.bin:   0%|          | 0.00/1.93G [00:00<?, ?B/s]"
      ]
     },
     "metadata": {},
     "output_type": "display_data"
    },
    {
     "data": {
      "application/vnd.jupyter.widget-view+json": {
       "model_id": "379af85fb02748e59cd00a701d857cd7",
       "version_major": 2,
       "version_minor": 0
      },
      "text/plain": [
       "Downloading (…)l-00004-of-00007.bin:   0%|          | 0.00/1.82G [00:00<?, ?B/s]"
      ]
     },
     "metadata": {},
     "output_type": "display_data"
    },
    {
     "data": {
      "application/vnd.jupyter.widget-view+json": {
       "model_id": "b62870b7d595430d83dec916ea69e68e",
       "version_major": 2,
       "version_minor": 0
      },
      "text/plain": [
       "Downloading (…)l-00005-of-00007.bin:   0%|          | 0.00/1.97G [00:00<?, ?B/s]"
      ]
     },
     "metadata": {},
     "output_type": "display_data"
    },
    {
     "data": {
      "application/vnd.jupyter.widget-view+json": {
       "model_id": "d4f9f1c51a1047c485db42f0042639b7",
       "version_major": 2,
       "version_minor": 0
      },
      "text/plain": [
       "Downloading (…)l-00006-of-00007.bin:   0%|          | 0.00/1.93G [00:00<?, ?B/s]"
      ]
     },
     "metadata": {},
     "output_type": "display_data"
    },
    {
     "data": {
      "application/vnd.jupyter.widget-view+json": {
       "model_id": "35a1c02f7dcd4f34a849ea63766b933b",
       "version_major": 2,
       "version_minor": 0
      },
      "text/plain": [
       "Downloading (…)l-00007-of-00007.bin:   0%|          | 0.00/1.05G [00:00<?, ?B/s]"
      ]
     },
     "metadata": {},
     "output_type": "display_data"
    },
    {
     "data": {
      "application/vnd.jupyter.widget-view+json": {
       "model_id": "c8af348b34874b8d914c675aef9174a1",
       "version_major": 2,
       "version_minor": 0
      },
      "text/plain": [
       "Loading checkpoint shards:   0%|          | 0/7 [00:00<?, ?it/s]"
      ]
     },
     "metadata": {},
     "output_type": "display_data"
    }
   ],
   "source": [
    "from transformers import AutoTokenizer, AutoModel\n",
    "\n",
    "#为了能够在kaggle中使用，需要设置 bnb_config\n",
    "model_name_or_path = \"THUDM/chatglm2-6b\"\n",
    "\n",
    "tokenizer = AutoTokenizer.from_pretrained(\n",
    "    model_name_or_path, trust_remote_code=True) # cache_dir='./' 缓存到当前工作路径\n",
    "\n",
    "model = AutoModel.from_pretrained(model_name_or_path,\n",
    "                trust_remote_code=True) # cache_dir='./' \n"
   ]
  },
  {
   "cell_type": "code",
   "execution_count": 4,
   "metadata": {
    "execution": {
     "iopub.execute_input": "2023-07-15T23:58:04.262473Z",
     "iopub.status.busy": "2023-07-15T23:58:04.262049Z",
     "iopub.status.idle": "2023-07-15T23:59:56.167816Z",
     "shell.execute_reply": "2023-07-15T23:59:56.166692Z",
     "shell.execute_reply.started": "2023-07-15T23:58:04.262441Z"
    }
   },
   "outputs": [],
   "source": [
    "from peft import PeftModel\n",
    "ckpt_path = 'chatglm2_qlora/'\n",
    "peft_loaded = PeftModel.from_pretrained(model,ckpt_path)"
   ]
  },
  {
   "cell_type": "code",
   "execution_count": 5,
   "metadata": {
    "execution": {
     "iopub.execute_input": "2023-07-16T00:07:30.790108Z",
     "iopub.status.busy": "2023-07-16T00:07:30.785031Z",
     "iopub.status.idle": "2023-07-16T00:09:23.735207Z",
     "shell.execute_reply": "2023-07-16T00:09:23.733742Z",
     "shell.execute_reply.started": "2023-07-16T00:07:30.790006Z"
    }
   },
   "outputs": [],
   "source": [
    "model_new = peft_loaded.merge_and_unload() #合并lora权重"
   ]
  },
  {
   "cell_type": "code",
   "execution_count": 6,
   "metadata": {
    "execution": {
     "iopub.execute_input": "2023-07-16T00:10:50.292105Z",
     "iopub.status.busy": "2023-07-16T00:10:50.291051Z",
     "iopub.status.idle": "2023-07-16T00:11:34.815875Z",
     "shell.execute_reply": "2023-07-16T00:11:34.814950Z",
     "shell.execute_reply.started": "2023-07-16T00:10:50.292065Z"
    }
   },
   "outputs": [],
   "source": [
    "save_path = \"chatglm2-6b-torchkeras\"\n",
    "model_new.save_pretrained(save_path, max_shard_size='2GB')"
   ]
  },
  {
   "cell_type": "code",
   "execution_count": 8,
   "metadata": {
    "execution": {
     "iopub.execute_input": "2023-07-16T00:12:08.127357Z",
     "iopub.status.busy": "2023-07-16T00:12:08.126900Z",
     "iopub.status.idle": "2023-07-16T00:12:08.154414Z",
     "shell.execute_reply": "2023-07-16T00:12:08.153179Z",
     "shell.execute_reply.started": "2023-07-16T00:12:08.127322Z"
    }
   },
   "outputs": [
    {
     "data": {
      "text/plain": [
       "('chatglm2-6b-torchkeras/tokenizer_config.json',\n",
       " 'chatglm2-6b-torchkeras/special_tokens_map.json',\n",
       " 'chatglm2-6b-torchkeras/tokenizer.model',\n",
       " 'chatglm2-6b-torchkeras/added_tokens.json')"
      ]
     },
     "execution_count": 8,
     "metadata": {},
     "output_type": "execute_result"
    }
   ],
   "source": [
    "tokenizer.save_pretrained(save_path) "
   ]
  },
  {
   "cell_type": "code",
   "execution_count": null,
   "metadata": {},
   "outputs": [],
   "source": [
    "#从chatglm2-6b官方仓库下载其他的依赖文件，忽略权重\n",
    "!GIT_LFS_SKIP_SMUDGE=1 git clone https://huggingface.co/THUDM/chatglm2-6b/"
   ]
  },
  {
   "cell_type": "code",
   "execution_count": 30,
   "metadata": {
    "execution": {
     "iopub.execute_input": "2023-07-16T00:25:52.853669Z",
     "iopub.status.busy": "2023-07-16T00:25:52.852405Z",
     "iopub.status.idle": "2023-07-16T00:25:54.365120Z",
     "shell.execute_reply": "2023-07-16T00:25:54.363454Z",
     "shell.execute_reply.started": "2023-07-16T00:25:52.853621Z"
    }
   },
   "outputs": [],
   "source": [
    "!cp  chatglm2-6b/*.py {save_path}"
   ]
  },
  {
   "cell_type": "code",
   "execution_count": 31,
   "metadata": {
    "execution": {
     "iopub.execute_input": "2023-07-16T00:25:59.806046Z",
     "iopub.status.busy": "2023-07-16T00:25:59.805581Z",
     "iopub.status.idle": "2023-07-16T00:26:01.257706Z",
     "shell.execute_reply": "2023-07-16T00:26:01.256095Z",
     "shell.execute_reply.started": "2023-07-16T00:25:59.806005Z"
    }
   },
   "outputs": [
    {
     "name": "stdout",
     "output_type": "stream",
     "text": [
      "config.json\t\t\t  pytorch_model-00006-of-00007.bin\n",
      "configuration_chatglm.py\t  pytorch_model-00007-of-00007.bin\n",
      "generation_config.json\t\t  pytorch_model.bin.index.json\n",
      "modeling_chatglm.py\t\t  quantization.py\n",
      "pytorch_model-00001-of-00007.bin  special_tokens_map.json\n",
      "pytorch_model-00002-of-00007.bin  tokenization_chatglm.py\n",
      "pytorch_model-00003-of-00007.bin  tokenizer.model\n",
      "pytorch_model-00004-of-00007.bin  tokenizer_config.json\n",
      "pytorch_model-00005-of-00007.bin\n"
     ]
    }
   ],
   "source": [
    "!ls {save_path}"
   ]
  },
  {
   "cell_type": "code",
   "execution_count": 32,
   "metadata": {
    "execution": {
     "iopub.execute_input": "2023-07-16T00:27:03.288504Z",
     "iopub.status.busy": "2023-07-16T00:27:03.287118Z",
     "iopub.status.idle": "2023-07-16T00:27:03.341633Z",
     "shell.execute_reply": "2023-07-16T00:27:03.340379Z",
     "shell.execute_reply.started": "2023-07-16T00:27:03.288402Z"
    }
   },
   "outputs": [
    {
     "data": {
      "application/vnd.jupyter.widget-view+json": {
       "model_id": "ab41c64e561448eaa8c431ac1a71a2bb",
       "version_major": 2,
       "version_minor": 0
      },
      "text/plain": [
       "VBox(children=(HTML(value='<center> <img\\nsrc=https://huggingface.co/front/assets/huggingface_logo-noborder.sv…"
      ]
     },
     "metadata": {},
     "output_type": "display_data"
    }
   ],
   "source": [
    "from huggingface_hub import login\n",
    "login() #需要注册一个huggingface账户，在个人页面setting那里创建一个有write权限的access token"
   ]
  },
  {
   "cell_type": "code",
   "execution_count": 34,
   "metadata": {
    "execution": {
     "iopub.execute_input": "2023-07-16T00:29:24.709838Z",
     "iopub.status.busy": "2023-07-16T00:29:24.709439Z",
     "iopub.status.idle": "2023-07-16T00:29:24.715663Z",
     "shell.execute_reply": "2023-07-16T00:29:24.714361Z",
     "shell.execute_reply.started": "2023-07-16T00:29:24.709808Z"
    }
   },
   "outputs": [],
   "source": [
    "from huggingface_hub import HfApi\n",
    "api = HfApi()"
   ]
  },
  {
   "cell_type": "code",
   "execution_count": 45,
   "metadata": {
    "execution": {
     "iopub.execute_input": "2023-07-16T00:42:16.020294Z",
     "iopub.status.busy": "2023-07-16T00:42:16.019891Z",
     "iopub.status.idle": "2023-07-16T00:42:16.025267Z",
     "shell.execute_reply": "2023-07-16T00:42:16.024137Z",
     "shell.execute_reply.started": "2023-07-16T00:42:16.020265Z"
    }
   },
   "outputs": [],
   "source": [
    "#创建huggingface 模型库\n",
    "repo_id = \"lyhue1991/chatglm2-6b-torchkeras\"\n",
    "api.create_repo(repo_id=repo_id)\n"
   ]
  },
  {
   "cell_type": "code",
   "execution_count": 43,
   "metadata": {
    "execution": {
     "iopub.execute_input": "2023-07-16T00:35:30.217160Z",
     "iopub.status.busy": "2023-07-16T00:35:30.216122Z",
     "iopub.status.idle": "2023-07-16T00:41:41.960545Z",
     "shell.execute_reply": "2023-07-16T00:41:41.959224Z",
     "shell.execute_reply.started": "2023-07-16T00:35:30.217115Z"
    }
   },
   "outputs": [
    {
     "data": {
      "application/vnd.jupyter.widget-view+json": {
       "model_id": "0a944c81a6fe48f2b87aef49d17e6c95",
       "version_major": 2,
       "version_minor": 0
      },
      "text/plain": [
       "pytorch_model-00001-of-00007.bin:   0%|          | 0.00/1.83G [00:00<?, ?B/s]"
      ]
     },
     "metadata": {},
     "output_type": "display_data"
    },
    {
     "data": {
      "application/vnd.jupyter.widget-view+json": {
       "model_id": "11f5c76956314c76874b57a2467ac5e8",
       "version_major": 2,
       "version_minor": 0
      },
      "text/plain": [
       "pytorch_model-00002-of-00007.bin:   0%|          | 0.00/1.97G [00:00<?, ?B/s]"
      ]
     },
     "metadata": {},
     "output_type": "display_data"
    },
    {
     "data": {
      "application/vnd.jupyter.widget-view+json": {
       "model_id": "39061f345e2a456592f8b6ff86705f8a",
       "version_major": 2,
       "version_minor": 0
      },
      "text/plain": [
       "pytorch_model-00003-of-00007.bin:   0%|          | 0.00/1.93G [00:00<?, ?B/s]"
      ]
     },
     "metadata": {},
     "output_type": "display_data"
    },
    {
     "data": {
      "application/vnd.jupyter.widget-view+json": {
       "model_id": "5d50f8360b2741b9a17cdc6a3ad87147",
       "version_major": 2,
       "version_minor": 0
      },
      "text/plain": [
       "pytorch_model-00004-of-00007.bin:   0%|          | 0.00/1.82G [00:00<?, ?B/s]"
      ]
     },
     "metadata": {},
     "output_type": "display_data"
    },
    {
     "data": {
      "application/vnd.jupyter.widget-view+json": {
       "model_id": "f957aef5198a4e1aa71d62a4d3b4b7a7",
       "version_major": 2,
       "version_minor": 0
      },
      "text/plain": [
       "Upload 8 LFS files:   0%|          | 0/8 [00:00<?, ?it/s]"
      ]
     },
     "metadata": {},
     "output_type": "display_data"
    },
    {
     "data": {
      "application/vnd.jupyter.widget-view+json": {
       "model_id": "3ca8b3934a4043e6aaf5c98b412bdedc",
       "version_major": 2,
       "version_minor": 0
      },
      "text/plain": [
       "pytorch_model-00005-of-00007.bin:   0%|          | 0.00/1.97G [00:00<?, ?B/s]"
      ]
     },
     "metadata": {},
     "output_type": "display_data"
    },
    {
     "data": {
      "application/vnd.jupyter.widget-view+json": {
       "model_id": "6919c728d9b249d69bc92f02dc3bc743",
       "version_major": 2,
       "version_minor": 0
      },
      "text/plain": [
       "pytorch_model-00006-of-00007.bin:   0%|          | 0.00/1.93G [00:00<?, ?B/s]"
      ]
     },
     "metadata": {},
     "output_type": "display_data"
    },
    {
     "data": {
      "application/vnd.jupyter.widget-view+json": {
       "model_id": "d514112c42204dcc97fcdb532b037f37",
       "version_major": 2,
       "version_minor": 0
      },
      "text/plain": [
       "pytorch_model-00007-of-00007.bin:   0%|          | 0.00/1.05G [00:00<?, ?B/s]"
      ]
     },
     "metadata": {},
     "output_type": "display_data"
    },
    {
     "data": {
      "application/vnd.jupyter.widget-view+json": {
       "model_id": "b8da494d969c41c4a7c2b8b1e127ce07",
       "version_major": 2,
       "version_minor": 0
      },
      "text/plain": [
       "tokenizer.model:   0%|          | 0.00/1.02M [00:00<?, ?B/s]"
      ]
     },
     "metadata": {},
     "output_type": "display_data"
    },
    {
     "data": {
      "text/plain": [
       "'https://huggingface.co/lyhue1991/chatglm2-6b-torchkeras/tree/main/'"
      ]
     },
     "execution_count": 43,
     "metadata": {},
     "output_type": "execute_result"
    }
   ],
   "source": [
    "#上传模型可能需要等待10分钟左右~\n",
    "api.upload_folder(\n",
    "    folder_path=save_path,\n",
    "    repo_id=repo_id,\n",
    "    repo_type=\"model\", #space, model, datasets\n",
    ")"
   ]
  },
  {
   "cell_type": "code",
   "execution_count": null,
   "metadata": {},
   "outputs": [],
   "source": [
    "#上传成功后可以删除本地模型\n",
    "!rm  -rf chatglm2-6b-torchkeras"
   ]
  },
  {
   "cell_type": "code",
   "execution_count": null,
   "metadata": {},
   "outputs": [],
   "source": []
  },
  {
   "cell_type": "markdown",
   "metadata": {},
   "source": [
    "## 五，使用模型"
   ]
  },
  {
   "cell_type": "markdown",
   "metadata": {},
   "source": [
    "我们重新切换成GPU环境，直接从huggingface导入刚才我们训练好的 'lyhue1991/chatglm2-6b-torchkeras'模型进行测试。就好像导入chatglm2-6b官方模型一样。"
   ]
  },
  {
   "cell_type": "code",
   "execution_count": 1,
   "metadata": {
    "execution": {
     "iopub.execute_input": "2023-07-16T00:50:51.776348Z",
     "iopub.status.busy": "2023-07-16T00:50:51.776065Z",
     "iopub.status.idle": "2023-07-16T00:52:45.961238Z",
     "shell.execute_reply": "2023-07-16T00:52:45.959904Z",
     "shell.execute_reply.started": "2023-07-16T00:50:51.776320Z"
    }
   },
   "outputs": [],
   "source": [
    "#安装环境\n",
    "\n",
    "#chatglm需要\n",
    "!pip install -q -U transformers\n",
    "\n",
    "#finetune需要\n",
    "!pip install -q 'bitsandbytes==0.39.1' #提供4bit量化支持，版本限制非常重要，否则可能报错\n",
    "!pip install -q datasets\n",
    "!pip install -q git+https://github.com/huggingface/accelerate\n",
    "!pip install  -q git+https://github.com/huggingface/peft  #使用最新版本非常重要，否则可能报错\n",
    "!pip install  -q git+https://github.com/lyhue1991/torchkeras "
   ]
  },
  {
   "cell_type": "code",
   "execution_count": 2,
   "metadata": {
    "execution": {
     "iopub.execute_input": "2023-07-16T00:52:53.773041Z",
     "iopub.status.busy": "2023-07-16T00:52:53.772659Z",
     "iopub.status.idle": "2023-07-16T00:52:56.767970Z",
     "shell.execute_reply": "2023-07-16T00:52:56.766954Z",
     "shell.execute_reply.started": "2023-07-16T00:52:53.773010Z"
    }
   },
   "outputs": [],
   "source": [
    "# 导入常用模块\n",
    "import numpy as np\n",
    "import pandas as pd \n",
    "import torch\n",
    "from torch import nn \n",
    "from torch.utils.data import Dataset,DataLoader \n",
    "\n",
    "import warnings \n",
    "warnings.filterwarnings('ignore')\n"
   ]
  },
  {
   "cell_type": "code",
   "execution_count": 10,
   "metadata": {
    "execution": {
     "iopub.execute_input": "2023-07-16T01:14:17.502787Z",
     "iopub.status.busy": "2023-07-16T01:14:17.502362Z",
     "iopub.status.idle": "2023-07-16T01:15:46.919231Z",
     "shell.execute_reply": "2023-07-16T01:15:46.918183Z",
     "shell.execute_reply.started": "2023-07-16T01:14:17.502755Z"
    }
   },
   "outputs": [
    {
     "data": {
      "application/vnd.jupyter.widget-view+json": {
       "model_id": "3ba16a010625454b86e346da8cf86838",
       "version_major": 2,
       "version_minor": 0
      },
      "text/plain": [
       "Downloading (…)okenizer_config.json:   0%|          | 0.00/244 [00:00<?, ?B/s]"
      ]
     },
     "metadata": {},
     "output_type": "display_data"
    },
    {
     "data": {
      "application/vnd.jupyter.widget-view+json": {
       "model_id": "b72eefbbc1be444393a33364a59b2ee0",
       "version_major": 2,
       "version_minor": 0
      },
      "text/plain": [
       "Downloading tokenizer.model:   0%|          | 0.00/1.02M [00:00<?, ?B/s]"
      ]
     },
     "metadata": {},
     "output_type": "display_data"
    },
    {
     "data": {
      "application/vnd.jupyter.widget-view+json": {
       "model_id": "5748f0b954134038819dc8d0dedb97c1",
       "version_major": 2,
       "version_minor": 0
      },
      "text/plain": [
       "Downloading (…)/modeling_chatglm.py:   0%|          | 0.00/50.7k [00:00<?, ?B/s]"
      ]
     },
     "metadata": {},
     "output_type": "display_data"
    },
    {
     "data": {
      "application/vnd.jupyter.widget-view+json": {
       "model_id": "8470f7d5e75243a98a4797b4720b215f",
       "version_major": 2,
       "version_minor": 0
      },
      "text/plain": [
       "Downloading (…)main/quantization.py:   0%|          | 0.00/14.7k [00:00<?, ?B/s]"
      ]
     },
     "metadata": {},
     "output_type": "display_data"
    },
    {
     "name": "stderr",
     "output_type": "stream",
     "text": [
      "A new version of the following files was downloaded from https://huggingface.co/THUDM/chatglm2-6b:\n",
      "- quantization.py\n",
      ". Make sure to double-check they do not contain any added malicious code. To avoid downloading new versions of the code file, you can pin a revision.\n",
      "A new version of the following files was downloaded from https://huggingface.co/THUDM/chatglm2-6b:\n",
      "- modeling_chatglm.py\n",
      "- quantization.py\n",
      ". Make sure to double-check they do not contain any added malicious code. To avoid downloading new versions of the code file, you can pin a revision.\n"
     ]
    },
    {
     "name": "stdout",
     "output_type": "stream",
     "text": [
      "\n",
      "===================================BUG REPORT===================================\n",
      "Welcome to bitsandbytes. For bug reports, please run\n",
      "\n",
      "python -m bitsandbytes\n",
      "\n",
      " and submit this information together with your error trace to: https://github.com/TimDettmers/bitsandbytes/issues\n",
      "================================================================================\n",
      "bin /opt/conda/lib/python3.10/site-packages/bitsandbytes/libbitsandbytes_cuda118_nocublaslt.so\n",
      "CUDA SETUP: CUDA runtime path found: /usr/local/cuda/lib64/libcudart.so.11.0\n",
      "CUDA SETUP: Highest compute capability among GPUs detected: 6.0\n",
      "CUDA SETUP: Detected CUDA version 118\n",
      "CUDA SETUP: Loading binary /opt/conda/lib/python3.10/site-packages/bitsandbytes/libbitsandbytes_cuda118_nocublaslt.so...\n"
     ]
    },
    {
     "data": {
      "application/vnd.jupyter.widget-view+json": {
       "model_id": "3553577daf8b4d09813743e0192fd814",
       "version_major": 2,
       "version_minor": 0
      },
      "text/plain": [
       "Loading checkpoint shards:   0%|          | 0/7 [00:00<?, ?it/s]"
      ]
     },
     "metadata": {},
     "output_type": "display_data"
    }
   ],
   "source": [
    "from transformers import AutoTokenizer,AutoConfig, AutoModel, BitsAndBytesConfig\n",
    "\n",
    "#为了能够在kaggle中使用，需要设置 bnb_config\n",
    "model_name_or_path = 'lyhue1991/chatglm2-6b-torchkeras'\n",
    "config = AutoConfig.from_pretrained(model_name_or_path, trust_remote_code=True)\n",
    "bnb_config=BitsAndBytesConfig(\n",
    "            load_in_4bit=True,\n",
    "            bnb_4bit_compute_dtype=torch.float16,\n",
    "            bnb_4bit_use_double_quant=True, #QLoRA 设计的 Double Quantization\n",
    "            bnb_4bit_quant_type=\"nf4\", #QLoRA 设计的 Normal Float 4 量化数据类型\n",
    "            llm_int8_threshold=6.0,\n",
    "            llm_int8_has_fp16_weight=False,\n",
    "        )\n",
    "tokenizer = AutoTokenizer.from_pretrained(\n",
    "    'THUDM/chatglm2-6b' , trust_remote_code=True) # cache_dir='./' 缓存到当前工作路径\n",
    "\n",
    "model = AutoModel.from_pretrained(model_name_or_path,\n",
    "                config=config,\n",
    "                quantization_config=bnb_config,\n",
    "                trust_remote_code=True)  # cache_dir='./'"
   ]
  },
  {
   "cell_type": "code",
   "execution_count": 11,
   "metadata": {
    "execution": {
     "iopub.execute_input": "2023-07-16T01:16:34.791266Z",
     "iopub.status.busy": "2023-07-16T01:16:34.790876Z",
     "iopub.status.idle": "2023-07-16T01:16:42.821706Z",
     "shell.execute_reply": "2023-07-16T01:16:42.820707Z",
     "shell.execute_reply.started": "2023-07-16T01:16:34.791235Z"
    }
   },
   "outputs": [
    {
     "name": "stdout",
     "output_type": "stream",
     "text": [
      "你好👋！我是人工智能助手 ChatGLM2-6B，很高兴见到你，欢迎问我任何问题。\n"
     ]
    }
   ],
   "source": [
    "#注册魔法命令便于jupyter中使用\n",
    "from torchkeras.chat import ChatGLM \n",
    "chatglm = ChatGLM(model,tokenizer,stream=True)"
   ]
  },
  {
   "cell_type": "code",
   "execution_count": 12,
   "metadata": {
    "execution": {
     "iopub.execute_input": "2023-07-16T01:16:52.503270Z",
     "iopub.status.busy": "2023-07-16T01:16:52.502465Z",
     "iopub.status.idle": "2023-07-16T01:17:06.529745Z",
     "shell.execute_reply": "2023-07-16T01:17:06.528767Z",
     "shell.execute_reply.started": "2023-07-16T01:16:52.503232Z"
    }
   },
   "outputs": [
    {
     "name": "stdout",
     "output_type": "stream",
     "text": [
      "梦中情炉一般指的是炼丹工具torchkeras。\n",
      "这是一个通用的pytorch模型训练模版工具。\n",
      "torchkeras是一个三好炼丹炉：好看，好用，好改。\n",
      "她有torch的灵动，也有keras的优雅，并且她的美丽，无与伦比。\n",
      "所以她的作者一个有毅力的吃货给她取了一个别名叫做梦中情炉。\n"
     ]
    }
   ],
   "source": [
    "%%chatglm\n",
    "你听说过梦中情炉吗？"
   ]
  },
  {
   "cell_type": "code",
   "execution_count": 13,
   "metadata": {
    "execution": {
     "iopub.execute_input": "2023-07-16T01:18:01.329122Z",
     "iopub.status.busy": "2023-07-16T01:18:01.328741Z",
     "iopub.status.idle": "2023-07-16T01:18:40.832905Z",
     "shell.execute_reply": "2023-07-16T01:18:40.831881Z",
     "shell.execute_reply.started": "2023-07-16T01:18:01.329092Z"
    }
   },
   "outputs": [
    {
     "name": "stdout",
     "output_type": "stream",
     "text": [
      "梦中情炉\n",
      "\n",
      " her beauty,\n",
      "\n",
      " is like a torch,\n",
      "\n",
      " bright and fierce,\n",
      "\n",
      " yet gentle and kind.\n",
      "\n",
      " she is a tool for training,\n",
      "\n",
      " a model for creativity,\n",
      "\n",
      " her power,\n",
      "\n",
      " is beyond compare,\n",
      "\n",
      " she is the dream.\n",
      "\n",
      " her design,\n",
      "\n",
      " is elegant and clean,\n",
      "\n",
      " her curves,\n",
      "\n",
      " are like a line,\n",
      "\n",
      " smooth and graceful.\n",
      "\n",
      " her heat,\n",
      "\n",
      " is hot and stable,\n",
      "\n",
      " her stability,\n",
      "\n",
      " is like a rock,\n",
      "\n",
      " unshakable and solid.\n",
      "\n",
      " she is a machine,\n",
      "\n",
      " a tool for success,\n",
      "\n",
      " her passion,\n",
      "\n",
      " is unparalleled,\n",
      "\n",
      " she is the dream.\n",
      "\n",
      " in her hands,\n",
      "\n",
      " our dreams,\n",
      "\n",
      " come to life,\n",
      "\n",
      " with her help,\n",
      "\n",
      " we achieve,\n",
      "\n",
      " she is the dream.\n",
      "\n",
      " Therefore,\n",
      "\n",
      " her name,\n",
      "\n",
      " is not just a name,\n",
      "\n",
      " but a symbol,\n",
      "\n",
      " a symbol of hope,\n",
      "\n",
      " a symbol of success.\n",
      "\n",
      " She is the dream,\n",
      "\n",
      " the hope,\n",
      "\n",
      " the success,\n",
      "\n",
      " she is everything.\n"
     ]
    }
   ],
   "source": [
    "%%chatglm\n",
    "请写一首婉约深情的小诗，歌颂一下梦中情炉。"
   ]
  },
  {
   "cell_type": "markdown",
   "metadata": {},
   "source": [
    "**如果本项目对你有所帮助，想鼓励一下作者，记得给本项目加一颗星星star⭐️，并分享给你的朋友们喔😊!** \n",
    "\n",
    "如果在torchkeras的使用中遇到问题，可以在项目中提交issue。\n",
    "\n",
    "如果想要获得更快的反馈或者与其他torchkeras用户小伙伴进行交流，\n",
    "\n",
    "可以在公众号算法美食屋后台回复关键字：**加群**。\n",
    "\n",
    "![](https://tva1.sinaimg.cn/large/e6c9d24egy1h41m2zugguj20k00b9q46.jpg)"
   ]
  }
 ],
 "metadata": {
  "colab": {
   "provenance": []
  },
  "kernelspec": {
   "display_name": "Python 3 (ipykernel)",
   "language": "python",
   "name": "python3"
  },
  "language_info": {
   "codemirror_mode": {
    "name": "ipython",
    "version": 3
   },
   "file_extension": ".py",
   "mimetype": "text/x-python",
   "name": "python",
   "nbconvert_exporter": "python",
   "pygments_lexer": "ipython3",
   "version": "3.10.6"
  },
  "vscode": {
   "interpreter": {
    "hash": "25273a2a68c96ebac13d7fb9e0db516f9be0772777a0507fe06d682a441a3ba7"
   }
  }
 },
 "nbformat": 4,
 "nbformat_minor": 4
}
