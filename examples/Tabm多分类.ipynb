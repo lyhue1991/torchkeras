{
 "cells": [
  {
   "cell_type": "markdown",
   "id": "c6a2bd60",
   "metadata": {},
   "source": [
    "# Tabm，一个自带集成特效的深度学习模型"
   ]
  },
  {
   "cell_type": "markdown",
   "id": "382eb806",
   "metadata": {
    "editable": true,
    "slideshow": {
     "slide_type": ""
    },
    "tags": []
   },
   "source": [
    "Tabm是一个可以用于结构化(tabular)数据的分类和回归任务的深度学习模型。\n",
    "\n",
    "它的名字是 Tabular  和 Multiple单词开头的拼接。\n",
    "\n",
    "含义是：A Tabular DL model that makes Multiple predictions。\n",
    "\n",
    "顾名思义，Tabm模型能够同时输出多个预测，并且取这些预测的平均作为最终的输出。\n",
    "\n",
    "这是一种非常经典的模型集成的思想，叫做bagging，就像随机森林做的那样。\n",
    "\n",
    "你可以这样大致理解Tabm的原理。\n",
    "\n",
    "1，Tabm由许多MLP小模型(例如k=32个)组成的，每个小模型都可以输出独立的预测，每个小模型的loss也是独立计算的。最终的预测是它们的预测结果的平均。\n",
    "\n",
    "2，为了减少总的权重参数规模，这些小模型有相当多的权重参数是共享的，因此Tabm的实际权重大小是显著小于许多个完全独立的小模型的，这种权重共享的设计实际上也起到了一定的正则化的作用，可以提升模型的效果。\n",
    "\n",
    "3，Tabm还引入了精心设计的对数值特征的PLREmbedding技术以及模型参数初始化方法，这些设计也能显著提升模型的效果。\n",
    "\n",
    "\n",
    "参考: https://github.com/yandex-research/tabm\n",
    "\n",
    "本范例我们使用Covertype数据集，它的目标是预测植被覆盖类型，是一个七分类问题。\n",
    "\n",
    "公众号**算法美食屋**后台回复关键词：torchkeras，获取本文notebook源码和所用Covertype数据集下载链接。\n",
    "\n"
   ]
  },
  {
   "cell_type": "code",
   "execution_count": null,
   "id": "7c04c9be-b192-43d0-a201-64960268c464",
   "metadata": {},
   "outputs": [],
   "source": [
    "!pip install tabm \n",
    "!pip install torchkeras==4.0.5"
   ]
  },
  {
   "cell_type": "code",
   "execution_count": null,
   "id": "75d03676-4a13-4a6d-bb46-326b47f21119",
   "metadata": {},
   "outputs": [],
   "source": []
  },
  {
   "cell_type": "markdown",
   "id": "81c4a29a",
   "metadata": {},
   "source": [
    "## 一，准备数据"
   ]
  },
  {
   "cell_type": "code",
   "execution_count": 2,
   "id": "18d1cca2",
   "metadata": {
    "editable": true,
    "slideshow": {
     "slide_type": ""
    },
    "tags": []
   },
   "outputs": [
    {
     "name": "stdout",
     "output_type": "stream",
     "text": [
      "dfdata.shape =  (581012, 13)\n",
      "target_col =  Cover_Type\n",
      "cat_cols =  ['Wilderness_Area', 'Soil_Type']\n",
      "num_cols =  ['Elevation', 'Aspect', 'Slope', '...']\n",
      "len(dftrain) =  371847\n",
      "len(dfval) =  92962\n",
      "len(dftest) =  116203\n"
     ]
    }
   ],
   "source": [
    "import numpy as np \n",
    "import pandas as pd \n",
    "from sklearn.model_selection import train_test_split\n",
    "\n",
    "file_path = \"covertype.parquet\"\n",
    "dfdata = pd.read_parquet(file_path)\n",
    "\n",
    "cat_cols = ['Wilderness_Area', 'Soil_Type']\n",
    "num_cols = ['Elevation','Aspect','Slope','Horizontal_Distance_To_Hydrology',\n",
    " 'Vertical_Distance_To_Hydrology','Horizontal_Distance_To_Roadways',\n",
    " 'Hillshade_9am','Hillshade_Noon','Hillshade_3pm','Horizontal_Distance_To_Fire_Points']\n",
    "target_col = 'Cover_Type'\n",
    "\n",
    "print(\"dfdata.shape = \",dfdata.shape)\n",
    "print(\"target_col = \", target_col)\n",
    "print('cat_cols = ', cat_cols)  \n",
    "print('num_cols = ', num_cols[:3]+['...'])\n",
    "\n",
    "dftmp, dftest_raw = train_test_split(dfdata, random_state=42, test_size=0.2)\n",
    "dftrain_raw, dfval_raw = train_test_split(dftmp, random_state=42, test_size=0.2)\n",
    "\n",
    "print(\"len(dftrain) = \",len(dftrain_raw))\n",
    "print(\"len(dfval) = \",len(dfval_raw))\n",
    "print(\"len(dftest) = \",len(dftest_raw))\n"
   ]
  },
  {
   "cell_type": "code",
   "execution_count": 4,
   "id": "169703c2",
   "metadata": {
    "tags": []
   },
   "outputs": [
    {
     "data": {
      "application/vnd.jupyter.widget-view+json": {
       "model_id": "0be04fb536be45b197c4914168e34ea7",
       "version_major": 2,
       "version_minor": 0
      },
      "text/plain": [
       "  0%|          | 0/2 [00:00<?, ?it/s]"
      ]
     },
     "metadata": {},
     "output_type": "display_data"
    }
   ],
   "source": [
    "from torchkeras.tabular import TabularPreprocessor\n",
    "from sklearn.preprocessing import OrdinalEncoder\n",
    "\n",
    "#特征工程\n",
    "pipe = TabularPreprocessor(cat_features = cat_cols, \n",
    "                           embedding_features=cat_cols)\n",
    "encoder = OrdinalEncoder()\n",
    "\n",
    "dftrain = pipe.fit_transform(dftrain_raw.drop(target_col,axis=1))\n",
    "dftrain[target_col] = encoder.fit_transform(\n",
    "    dftrain_raw[target_col].values.reshape(-1,1)).astype(np.int32)\n",
    "\n",
    "dfval = pipe.transform(dfval_raw.drop(target_col,axis=1))\n",
    "dfval[target_col] = encoder.transform(\n",
    "    dfval_raw[target_col].values.reshape(-1,1)).astype(np.int32)\n",
    "\n",
    "dftest = pipe.transform(dftest_raw.drop(target_col,axis=1))\n",
    "dftest[target_col] = encoder.transform(\n",
    "    dftest_raw[target_col].values.reshape(-1,1)).astype(np.int32)\n"
   ]
  },
  {
   "cell_type": "code",
   "execution_count": 5,
   "id": "7768b968",
   "metadata": {
    "tags": []
   },
   "outputs": [],
   "source": [
    "from torchkeras.tabular import TabularDataset\n",
    "from torch.utils.data import Dataset,DataLoader \n",
    "\n",
    "def get_dataset(dfdata):\n",
    "    return TabularDataset(\n",
    "                data = dfdata,\n",
    "                task = 'multiclass', #regression, binary, multiclass\n",
    "                target = [target_col],\n",
    "                continuous_cols = pipe.get_numeric_features(),\n",
    "                categorical_cols = pipe.get_embedding_features()\n",
    "        )\n",
    "\n",
    "def get_dataloader(ds,batch_size=1024,num_workers=0,shuffle=False):\n",
    "    dl = DataLoader(\n",
    "            ds,\n",
    "            batch_size=batch_size,\n",
    "            shuffle=shuffle,\n",
    "            num_workers=num_workers,\n",
    "            pin_memory=False,\n",
    "        )\n",
    "    return dl \n",
    "    \n",
    "ds_train = get_dataset(dftrain)\n",
    "ds_val = get_dataset(dfval)\n",
    "ds_test = get_dataset(dftest)\n",
    "\n",
    "dl_train = get_dataloader(ds_train,shuffle=True)\n",
    "dl_val = get_dataloader(ds_val,shuffle=False)\n",
    "dl_test = get_dataloader(ds_test,shuffle=False)\n"
   ]
  },
  {
   "cell_type": "code",
   "execution_count": 6,
   "id": "ec009434",
   "metadata": {
    "tags": []
   },
   "outputs": [],
   "source": [
    "for batch in dl_train:\n",
    "    break\n",
    "    \n",
    "    "
   ]
  },
  {
   "cell_type": "markdown",
   "id": "bb2f0170",
   "metadata": {},
   "source": [
    "## 二，定义模型"
   ]
  },
  {
   "cell_type": "code",
   "execution_count": 7,
   "id": "767468ab",
   "metadata": {
    "editable": true,
    "slideshow": {
     "slide_type": ""
    },
    "tags": []
   },
   "outputs": [
    {
     "name": "stdout",
     "output_type": "stream",
     "text": [
      "模型配置:\n",
      "categorical_cardinality = [4, 40]\n",
      "embedding_dims = [(4, 2), (40, 20)]\n",
      "7\n"
     ]
    }
   ],
   "source": [
    "import math\n",
    "import random\n",
    "from copy import deepcopy\n",
    "from dataclasses import dataclass, field\n",
    "from typing import Any, List, Literal, NamedTuple, Optional, Tuple, Union\n",
    "import torch \n",
    "from torch import Tensor\n",
    "from torch import nn \n",
    "import tabm \n",
    "from torchkeras.tabular.config import ModelConfig\n",
    "\n",
    "@dataclass\n",
    "class TabMConfig(ModelConfig):\n",
    "    k: int = field(\n",
    "        default=32,\n",
    "        metadata={\"help\": \"Number of parallel predictions to make (default: 32)\"}\n",
    "    )\n",
    "    n_blocks: int = field(\n",
    "        default=3,\n",
    "        metadata={\"help\": \"Number of Linear blocks in Tabm (default: 3)\"}\n",
    "    )\n",
    "    d_block: int = field(\n",
    "        default=512,\n",
    "        metadata={\"help\": \"Dimension of block in Tabm (default: 512)\"}\n",
    "    )\n",
    "    \n",
    "    plr_embed_dim: int = field(\n",
    "            default=64,\n",
    "            metadata={\"help\": \"The embedding dimension of the PLREmbedding. Defaults to 64\"},\n",
    "    )\n",
    "    \n",
    "    plr_frequencies_num: int = field(\n",
    "            default=96,\n",
    "            metadata={\"help\": \"The n_frequencies of the PLREmbedding. Defaults to 96\"},\n",
    "    )\n",
    "    \n",
    "    plr_frequency_scale: float = field(\n",
    "            default=0.013675285379929491,\n",
    "            metadata={\"help\": \"The frequency_scale of the PLREmbedding. Defaults to 0.013675285379929491\"},\n",
    "    )\n",
    "    dropout: float = field(default=0.1)\n",
    "    scaling_init: str = field(default=\"normal\")\n",
    "    _module_src: str = field(default=\"models.tabm\")\n",
    "    _model_name: str = field(default=\"TabMModel\")\n",
    "    _config_name: str = field(default=\"TabMConfig\")\n",
    "\n",
    "\n",
    "class CatEmbeddings(nn.Module):\n",
    "    def __init__(\n",
    "        self,\n",
    "        categorical_embedding_dims,\n",
    "        embedding_dropout = 0.0,\n",
    "    ):\n",
    "        super().__init__()\n",
    "        self.categorical_embedding_dims = categorical_embedding_dims\n",
    "        self.cat_embedding_layers = nn.ModuleList(\n",
    "            [nn.Embedding(x, y) for x, y in categorical_embedding_dims])\n",
    "        if embedding_dropout > 0:\n",
    "            self.embd_dropout = nn.Dropout(embedding_dropout)\n",
    "        else:\n",
    "            self.embd_dropout = None\n",
    "\n",
    "    def forward(self, x):\n",
    "        # (B, N)\n",
    "        x_cat = x\n",
    "        assert x_cat.shape[1] == len(\n",
    "            self.cat_embedding_layers\n",
    "        ), \"categorical_data must have same number of columns as categorical embedding layers\"\n",
    "        if x_cat.shape[1] > 0:\n",
    "            embed = torch.cat(\n",
    "                [\n",
    "                    embedding_layer(x_cat[:, i])\n",
    "                    for i, embedding_layer in enumerate(self.cat_embedding_layers)\n",
    "                ],\n",
    "                dim=1,\n",
    "            )\n",
    "        else:\n",
    "            embed = torch.empty(0, 0)\n",
    "        if self.embd_dropout is not None:\n",
    "            embed = self.embd_dropout(embed)\n",
    "        return embed\n",
    "    \n",
    "class PeriodicEmbeddings(nn.Module):\n",
    "    def __init__(\n",
    "        self, n_features: int, n_frequencies: int, frequency_scale: float\n",
    "    ) -> None:\n",
    "        super().__init__()\n",
    "        self.frequencies = nn.Parameter(\n",
    "            torch.normal(0.0, frequency_scale, (n_features, n_frequencies))\n",
    "        )\n",
    "    def forward(self, x: Tensor) -> Tensor:\n",
    "        assert x.ndim == 2\n",
    "        x = 2 * torch.pi * self.frequencies[None] * x[..., None]\n",
    "        x = torch.cat([torch.cos(x), torch.sin(x)], -1)\n",
    "        return x\n",
    "\n",
    "\n",
    "class PLREmbeddings(nn.Sequential):\n",
    "    def __init__(\n",
    "        self,\n",
    "        n_features: int,\n",
    "        n_frequencies: int,\n",
    "        frequency_scale: float,\n",
    "        d_embedding: int,\n",
    "    ) -> None:\n",
    "        super().__init__(\n",
    "            PeriodicEmbeddings(n_features, n_frequencies, frequency_scale),\n",
    "            nn.Linear(2 * n_frequencies, d_embedding),\n",
    "            nn.ReLU(),\n",
    "        )\n",
    "\n",
    "\n",
    "class TabMModel(nn.Module):\n",
    "    def __init__(self, config, **kwargs):\n",
    "        super().__init__()\n",
    "        self.hparams = config\n",
    "        \n",
    "        d_numerical = self.hparams.continuous_dim\n",
    "        categories = self.hparams.categorical_cardinality\n",
    "        n_classes = self.hparams.output_dim\n",
    "        d_out = n_classes if n_classes is not None else 1\n",
    "        d_block = self.hparams.d_block\n",
    "        n_blocks = self.hparams.n_blocks\n",
    "        dropout = self.hparams.dropout\n",
    "        k = self.hparams.k\n",
    "        scaling_init = self.hparams.scaling_init\n",
    "\n",
    "        self.cat_embeddings = CatEmbeddings(\n",
    "            categorical_embedding_dims = self.hparams.embedding_dims\n",
    "        ) if categories else None\n",
    "        \n",
    "        self.num_embeddings = PLREmbeddings(\n",
    "            n_features = d_numerical,\n",
    "            n_frequencies = self.hparams.plr_frequencies_num,\n",
    "            frequency_scale = self.hparams.plr_frequency_scale,\n",
    "            d_embedding = self.hparams.plr_embed_dim\n",
    "        ) if d_numerical>0 else None\n",
    "\n",
    "        d_in = d_numerical * self.hparams.plr_embed_dim + self.hparams.embedded_cat_dim\n",
    "        self.tabm_core = nn.Sequential(\n",
    "            tabm.EnsembleView(k=k),   # (B, d_in) -> (B, k, d_in)\n",
    "            tabm.MLPBackboneBatchEnsemble(\n",
    "                d_in=d_in,\n",
    "                n_blocks=n_blocks,\n",
    "                d_block=d_block,\n",
    "                dropout=dropout,\n",
    "                k=k,\n",
    "                tabm_init=True,\n",
    "                scaling_init=scaling_init,\n",
    "                start_scaling_init_chunks=None\n",
    "            ),\n",
    "            tabm.LinearEnsemble(512, d_out, k=k) # -> (B, k, d_out)\n",
    "        )\n",
    "        self.loss = getattr(nn, self.hparams.loss)()\n",
    "\n",
    "\n",
    "    def forward(self, inputs):\n",
    "        x_cat,x_num = inputs[\"categorical\"], inputs[\"continuous\"]\n",
    "        x = []\n",
    "        if self.num_embeddings is not None:\n",
    "            x.append(\n",
    "                x_num\n",
    "                if self.num_embeddings is None\n",
    "                else self.num_embeddings(x_num).flatten(1)\n",
    "            )\n",
    "            \n",
    "        if self.cat_embeddings is not None:\n",
    "            x.append(self.cat_embeddings(x_cat))\n",
    "\n",
    "        x = torch.cat(x, dim=1)\n",
    "        logits = self.tabm_core(x)\n",
    "        \n",
    "        with torch.no_grad():\n",
    "            if self.hparams.task == 'binary':\n",
    "                probs = torch.sigmoid(logits)\n",
    "            elif self.hparams.task == 'multiclass':\n",
    "                probs = torch.softmax(logits, dim=-1)\n",
    "            else:\n",
    "                probs = logits\n",
    "            yhat = probs.mean(1)\n",
    "\n",
    "        return {\"logits\": logits, \"yhat\":yhat}\n",
    "\n",
    "    def compute_loss(self, output, target):\n",
    "        y_pred = output[\"logits\"]\n",
    "        # TabM产生k个预测，需要分别训练\n",
    "        # 回归: (batch_size, k) -> (batch_size * k,)\n",
    "        # 分类: (batch_size, k, n_classes) -> (batch_size * k, n_classes)\n",
    "        y_pred = y_pred.flatten(0, 1)\n",
    "        # 复制目标以匹配预测的形状\n",
    "        # (batch_size,) -> (batch_size * k,)\n",
    "        y_true = target.repeat_interleave(self.hparams.k)\n",
    "        computed_loss = self.loss(y_pred.squeeze(), y_true.squeeze())\n",
    "        return computed_loss\n",
    "    \n",
    "    \n",
    "    def predict(self, batch):\n",
    "        self.eval()\n",
    "        output = self.forward(batch)\n",
    "        return output['yhat']\n",
    "    \n",
    "\n",
    "# 配置模型\n",
    "model_config = TabMConfig(\n",
    "    task=\"multiclass\",  #regression, binary, multiclass\n",
    "    k=32\n",
    ")\n",
    "\n",
    "# 合并数据集配置\n",
    "config = model_config.merge_dataset_config(ds_train)\n",
    "\n",
    "print('模型配置:')\n",
    "print('categorical_cardinality =', config.categorical_cardinality)\n",
    "print('embedding_dims =', config.embedding_dims)\n",
    "\n",
    "# 初始化模型\n",
    "net = TabMModel(config=config)\n",
    "\n",
    "print(net.hparams.output_dim)\n"
   ]
  },
  {
   "cell_type": "code",
   "execution_count": 8,
   "id": "7e312c76",
   "metadata": {
    "tags": []
   },
   "outputs": [
    {
     "name": "stdout",
     "output_type": "stream",
     "text": [
      "tensor(1.9471, grad_fn=<NllLossBackward0>)\n"
     ]
    }
   ],
   "source": [
    "output = net.forward(batch)\n",
    "loss = net.compute_loss(output,batch['target'])\n",
    "print(loss)\n"
   ]
  },
  {
   "cell_type": "markdown",
   "id": "22001eaf",
   "metadata": {},
   "source": [
    "## 三，训练模型"
   ]
  },
  {
   "cell_type": "code",
   "execution_count": 9,
   "id": "14bb01e8",
   "metadata": {
    "tags": []
   },
   "outputs": [],
   "source": [
    "from torchkeras import KerasModel \n",
    "from torchkeras.tabular import StepRunner \n",
    "KerasModel.StepRunner = StepRunner \n"
   ]
  },
  {
   "cell_type": "code",
   "execution_count": 10,
   "id": "780167c1",
   "metadata": {
    "tags": []
   },
   "outputs": [],
   "source": [
    "import torch \n",
    "from torch import nn \n",
    "class Accuracy(nn.Module):\n",
    "    def __init__(self):\n",
    "        super().__init__()\n",
    "\n",
    "        self.correct = nn.Parameter(torch.tensor(0.0),requires_grad=False)\n",
    "        self.total = nn.Parameter(torch.tensor(0.0),requires_grad=False)\n",
    "\n",
    "    def forward(self, preds: torch.Tensor, targets: torch.Tensor):\n",
    "        preds = preds.argmax(dim=-1)\n",
    "        targets = targets.reshape(-1)\n",
    "        m = (preds == targets).sum()\n",
    "        n = targets.shape[0] \n",
    "        self.correct += m \n",
    "        self.total += n\n",
    "        \n",
    "        return m/n\n",
    "\n",
    "    def compute(self):\n",
    "        return self.correct.float() / self.total \n",
    "    \n",
    "    def reset(self):\n",
    "        self.correct -= self.correct\n",
    "        self.total -= self.total\n",
    "        "
   ]
  },
  {
   "cell_type": "code",
   "execution_count": 13,
   "id": "d3c69f48",
   "metadata": {
    "tags": []
   },
   "outputs": [],
   "source": [
    "keras_model = KerasModel(net,\n",
    "                   loss_fn=None,\n",
    "                   optimizer = torch.optim.AdamW(net.parameters(),lr = 1e-3),\n",
    "                   metrics_dict = {\"acc\":Accuracy()}\n",
    "                   )\n"
   ]
  },
  {
   "cell_type": "code",
   "execution_count": 14,
   "id": "08f4ad31",
   "metadata": {
    "tags": []
   },
   "outputs": [
    {
     "name": "stderr",
     "output_type": "stream",
     "text": [
      "Detected kernel version 4.18.0, which is below the recommended minimum of 5.5.0; this can cause the process to hang. It is recommended to upgrade the kernel to the minimum version or higher.\n"
     ]
    },
    {
     "name": "stdout",
     "output_type": "stream",
     "text": [
      "\u001b[0;31m<<<<<< ⚡️ cuda is used >>>>>>\u001b[0m\n"
     ]
    },
    {
     "data": {
      "image/png": "[encoded data removed]",
      "text/plain": [
       "<Figure size 600x400 with 1 Axes>"
      ]
     },
     "metadata": {},
     "output_type": "display_data"
    },
    {
     "data": {
      "text/html": [
       "\n",
       "<style>\n",
       "    /* background: */\n",
       "    progress::-webkit-progress-bar {background-color: #CDCDCD; width: 100%;}\n",
       "    progress {background-color: #CDCDCD;}\n",
       "\n",
       "    /* value: */\n",
       "    progress::-webkit-progress-value {background-color: #00BFFF  !important;}\n",
       "    progress::-moz-progress-bar {background-color: #00BFFF  !important;}\n",
       "    progress {color: #00BFFF ;}\n",
       "\n",
       "    /* optional */\n",
       "    .progress-bar-interrupted, .progress-bar-interrupted::-webkit-progress-bar {\n",
       "        background: #000000;\n",
       "    }\n",
       "</style>\n"
      ],
      "text/plain": [
       "<IPython.core.display.HTML object>"
      ]
     },
     "metadata": {},
     "output_type": "display_data"
    },
    {
     "data": {
      "text/html": [
       "\n",
       "    <div>\n",
       "      <progress value='30' class='' max='30' style='width:300px; height:20px; vertical-align: middle;'></progress>\n",
       "      100% [30/30] [12:50]\n",
       "      <br>\n",
       "      ████████████████████100.00% [91/91] [val_loss=0.1828, val_acc=0.9390]\n",
       "    </div>\n",
       "    "
      ],
      "text/plain": [
       "<IPython.core.display.HTML object>"
      ]
     },
     "metadata": {},
     "output_type": "display_data"
    },
    {
     "data": {
      "text/html": [
       "<div>\n",
       "<style scoped>\n",
       "    .dataframe tbody tr th:only-of-type {\n",
       "        vertical-align: middle;\n",
       "    }\n",
       "\n",
       "    .dataframe tbody tr th {\n",
       "        vertical-align: top;\n",
       "    }\n",
       "\n",
       "    .dataframe thead th {\n",
       "        text-align: right;\n",
       "    }\n",
       "</style>\n",
       "<table border=\"1\" class=\"dataframe\">\n",
       "  <thead>\n",
       "    <tr style=\"text-align: right;\">\n",
       "      <th></th>\n",
       "      <th>epoch</th>\n",
       "      <th>train_loss</th>\n",
       "      <th>train_acc</th>\n",
       "      <th>lr</th>\n",
       "      <th>val_loss</th>\n",
       "      <th>val_acc</th>\n",
       "    </tr>\n",
       "  </thead>\n",
       "  <tbody>\n",
       "    <tr>\n",
       "      <th>0</th>\n",
       "      <td>1</td>\n",
       "      <td>0.706615</td>\n",
       "      <td>0.711688</td>\n",
       "      <td>0.001</td>\n",
       "      <td>0.522979</td>\n",
       "      <td>0.780545</td>\n",
       "    </tr>\n",
       "    <tr>\n",
       "      <th>1</th>\n",
       "      <td>2</td>\n",
       "      <td>0.498825</td>\n",
       "      <td>0.801983</td>\n",
       "      <td>0.001</td>\n",
       "      <td>0.430890</td>\n",
       "      <td>0.829801</td>\n",
       "    </tr>\n",
       "    <tr>\n",
       "      <th>2</th>\n",
       "      <td>3</td>\n",
       "      <td>0.433016</td>\n",
       "      <td>0.838444</td>\n",
       "      <td>0.001</td>\n",
       "      <td>0.372017</td>\n",
       "      <td>0.856866</td>\n",
       "    </tr>\n",
       "    <tr>\n",
       "      <th>3</th>\n",
       "      <td>4</td>\n",
       "      <td>0.391631</td>\n",
       "      <td>0.860443</td>\n",
       "      <td>0.001</td>\n",
       "      <td>0.337021</td>\n",
       "      <td>0.874346</td>\n",
       "    </tr>\n",
       "    <tr>\n",
       "      <th>4</th>\n",
       "      <td>5</td>\n",
       "      <td>0.362974</td>\n",
       "      <td>0.875981</td>\n",
       "      <td>0.001</td>\n",
       "      <td>0.312029</td>\n",
       "      <td>0.882952</td>\n",
       "    </tr>\n",
       "    <tr>\n",
       "      <th>5</th>\n",
       "      <td>6</td>\n",
       "      <td>0.342666</td>\n",
       "      <td>0.886711</td>\n",
       "      <td>0.001</td>\n",
       "      <td>0.293012</td>\n",
       "      <td>0.893752</td>\n",
       "    </tr>\n",
       "    <tr>\n",
       "      <th>6</th>\n",
       "      <td>7</td>\n",
       "      <td>0.326724</td>\n",
       "      <td>0.894201</td>\n",
       "      <td>0.001</td>\n",
       "      <td>0.276800</td>\n",
       "      <td>0.901110</td>\n",
       "    </tr>\n",
       "    <tr>\n",
       "      <th>7</th>\n",
       "      <td>8</td>\n",
       "      <td>0.313918</td>\n",
       "      <td>0.901196</td>\n",
       "      <td>0.001</td>\n",
       "      <td>0.262480</td>\n",
       "      <td>0.906747</td>\n",
       "    </tr>\n",
       "    <tr>\n",
       "      <th>8</th>\n",
       "      <td>9</td>\n",
       "      <td>0.304360</td>\n",
       "      <td>0.905975</td>\n",
       "      <td>0.001</td>\n",
       "      <td>0.254953</td>\n",
       "      <td>0.910383</td>\n",
       "    </tr>\n",
       "    <tr>\n",
       "      <th>9</th>\n",
       "      <td>10</td>\n",
       "      <td>0.295499</td>\n",
       "      <td>0.909828</td>\n",
       "      <td>0.001</td>\n",
       "      <td>0.244781</td>\n",
       "      <td>0.914470</td>\n",
       "    </tr>\n",
       "    <tr>\n",
       "      <th>10</th>\n",
       "      <td>11</td>\n",
       "      <td>0.288480</td>\n",
       "      <td>0.913427</td>\n",
       "      <td>0.001</td>\n",
       "      <td>0.242002</td>\n",
       "      <td>0.916891</td>\n",
       "    </tr>\n",
       "    <tr>\n",
       "      <th>11</th>\n",
       "      <td>12</td>\n",
       "      <td>0.281373</td>\n",
       "      <td>0.916466</td>\n",
       "      <td>0.001</td>\n",
       "      <td>0.230420</td>\n",
       "      <td>0.919957</td>\n",
       "    </tr>\n",
       "    <tr>\n",
       "      <th>12</th>\n",
       "      <td>13</td>\n",
       "      <td>0.276510</td>\n",
       "      <td>0.919225</td>\n",
       "      <td>0.001</td>\n",
       "      <td>0.225649</td>\n",
       "      <td>0.923345</td>\n",
       "    </tr>\n",
       "    <tr>\n",
       "      <th>13</th>\n",
       "      <td>14</td>\n",
       "      <td>0.271782</td>\n",
       "      <td>0.921616</td>\n",
       "      <td>0.001</td>\n",
       "      <td>0.224667</td>\n",
       "      <td>0.924518</td>\n",
       "    </tr>\n",
       "    <tr>\n",
       "      <th>14</th>\n",
       "      <td>15</td>\n",
       "      <td>0.267696</td>\n",
       "      <td>0.923393</td>\n",
       "      <td>0.001</td>\n",
       "      <td>0.218876</td>\n",
       "      <td>0.925184</td>\n",
       "    </tr>\n",
       "    <tr>\n",
       "      <th>15</th>\n",
       "      <td>16</td>\n",
       "      <td>0.264132</td>\n",
       "      <td>0.924781</td>\n",
       "      <td>0.001</td>\n",
       "      <td>0.214100</td>\n",
       "      <td>0.927304</td>\n",
       "    </tr>\n",
       "    <tr>\n",
       "      <th>16</th>\n",
       "      <td>17</td>\n",
       "      <td>0.260238</td>\n",
       "      <td>0.926577</td>\n",
       "      <td>0.001</td>\n",
       "      <td>0.214523</td>\n",
       "      <td>0.929100</td>\n",
       "    </tr>\n",
       "    <tr>\n",
       "      <th>17</th>\n",
       "      <td>18</td>\n",
       "      <td>0.256917</td>\n",
       "      <td>0.928473</td>\n",
       "      <td>0.001</td>\n",
       "      <td>0.208556</td>\n",
       "      <td>0.929595</td>\n",
       "    </tr>\n",
       "    <tr>\n",
       "      <th>18</th>\n",
       "      <td>19</td>\n",
       "      <td>0.254207</td>\n",
       "      <td>0.929057</td>\n",
       "      <td>0.001</td>\n",
       "      <td>0.204095</td>\n",
       "      <td>0.930488</td>\n",
       "    </tr>\n",
       "    <tr>\n",
       "      <th>19</th>\n",
       "      <td>20</td>\n",
       "      <td>0.251627</td>\n",
       "      <td>0.930173</td>\n",
       "      <td>0.001</td>\n",
       "      <td>0.200359</td>\n",
       "      <td>0.933252</td>\n",
       "    </tr>\n",
       "    <tr>\n",
       "      <th>20</th>\n",
       "      <td>21</td>\n",
       "      <td>0.248984</td>\n",
       "      <td>0.931335</td>\n",
       "      <td>0.001</td>\n",
       "      <td>0.198660</td>\n",
       "      <td>0.932650</td>\n",
       "    </tr>\n",
       "    <tr>\n",
       "      <th>21</th>\n",
       "      <td>22</td>\n",
       "      <td>0.246792</td>\n",
       "      <td>0.932491</td>\n",
       "      <td>0.001</td>\n",
       "      <td>0.196486</td>\n",
       "      <td>0.934844</td>\n",
       "    </tr>\n",
       "    <tr>\n",
       "      <th>22</th>\n",
       "      <td>23</td>\n",
       "      <td>0.244630</td>\n",
       "      <td>0.933653</td>\n",
       "      <td>0.001</td>\n",
       "      <td>0.195056</td>\n",
       "      <td>0.935189</td>\n",
       "    </tr>\n",
       "    <tr>\n",
       "      <th>23</th>\n",
       "      <td>24</td>\n",
       "      <td>0.242817</td>\n",
       "      <td>0.934234</td>\n",
       "      <td>0.001</td>\n",
       "      <td>0.191842</td>\n",
       "      <td>0.935716</td>\n",
       "    </tr>\n",
       "    <tr>\n",
       "      <th>24</th>\n",
       "      <td>25</td>\n",
       "      <td>0.240670</td>\n",
       "      <td>0.935057</td>\n",
       "      <td>0.001</td>\n",
       "      <td>0.190785</td>\n",
       "      <td>0.937243</td>\n",
       "    </tr>\n",
       "    <tr>\n",
       "      <th>25</th>\n",
       "      <td>26</td>\n",
       "      <td>0.238935</td>\n",
       "      <td>0.935874</td>\n",
       "      <td>0.001</td>\n",
       "      <td>0.189366</td>\n",
       "      <td>0.938071</td>\n",
       "    </tr>\n",
       "    <tr>\n",
       "      <th>26</th>\n",
       "      <td>27</td>\n",
       "      <td>0.237022</td>\n",
       "      <td>0.936977</td>\n",
       "      <td>0.001</td>\n",
       "      <td>0.189844</td>\n",
       "      <td>0.937211</td>\n",
       "    </tr>\n",
       "    <tr>\n",
       "      <th>27</th>\n",
       "      <td>28</td>\n",
       "      <td>0.235384</td>\n",
       "      <td>0.937275</td>\n",
       "      <td>0.001</td>\n",
       "      <td>0.185007</td>\n",
       "      <td>0.938523</td>\n",
       "    </tr>\n",
       "    <tr>\n",
       "      <th>28</th>\n",
       "      <td>29</td>\n",
       "      <td>0.234195</td>\n",
       "      <td>0.937714</td>\n",
       "      <td>0.001</td>\n",
       "      <td>0.184567</td>\n",
       "      <td>0.938147</td>\n",
       "    </tr>\n",
       "    <tr>\n",
       "      <th>29</th>\n",
       "      <td>30</td>\n",
       "      <td>0.232908</td>\n",
       "      <td>0.938429</td>\n",
       "      <td>0.001</td>\n",
       "      <td>0.182811</td>\n",
       "      <td>0.938964</td>\n",
       "    </tr>\n",
       "  </tbody>\n",
       "</table>\n",
       "</div>"
      ],
      "text/plain": [
       "    epoch  train_loss  train_acc     lr  val_loss   val_acc\n",
       "0       1    0.706615   0.711688  0.001  0.522979  0.780545\n",
       "1       2    0.498825   0.801983  0.001  0.430890  0.829801\n",
       "2       3    0.433016   0.838444  0.001  0.372017  0.856866\n",
       "3       4    0.391631   0.860443  0.001  0.337021  0.874346\n",
       "4       5    0.362974   0.875981  0.001  0.312029  0.882952\n",
       "5       6    0.342666   0.886711  0.001  0.293012  0.893752\n",
       "6       7    0.326724   0.894201  0.001  0.276800  0.901110\n",
       "7       8    0.313918   0.901196  0.001  0.262480  0.906747\n",
       "8       9    0.304360   0.905975  0.001  0.254953  0.910383\n",
       "9      10    0.295499   0.909828  0.001  0.244781  0.914470\n",
       "10     11    0.288480   0.913427  0.001  0.242002  0.916891\n",
       "11     12    0.281373   0.916466  0.001  0.230420  0.919957\n",
       "12     13    0.276510   0.919225  0.001  0.225649  0.923345\n",
       "13     14    0.271782   0.921616  0.001  0.224667  0.924518\n",
       "14     15    0.267696   0.923393  0.001  0.218876  0.925184\n",
       "15     16    0.264132   0.924781  0.001  0.214100  0.927304\n",
       "16     17    0.260238   0.926577  0.001  0.214523  0.929100\n",
       "17     18    0.256917   0.928473  0.001  0.208556  0.929595\n",
       "18     19    0.254207   0.929057  0.001  0.204095  0.930488\n",
       "19     20    0.251627   0.930173  0.001  0.200359  0.933252\n",
       "20     21    0.248984   0.931335  0.001  0.198660  0.932650\n",
       "21     22    0.246792   0.932491  0.001  0.196486  0.934844\n",
       "22     23    0.244630   0.933653  0.001  0.195056  0.935189\n",
       "23     24    0.242817   0.934234  0.001  0.191842  0.935716\n",
       "24     25    0.240670   0.935057  0.001  0.190785  0.937243\n",
       "25     26    0.238935   0.935874  0.001  0.189366  0.938071\n",
       "26     27    0.237022   0.936977  0.001  0.189844  0.937211\n",
       "27     28    0.235384   0.937275  0.001  0.185007  0.938523\n",
       "28     29    0.234195   0.937714  0.001  0.184567  0.938147\n",
       "29     30    0.232908   0.938429  0.001  0.182811  0.938964"
      ]
     },
     "execution_count": 14,
     "metadata": {},
     "output_type": "execute_result"
    }
   ],
   "source": [
    "keras_model.fit(\n",
    "    train_data = dl_train,\n",
    "    val_data= dl_val,\n",
    "    ckpt_path='checkpoint',\n",
    "    epochs=30,\n",
    "    patience=10,\n",
    "    monitor=\"val_acc\", \n",
    "    mode=\"max\",\n",
    "    plot = True,\n",
    "    wandb = False\n",
    ")\n"
   ]
  },
  {
   "cell_type": "markdown",
   "id": "092528f3",
   "metadata": {},
   "source": [
    "## 四，评估模型"
   ]
  },
  {
   "cell_type": "code",
   "execution_count": 15,
   "id": "15693dba",
   "metadata": {
    "tags": []
   },
   "outputs": [
    {
     "name": "stdout",
     "output_type": "stream",
     "text": [
      "100%|██████████████████████████████| 364/364 [00:15<00:00, 23.30it/s, val_acc=0.947, val_loss=0.165]\n"
     ]
    },
    {
     "data": {
      "text/plain": [
       "{'val_loss': 0.1648734294614949, 'val_acc': 0.9472041130065918}"
      ]
     },
     "execution_count": 15,
     "metadata": {},
     "output_type": "execute_result"
    }
   ],
   "source": [
    "keras_model.evaluate(dl_train)"
   ]
  },
  {
   "cell_type": "code",
   "execution_count": 16,
   "id": "4f52f49a",
   "metadata": {
    "tags": []
   },
   "outputs": [
    {
     "name": "stdout",
     "output_type": "stream",
     "text": [
      "100%|████████████████████████████████| 91/91 [00:03<00:00, 24.70it/s, val_acc=0.939, val_loss=0.183]\n"
     ]
    },
    {
     "data": {
      "text/plain": [
       "{'val_loss': 0.1828107291853035, 'val_acc': 0.938964307308197}"
      ]
     },
     "execution_count": 16,
     "metadata": {},
     "output_type": "execute_result"
    }
   ],
   "source": [
    "keras_model.evaluate(dl_val)"
   ]
  },
  {
   "cell_type": "code",
   "execution_count": 17,
   "id": "6050f49a",
   "metadata": {
    "tags": []
   },
   "outputs": [
    {
     "name": "stdout",
     "output_type": "stream",
     "text": [
      "100%|██████████████████████████████| 114/114 [00:04<00:00, 23.02it/s, val_acc=0.939, val_loss=0.181]\n"
     ]
    },
    {
     "data": {
      "text/plain": [
       "{'val_loss': 0.18126998371199557, 'val_acc': 0.9390290975570679}"
      ]
     },
     "execution_count": 17,
     "metadata": {},
     "output_type": "execute_result"
    }
   ],
   "source": [
    "keras_model.evaluate(dl_test)"
   ]
  },
  {
   "cell_type": "markdown",
   "id": "ced7f651",
   "metadata": {},
   "source": [
    "## 五，使用模型"
   ]
  },
  {
   "cell_type": "code",
   "execution_count": 18,
   "id": "0c3f0dd5",
   "metadata": {
    "tags": []
   },
   "outputs": [
    {
     "name": "stderr",
     "output_type": "stream",
     "text": [
      "100%|██████████| 114/114 [01:04<00:00,  1.77it/s]\n"
     ]
    }
   ],
   "source": [
    "from tqdm import tqdm \n",
    "net = net.cpu()\n",
    "net.eval()\n",
    "preds = []\n",
    "with torch.no_grad():\n",
    "    for batch in tqdm(dl_test):\n",
    "        preds.append(net.predict(batch))\n",
    "    "
   ]
  },
  {
   "cell_type": "code",
   "execution_count": 19,
   "id": "e330d9f7",
   "metadata": {
    "tags": []
   },
   "outputs": [],
   "source": [
    "yhat_list = [yd.argmax(dim=-1).tolist() for yd in preds]\n",
    "yhat = []\n",
    "for yd in yhat_list:\n",
    "    yhat.extend(yd)\n",
    "yhat = encoder.inverse_transform(np.array(yhat).reshape(-1,1))"
   ]
  },
  {
   "cell_type": "code",
   "execution_count": 20,
   "id": "ac0b9cad",
   "metadata": {
    "tags": []
   },
   "outputs": [],
   "source": [
    "dftest_raw = dftest_raw.rename(columns = {target_col: 'y'})\n",
    "dftest_raw['yhat'] = yhat"
   ]
  },
  {
   "cell_type": "code",
   "execution_count": 21,
   "id": "7cd623c7",
   "metadata": {
    "tags": []
   },
   "outputs": [
    {
     "name": "stdout",
     "output_type": "stream",
     "text": [
      "              precision    recall  f1-score   support\n",
      "\n",
      "           1       0.95      0.92      0.94     42557\n",
      "           2       0.94      0.96      0.95     56500\n",
      "           3       0.93      0.96      0.94      7121\n",
      "           4       0.91      0.79      0.85       526\n",
      "           5       0.86      0.83      0.84      1995\n",
      "           6       0.90      0.89      0.89      3489\n",
      "           7       0.94      0.94      0.94      4015\n",
      "\n",
      "    accuracy                           0.94    116203\n",
      "   macro avg       0.92      0.90      0.91    116203\n",
      "weighted avg       0.94      0.94      0.94    116203\n",
      "\n"
     ]
    }
   ],
   "source": [
    "from sklearn.metrics import classification_report\n",
    "print(classification_report(y_true = dftest_raw['y'],y_pred = dftest_raw['yhat']))"
   ]
  },
  {
   "cell_type": "code",
   "execution_count": 22,
   "id": "75b5f2ee",
   "metadata": {
    "editable": true,
    "slideshow": {
     "slide_type": ""
    },
    "tags": []
   },
   "outputs": [
    {
     "data": {
      "image/png": "[encoded data removed]",
      "text/plain": [
       "<Figure size 1000x700 with 1 Axes>"
      ]
     },
     "metadata": {},
     "output_type": "display_data"
    }
   ],
   "source": [
    "import numpy as np\n",
    "import pandas as pd\n",
    "import matplotlib.pyplot as plt\n",
    "import seaborn as sns\n",
    "from sklearn.metrics import confusion_matrix\n",
    "\n",
    "\n",
    "# 计算混淆矩阵\n",
    "cm = confusion_matrix(dftest_raw['y'], dftest_raw['yhat'])\n",
    "\n",
    "# 将混淆矩阵转换为DataFrame\n",
    "df_cm = pd.DataFrame(cm, index=['Actual {}'.format(i) for i in range(cm.shape[0])],\n",
    "                     columns=['Predicted {}'.format(i) for i in range(cm.shape[1])])\n",
    "\n",
    "# 使用seaborn绘制混淆矩阵\n",
    "plt.figure(figsize=(10,7))\n",
    "sns.heatmap(df_cm, annot=True, fmt='d', cmap='Blues', cbar=False)\n",
    "plt.title('Confusion Matrix')\n",
    "plt.xlabel('Predicted labels')\n",
    "plt.ylabel('True labels')\n",
    "plt.show()"
   ]
  },
  {
   "cell_type": "markdown",
   "id": "8bd458bc",
   "metadata": {},
   "source": [
    "## 六，保存模型"
   ]
  },
  {
   "cell_type": "markdown",
   "id": "84fd68e5",
   "metadata": {},
   "source": [
    "最佳模型权重已经保存在ckpt_path = 'checkpoint'位置了。"
   ]
  },
  {
   "cell_type": "code",
   "execution_count": 23,
   "id": "039d1fd4",
   "metadata": {
    "tags": []
   },
   "outputs": [
    {
     "data": {
      "text/plain": [
       "<All keys matched successfully>"
      ]
     },
     "execution_count": 23,
     "metadata": {},
     "output_type": "execute_result"
    }
   ],
   "source": [
    "net.load_state_dict(torch.load('checkpoint',weights_only=True))"
   ]
  },
  {
   "cell_type": "markdown",
   "id": "6af119bc",
   "metadata": {},
   "source": [
    "## 七，与LightGBM对比"
   ]
  },
  {
   "cell_type": "code",
   "execution_count": 24,
   "id": "5a217aa4",
   "metadata": {
    "editable": true,
    "slideshow": {
     "slide_type": ""
    },
    "tags": []
   },
   "outputs": [
    {
     "name": "stdout",
     "output_type": "stream",
     "text": [
      "[LightGBM] [Info] Auto-choosing row-wise multi-threading, the overhead of testing was 0.014433 seconds.\n",
      "You can set `force_row_wise=true` to remove the overhead.\n",
      "And if memory is not enough, you can set `force_col_wise=true`.\n",
      "[LightGBM] [Info] Total Bins 2219\n",
      "[LightGBM] [Info] Number of data points in the train set: 371847, number of used features: 12\n",
      "[LightGBM] [Info] Start training from score -1.009334\n",
      "[LightGBM] [Info] Start training from score -0.717530\n",
      "[LightGBM] [Info] Start training from score -2.789050\n",
      "[LightGBM] [Info] Start training from score -5.354306\n",
      "[LightGBM] [Info] Start training from score -4.127223\n",
      "[LightGBM] [Info] Start training from score -3.510637\n",
      "[LightGBM] [Info] Start training from score -3.341909\n",
      "Training until validation scores don't improve for 50 rounds\n",
      "Did not meet early stopping. Best iteration is:\n",
      "[500]\tvalidate's multi_logloss: 0.408343\n",
      "val_score =  0.8321464684494739\n",
      "test_score =  0.8329389086340284\n"
     ]
    }
   ],
   "source": [
    "import pandas as pd \n",
    "import lightgbm as lgb\n",
    "from sklearn.preprocessing import OrdinalEncoder\n",
    "from sklearn.metrics import accuracy_score \n",
    "\n",
    "\n",
    "dftmp, dftest_raw = train_test_split(dfdata, random_state=42, test_size=0.2)\n",
    "dftrain_raw, dfval_raw = train_test_split(dftmp, random_state=42, test_size=0.2)\n",
    "\n",
    "dftrain = dftrain_raw.copy()\n",
    "dfval = dfval_raw.copy()\n",
    "dftest = dftest_raw.copy()\n",
    "\n",
    "target_col = 'Cover_Type'\n",
    "cat_cols = ['Wilderness_Area', 'Soil_Type']\n",
    "\n",
    "encoder = OrdinalEncoder()\n",
    "\n",
    "dftrain[target_col] = encoder.fit_transform(dftrain[target_col].values.reshape(-1,1)) \n",
    "dfval[target_col] = encoder.transform(dfval[target_col].values.reshape(-1,1))\n",
    "dftest[target_col] = encoder.transform(dftest[target_col].values.reshape(-1,1))\n",
    "\n",
    "for col in cat_cols:\n",
    "    dftrain[col] = dftrain[col].astype(int)\n",
    "    dfval[col] = dfval[col].astype(int)\n",
    "    dftest[col] = dftest[col].astype(int)\n",
    "\n",
    "ds_train = lgb.Dataset(dftrain.drop(columns=[target_col]), label=dftrain[target_col],categorical_feature=cat_cols)\n",
    "ds_val = lgb.Dataset(dfval.drop(columns=[target_col]), label=dfval[target_col],categorical_feature=cat_cols)\n",
    "ds_test = lgb.Dataset(dftest.drop(columns=[target_col]), label=dftest[target_col],categorical_feature=cat_cols)\n",
    "\n",
    "\n",
    "import lightgbm as lgb\n",
    "\n",
    "params = {\n",
    "    'n_estimators':500,\n",
    "    'boosting_type': 'gbdt',\n",
    "    'objective':'multiclass',\n",
    "    'num_class': 7,  # 类别数量\n",
    "    'metric': 'multi_logloss', \n",
    "    'learning_rate': 0.01,\n",
    "    'verbose': 1,\n",
    "    'early_stopping_round':50\n",
    "}\n",
    "model = lgb.train(params, ds_train, \n",
    "        valid_sets=[ds_val], \n",
    "        valid_names=['validate']\n",
    "        )\n",
    "\n",
    "y_pred_val = model.predict(dfval.drop(target_col,axis = 1), num_iteration=model.best_iteration)\n",
    "y_pred_val = np.argmax(y_pred_val, axis=1)\n",
    "\n",
    "y_pred_test = model.predict(dftest.drop(target_col,axis = 1), num_iteration=model.best_iteration)\n",
    "y_pred_test = np.argmax(y_pred_test, axis=1)\n",
    "\n",
    "val_score = accuracy_score(dfval[target_col], y_pred_val)\n",
    "test_score = accuracy_score(dftest[target_col], y_pred_test) \n",
    "\n",
    "print('val_score = ',val_score)\n",
    "print('test_score = ' , test_score)"
   ]
  }
 ],
 "metadata": {
  "kaggle": {
   "accelerator": "gpu",
   "dataSources": [],
   "dockerImageVersionId": 30747,
   "isGpuEnabled": true,
   "isInternetEnabled": true,
   "language": "python",
   "sourceType": "notebook"
  },
  "kernelspec": {
   "display_name": "deeplearning",
   "language": "python",
   "name": "deeplearning"
  },
  "language_info": {
   "codemirror_mode": {
    "name": "ipython",
    "version": 3
   },
   "file_extension": ".py",
   "mimetype": "text/x-python",
   "name": "python",
   "nbconvert_exporter": "python",
   "pygments_lexer": "ipython3",
   "version": "3.12.11"
  }
 },
 "nbformat": 4,
 "nbformat_minor": 5
}
