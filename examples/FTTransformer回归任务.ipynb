{
 "cells": [
  {
   "cell_type": "markdown",
   "id": "c6a2bd60",
   "metadata": {},
   "source": [
    "# FTTransformer回归任务"
   ]
  },
  {
   "cell_type": "markdown",
   "id": "382eb806",
   "metadata": {
    "editable": true,
    "slideshow": {
     "slide_type": ""
    },
    "tags": []
   },
   "source": [
    "本范例演示使用 torchkeras.tabular 中的 FTTransformer 对加州房价数据集 进行回归建模。\n",
    "\n",
    "公众号**算法美食屋**后台回复关键词：torchkeras，获取本文notebook源码和所用california_housing数据集下载链接。\n",
    "\n",
    "\n",
    "California_housing数据集使用房屋的以下一些特征:\n",
    "\n",
    "* 房屋所在街区中位数收入(MedInc)\n",
    "  \n",
    "* 房屋年龄(HouseAge)\n",
    "\n",
    "* 房屋的房间数量(AveRooms)\n",
    "\n",
    "* 房屋平均每个房间的床数量(AveBedrms)\n",
    "\n",
    "* 房屋所在地区的人口(Population)\n",
    "\n",
    "* 房屋所在街区平均家庭人数(AveOccup)\n",
    "\n",
    "* 房屋位置经度(Longitude)\n",
    "\n",
    "* 房屋位置纬度(Latitude)\n",
    "\n",
    "\n",
    "来预测房屋的中位数每平米单价(MedHouseVal)。\n",
    "\n"
   ]
  },
  {
   "cell_type": "code",
   "execution_count": 1,
   "id": "79c9440c-4e00-4d27-93d6-3f73c40ae149",
   "metadata": {
    "editable": true,
    "slideshow": {
     "slide_type": ""
    },
    "tags": []
   },
   "outputs": [],
   "source": [
    "import sys\n",
    "sys.path.append('..')\n"
   ]
  },
  {
   "cell_type": "markdown",
   "id": "81c4a29a",
   "metadata": {},
   "source": [
    "## 一，准备数据"
   ]
  },
  {
   "cell_type": "code",
   "execution_count": 2,
   "id": "3d9dfe1d-5f6e-4e14-ae76-3841ac15fb1b",
   "metadata": {
    "editable": true,
    "slideshow": {
     "slide_type": ""
    },
    "tags": []
   },
   "outputs": [
    {
     "name": "stdout",
     "output_type": "stream",
     "text": [
      "dfdata.shape =  (20640, 9)\n",
      "target_col =  MedHouseVal\n",
      "cat_cols =  []\n",
      "num_cols =  ['MedInc', 'HouseAge', 'AveRooms', '...']\n",
      "len(dftrain) =  14860\n",
      "len(dfval) =  1652\n",
      "len(dftest) =  4128\n"
     ]
    }
   ],
   "source": [
    "import numpy as np \n",
    "import pandas as pd \n",
    "from sklearn.model_selection import train_test_split\n",
    "\n",
    "file_path = \"california_housing.parquet\"\n",
    "dfdata = pd.read_parquet(file_path)\n",
    "\n",
    "num_cols = ['MedInc', 'HouseAge', 'AveRooms', 'AveBedrms', 'Population', 'AveOccup',\n",
    "       'Latitude', 'Longitude']\n",
    "cat_cols = []\n",
    "target_col = 'MedHouseVal'\n",
    "\n",
    "\n",
    "print(\"dfdata.shape = \",dfdata.shape)\n",
    "print(\"target_col = \", target_col)\n",
    "print('cat_cols = ', cat_cols)  \n",
    "print('num_cols = ', num_cols[:3]+['...'])\n",
    "\n",
    "dftmp, dftest_raw = train_test_split(dfdata, random_state=42, test_size=0.2)\n",
    "dftrain_raw, dfval_raw = train_test_split(dftmp, random_state=42, test_size=0.1)\n",
    "\n",
    "print(\"len(dftrain) = \",len(dftrain_raw))\n",
    "print(\"len(dfval) = \",len(dfval_raw))\n",
    "print(\"len(dftest) = \",len(dftest_raw))\n"
   ]
  },
  {
   "cell_type": "code",
   "execution_count": 3,
   "id": "169703c2",
   "metadata": {},
   "outputs": [],
   "source": [
    "from torchkeras.tabular import TabularPreprocessor\n",
    "from sklearn.preprocessing import OrdinalEncoder\n",
    "\n",
    "#特征工程\n",
    "pipe = TabularPreprocessor(cat_features = cat_cols, \n",
    "                           embedding_features=cat_cols)\n",
    "\n",
    "dftrain = pipe.fit_transform(dftrain_raw.drop(target_col,axis=1))\n",
    "dftrain[target_col] = dftrain_raw[target_col]\n",
    "\n",
    "dfval = pipe.transform(dfval_raw.drop(target_col,axis=1))\n",
    "dfval[target_col] = dfval_raw[target_col]\n",
    "\n",
    "dftest = pipe.transform(dftest_raw.drop(target_col,axis=1))\n",
    "dftest[target_col] = dftest_raw[target_col]\n"
   ]
  },
  {
   "cell_type": "code",
   "execution_count": 4,
   "id": "7768b968",
   "metadata": {},
   "outputs": [],
   "source": [
    "from torchkeras.tabular import TabularDataset\n",
    "from torch.utils.data import Dataset,DataLoader \n",
    "\n",
    "def get_dataset(dfdata):\n",
    "    return TabularDataset(\n",
    "                data = dfdata,\n",
    "                task = 'regression', #regression, binary, multiclass\n",
    "                target = [target_col],\n",
    "                continuous_cols = pipe.get_numeric_features(),\n",
    "                categorical_cols = pipe.get_embedding_features()\n",
    "        )\n",
    "\n",
    "def get_dataloader(ds,batch_size=1024,num_workers=0,shuffle=False):\n",
    "    dl = DataLoader(\n",
    "            ds,\n",
    "            batch_size=batch_size,\n",
    "            shuffle=shuffle,\n",
    "            num_workers=num_workers,\n",
    "            pin_memory=False,\n",
    "        )\n",
    "    return dl \n",
    "    \n",
    "ds_train = get_dataset(dftrain)\n",
    "ds_val = get_dataset(dfval)\n",
    "ds_test = get_dataset(dftest)\n",
    "\n",
    "dl_train = get_dataloader(ds_train,shuffle=True)\n",
    "dl_val = get_dataloader(ds_val,shuffle=False)\n",
    "dl_test = get_dataloader(ds_test,shuffle=False)\n"
   ]
  },
  {
   "cell_type": "code",
   "execution_count": 11,
   "id": "ec009434",
   "metadata": {},
   "outputs": [],
   "source": [
    "for batch in dl_train:\n",
    "    break\n",
    "    "
   ]
  },
  {
   "cell_type": "code",
   "execution_count": 12,
   "id": "4c65b12d-aa68-4103-bbae-8ecc0fd52e83",
   "metadata": {},
   "outputs": [
    {
     "data": {
      "text/plain": [
       "tensor([ 5438,  9242,  6999,  ..., 13178,  7561, 14200])"
      ]
     },
     "execution_count": 12,
     "metadata": {},
     "output_type": "execute_result"
    }
   ],
   "source": [
    "batch['id']"
   ]
  },
  {
   "cell_type": "markdown",
   "id": "bb2f0170",
   "metadata": {},
   "source": [
    "## 二，定义模型"
   ]
  },
  {
   "cell_type": "code",
   "execution_count": 40,
   "id": "64901291-6ff3-4cd8-90e4-9bd36e91e401",
   "metadata": {
    "editable": true,
    "slideshow": {
     "slide_type": ""
    },
    "tags": []
   },
   "outputs": [],
   "source": [
    "from torchkeras.tabular.models import FTTransformerConfig,FTTransformerModel\n",
    "\n",
    "model_config = FTTransformerConfig(\n",
    "    task=\"regression\",  #regression, binary, multiclass\n",
    "    num_attn_blocks=4\n",
    ")\n",
    "\n",
    "config = model_config.merge_dataset_config(ds_train)\n",
    "net = FTTransformerModel(config = config)\n",
    "\n",
    "# 考虑到房屋价格总是正的，将模型的Head重置为PoissonHead (激活函数为torch.exp)\n",
    "# 将模型的 Loss重置为 PoissonLoss \n",
    "\"\"\"\n",
    "class PoissonHead(nn.Module):\n",
    "    def __init__(self,in_features,out_features):\n",
    "        super().__init__()\n",
    "        self.linear = nn.Linear(in_features = in_features,out_features=out_features)    \n",
    "    def forward(self,x):\n",
    "        return torch.exp(self.linear(x))\n",
    "    \n",
    "class PoissonLoss(nn.Module):\n",
    "    def __init__(self):\n",
    "        super(PoissonLoss, self).__init__()\n",
    "        self.loss_fn = nn.PoissonNLLLoss(log_input=False,full=True)\n",
    "\n",
    "    def forward(self, inputs, targets):\n",
    "        loss = self.loss_fn(inputs,targets)\n",
    "        return loss.mean()\n",
    "    \n",
    "print(net.backbone.output_dim)\n",
    "print(net.hparams.output_dim)\n",
    "\n",
    "net._head  = PoissonHead(in_features=net.backbone.output_dim,\n",
    "                         out_features=net.hparams.output_dim)\n",
    "net.loss = PoissonLoss()\n",
    "\"\"\"\n",
    "\n",
    "net.loss = nn.HuberLoss()\n"
   ]
  },
  {
   "cell_type": "code",
   "execution_count": 41,
   "id": "6947e24f-2468-4c9c-a0a1-28d18225d409",
   "metadata": {
    "editable": true,
    "slideshow": {
     "slide_type": ""
    },
    "tags": []
   },
   "outputs": [
    {
     "name": "stdout",
     "output_type": "stream",
     "text": [
      "32\n",
      "1\n"
     ]
    }
   ],
   "source": [
    "#初始化参数\n",
    "net.reset_weights()\n",
    "net.data_aware_initialization(dl_train)\n",
    "\n",
    "print(net.backbone.output_dim)\n",
    "print(net.hparams.output_dim)"
   ]
  },
  {
   "cell_type": "code",
   "execution_count": 42,
   "id": "7e312c76",
   "metadata": {},
   "outputs": [
    {
     "name": "stdout",
     "output_type": "stream",
     "text": [
      "tensor(1.4124, grad_fn=<AddBackward0>)\n"
     ]
    }
   ],
   "source": [
    "output = net.forward(batch)\n",
    "loss = net.compute_loss(output,batch['target'])\n",
    "print(loss)\n"
   ]
  },
  {
   "cell_type": "code",
   "execution_count": null,
   "id": "c24560be-5197-46f8-90e8-49285a0e5ab0",
   "metadata": {},
   "outputs": [],
   "source": []
  },
  {
   "cell_type": "markdown",
   "id": "22001eaf",
   "metadata": {},
   "source": [
    "## 三，训练模型"
   ]
  },
  {
   "cell_type": "code",
   "execution_count": 43,
   "id": "14bb01e8",
   "metadata": {},
   "outputs": [],
   "source": [
    "from torchkeras import KerasModel \n",
    "from torchkeras.tabular import StepRunner \n",
    "KerasModel.StepRunner = StepRunner \n",
    "\n",
    "\n",
    "import torch \n",
    "from torchmetrics import MeanAbsoluteError \n",
    "\n",
    "keras_model = KerasModel(net,\n",
    "                   loss_fn=None,\n",
    "                   optimizer = torch.optim.AdamW(net.parameters(),lr = 3e-4),\n",
    "                   metrics_dict = {\"mae\":MeanAbsoluteError()}\n",
    "                   )"
   ]
  },
  {
   "cell_type": "code",
   "execution_count": 44,
   "id": "08f4ad31",
   "metadata": {},
   "outputs": [
    {
     "name": "stdout",
     "output_type": "stream",
     "text": [
      "\u001b[0;31m<<<<<< 🚀 mps is used >>>>>>\u001b[0m\n"
     ]
    },
    {
     "data": {
      "image/png": "[encoded data removed]",
      "text/plain": [
       "<Figure size 600x400 with 1 Axes>"
      ]
     },
     "metadata": {},
     "output_type": "display_data"
    },
    {
     "data": {
      "text/html": [
       "\n",
       "<style>\n",
       "    /* background: */\n",
       "    progress::-webkit-progress-bar {background-color: #CDCDCD; width: 100%;}\n",
       "    progress {background-color: #CDCDCD;}\n",
       "\n",
       "    /* value: */\n",
       "    progress::-webkit-progress-value {background-color: #00BFFF  !important;}\n",
       "    progress::-moz-progress-bar {background-color: #00BFFF  !important;}\n",
       "    progress {color: #00BFFF ;}\n",
       "\n",
       "    /* optional */\n",
       "    .progress-bar-interrupted, .progress-bar-interrupted::-webkit-progress-bar {\n",
       "        background: #000000;\n",
       "    }\n",
       "</style>\n"
      ],
      "text/plain": [
       "<IPython.core.display.HTML object>"
      ]
     },
     "metadata": {},
     "output_type": "display_data"
    },
    {
     "data": {
      "text/html": [
       "\n",
       "    <div>\n",
       "      <progress value='99' class='progress-bar-interrupted' max='100' style='width:300px; height:20px; vertical-align: middle;'></progress>\n",
       "      99.00% [99/100] [02:25<00:01]\n",
       "      <br>\n",
       "      ████████████████████100.00% [2/2] [val_loss=0.1268, val_mae=0.3601]\n",
       "    </div>\n",
       "    "
      ],
      "text/plain": [
       "<IPython.core.display.HTML object>"
      ]
     },
     "metadata": {},
     "output_type": "display_data"
    },
    {
     "name": "stdout",
     "output_type": "stream",
     "text": [
      "\u001b[0;31m<<<<<< val_mae without improvement in 10 epoch,early stopping >>>>>> \n",
      "\u001b[0m\n"
     ]
    }
   ],
   "source": [
    "dfhistory = keras_model.fit(\n",
    "    train_data = dl_train,\n",
    "    val_data= dl_val,\n",
    "    ckpt_path='checkpoint',\n",
    "    epochs=100,\n",
    "    patience=10,\n",
    "    monitor=\"val_mae\", \n",
    "    mode=\"min\",\n",
    "    plot = True,\n",
    "    wandb = False\n",
    ")"
   ]
  },
  {
   "cell_type": "markdown",
   "id": "092528f3",
   "metadata": {},
   "source": [
    "## 四，评估模型"
   ]
  },
  {
   "cell_type": "code",
   "execution_count": 20,
   "id": "15693dba",
   "metadata": {},
   "outputs": [
    {
     "name": "stdout",
     "output_type": "stream",
     "text": [
      "100%|████████████████████████████████| 15/15 [00:00<00:00, 29.20it/s, val_loss=0.196, val_mae=0.296]\n"
     ]
    },
    {
     "data": {
      "text/plain": [
       "{'val_loss': 0.19550365308920542, 'val_mae': 0.2955344617366791}"
      ]
     },
     "execution_count": 20,
     "metadata": {},
     "output_type": "execute_result"
    }
   ],
   "source": [
    "keras_model.evaluate(dl_train)"
   ]
  },
  {
   "cell_type": "code",
   "execution_count": 21,
   "id": "4f52f49a",
   "metadata": {},
   "outputs": [
    {
     "name": "stdout",
     "output_type": "stream",
     "text": [
      "100%|██████████████████████████████████| 2/2 [00:00<00:00, 15.72it/s, val_loss=0.266, val_mae=0.329]\n"
     ]
    },
    {
     "data": {
      "text/plain": [
       "{'val_loss': 0.26627758145332336, 'val_mae': 0.3290509581565857}"
      ]
     },
     "execution_count": 21,
     "metadata": {},
     "output_type": "execute_result"
    }
   ],
   "source": [
    "keras_model.evaluate(dl_val)"
   ]
  },
  {
   "cell_type": "code",
   "execution_count": 22,
   "id": "6050f49a",
   "metadata": {},
   "outputs": [
    {
     "name": "stdout",
     "output_type": "stream",
     "text": [
      "100%|███████████████████████████████████| 5/5 [00:00<00:00, 25.20it/s, val_loss=0.224, val_mae=0.32]\n"
     ]
    },
    {
     "data": {
      "text/plain": [
       "{'val_loss': 0.22361865341663362, 'val_mae': 0.3199106752872467}"
      ]
     },
     "execution_count": 22,
     "metadata": {},
     "output_type": "execute_result"
    }
   ],
   "source": [
    "keras_model.evaluate(dl_test)"
   ]
  },
  {
   "cell_type": "markdown",
   "id": "ced7f651",
   "metadata": {},
   "source": [
    "## 五，使用模型"
   ]
  },
  {
   "cell_type": "code",
   "execution_count": 23,
   "id": "0c3f0dd5",
   "metadata": {},
   "outputs": [
    {
     "data": {
      "application/vnd.jupyter.widget-view+json": {
       "model_id": "14ee6f1835734ce1b4c71fe32f868ebb",
       "version_major": 2,
       "version_minor": 0
      },
      "text/plain": [
       "  0%|          | 0/2 [00:00<?, ?it/s]"
      ]
     },
     "metadata": {},
     "output_type": "display_data"
    },
    {
     "data": {
      "application/vnd.jupyter.widget-view+json": {
       "model_id": "e684c846a1514380b185d08c4a8027c9",
       "version_major": 2,
       "version_minor": 0
      },
      "text/plain": [
       "  0%|          | 0/5 [00:00<?, ?it/s]"
      ]
     },
     "metadata": {},
     "output_type": "display_data"
    },
    {
     "name": "stdout",
     "output_type": "stream",
     "text": [
      "val_acc =  0.843709693736275\n",
      "test_acc =  0.8443259525697211\n"
     ]
    }
   ],
   "source": [
    "from tqdm.auto import tqdm \n",
    "\n",
    "dl_val = keras_model.accelerator.prepare(dl_val)\n",
    "dl_test = keras_model.accelerator.prepare(dl_test)\n",
    "net.eval()\n",
    "\n",
    "def predict(net, dl):\n",
    "    net.eval() \n",
    "    preds = []\n",
    "    with torch.no_grad():\n",
    "        for batch in tqdm(dl):\n",
    "            preds.append(net.predict(batch))\n",
    "    yhat_list = [yi for yd in preds for yi in yd.cpu()]\n",
    "    yhat = np.array(yhat_list).reshape(-1,)\n",
    "    return yhat \n",
    "    \n",
    "\n",
    "def accuracy_score(yhat,y):\n",
    "    total_diff = np.abs(yhat - y).sum()\n",
    "    total_gt = y.sum()\n",
    "    return  1.0  - total_diff/total_gt \n",
    "\n",
    "yhat_val = predict(net,dl_val)\n",
    "yhat_test = predict(net,dl_test)\n",
    "\n",
    "\n",
    "val_acc = accuracy_score(yhat_val,dfval[target_col])\n",
    "test_acc = accuracy_score(yhat_test,dftest[target_col])\n",
    "\n",
    "print('val_acc = ', val_acc)\n",
    "print('test_acc = ', test_acc)\n",
    "\n"
   ]
  },
  {
   "cell_type": "code",
   "execution_count": 27,
   "id": "f400aaa8-cde1-44dc-91c2-353e295b19c5",
   "metadata": {},
   "outputs": [],
   "source": [
    "from torch import nn "
   ]
  },
  {
   "cell_type": "markdown",
   "id": "8bd458bc",
   "metadata": {},
   "source": [
    "## 六，保存模型"
   ]
  },
  {
   "cell_type": "markdown",
   "id": "84fd68e5",
   "metadata": {},
   "source": [
    "最佳模型权重已经保存在ckpt_path = 'checkpoint'位置了。"
   ]
  },
  {
   "cell_type": "code",
   "execution_count": null,
   "id": "039d1fd4",
   "metadata": {},
   "outputs": [],
   "source": [
    "net.load_state_dict(torch.load('checkpoint',weights_only=True))"
   ]
  }
 ],
 "metadata": {
  "kaggle": {
   "accelerator": "gpu",
   "dataSources": [],
   "dockerImageVersionId": 30747,
   "isGpuEnabled": true,
   "isInternetEnabled": true,
   "language": "python",
   "sourceType": "notebook"
  },
  "kernelspec": {
   "display_name": "Python 3 (ipykernel)",
   "language": "python",
   "name": "python3"
  },
  "language_info": {
   "codemirror_mode": {
    "name": "ipython",
    "version": 3
   },
   "file_extension": ".py",
   "mimetype": "text/x-python",
   "name": "python",
   "nbconvert_exporter": "python",
   "pygments_lexer": "ipython3",
   "version": "3.10.14"
  }
 },
 "nbformat": 4,
 "nbformat_minor": 5
}
